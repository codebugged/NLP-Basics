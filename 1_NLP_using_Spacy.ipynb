{
  "nbformat": 4,
  "nbformat_minor": 0,
  "metadata": {
    "colab": {
      "name": "1. NLP using Spacy.ipynb",
      "provenance": [],
      "collapsed_sections": []
    },
    "kernelspec": {
      "name": "python3",
      "display_name": "Python 3"
    },
    "language_info": {
      "name": "python"
    }
  },
  "cells": [
    {
      "cell_type": "markdown",
      "metadata": {
        "id": "RjED5C9Ay6MC"
      },
      "source": [
        "# Day 1"
      ]
    },
    {
      "cell_type": "code",
      "metadata": {
        "id": "_QpCFjus0XLl"
      },
      "source": [
        "import spacy"
      ],
      "execution_count": null,
      "outputs": []
    },
    {
      "cell_type": "code",
      "metadata": {
        "id": "iAAqCu2j0sj4"
      },
      "source": [
        "nlp = spacy.load('en_core_web_sm')"
      ],
      "execution_count": null,
      "outputs": []
    },
    {
      "cell_type": "code",
      "metadata": {
        "id": "CnziSy0C1Dkj"
      },
      "source": [
        "doc = nlp(\"Tea is healthy and calming, don't you think?\") "
      ],
      "execution_count": null,
      "outputs": []
    },
    {
      "cell_type": "code",
      "metadata": {
        "colab": {
          "base_uri": "https://localhost:8080/"
        },
        "id": "4SfcKFH91clL",
        "outputId": "2f8b8c97-4b6f-4359-f3f3-d65ac32304bd"
      },
      "source": [
        "for token in doc:\n",
        "  print(token)"
      ],
      "execution_count": null,
      "outputs": [
        {
          "output_type": "stream",
          "text": [
            "Tea\n",
            "is\n",
            "healthy\n",
            "and\n",
            "calming\n",
            ",\n",
            "do\n",
            "n't\n",
            "you\n",
            "think\n",
            "?\n"
          ],
          "name": "stdout"
        }
      ]
    },
    {
      "cell_type": "code",
      "metadata": {
        "colab": {
          "base_uri": "https://localhost:8080/"
        },
        "id": "rUuzSKQ11eRL",
        "outputId": "d04be937-c518-485d-c20f-e85fcd79c1f0"
      },
      "source": [
        "print(f\"Token \\t\\tLemma \\t\\tStopword\". format('Token', 'Lemma', 'Stopword'))\n",
        "print(\"----\"*10)\n",
        "for token in doc:\n",
        "  print(f\"{str(token)}\\t\\t{token.lemma_}\\t\\t{token.is_stop}\")"
      ],
      "execution_count": null,
      "outputs": [
        {
          "output_type": "stream",
          "text": [
            "Token \t\tLemma \t\tStopword\n",
            "----------------------------------------\n",
            "Tea\t\ttea\t\tFalse\n",
            "is\t\tbe\t\tTrue\n",
            "healthy\t\thealthy\t\tFalse\n",
            "and\t\tand\t\tTrue\n",
            "calming\t\tcalm\t\tFalse\n",
            ",\t\t,\t\tFalse\n",
            "do\t\tdo\t\tTrue\n",
            "n't\t\tnot\t\tTrue\n",
            "you\t\t-PRON-\t\tTrue\n",
            "think\t\tthink\t\tFalse\n",
            "?\t\t?\t\tFalse\n"
          ],
          "name": "stdout"
        }
      ]
    },
    {
      "cell_type": "markdown",
      "metadata": {
        "id": "Oqjc61vMBOET"
      },
      "source": [
        "## Day 2"
      ]
    },
    {
      "cell_type": "code",
      "metadata": {
        "id": "eobJVKzX8fSB"
      },
      "source": [
        "from spacy.matcher import PhraseMatcher"
      ],
      "execution_count": null,
      "outputs": []
    },
    {
      "cell_type": "code",
      "metadata": {
        "id": "ozUaZ_KxAkJB"
      },
      "source": [
        "matcher = PhraseMatcher(nlp.vocab, attr='LOWER')"
      ],
      "execution_count": null,
      "outputs": []
    },
    {
      "cell_type": "code",
      "metadata": {
        "id": "zpZiUxQBAqM-"
      },
      "source": [
        "terms1 = ['Galaxy Note','iPhone 11']"
      ],
      "execution_count": null,
      "outputs": []
    },
    {
      "cell_type": "code",
      "metadata": {
        "id": "kldkAk30r2_w"
      },
      "source": [
        "terms2 = ['iPhone XS','Google Pixel']"
      ],
      "execution_count": null,
      "outputs": []
    },
    {
      "cell_type": "code",
      "metadata": {
        "id": "u8Y8f0l-COtF"
      },
      "source": [
        "patterns1 = [nlp(text) for text in terms1]"
      ],
      "execution_count": null,
      "outputs": []
    },
    {
      "cell_type": "code",
      "metadata": {
        "id": "4HCt2sfMsBB-"
      },
      "source": [
        "patterns2 = [nlp(text) for text in terms2]"
      ],
      "execution_count": null,
      "outputs": []
    },
    {
      "cell_type": "code",
      "metadata": {
        "id": "UHHH7ZpnGHDb"
      },
      "source": [
        "matcher.add(\"A\",patterns1) ## Match id is A"
      ],
      "execution_count": null,
      "outputs": []
    },
    {
      "cell_type": "code",
      "metadata": {
        "id": "EZ-490UtsHG3"
      },
      "source": [
        "matcher.add(\"B\",patterns2) ## Match id is B"
      ],
      "execution_count": null,
      "outputs": []
    },
    {
      "cell_type": "code",
      "metadata": {
        "id": "t1Rynrl5HDfK"
      },
      "source": [
        "text_doc = nlp(\"Glowing review overall, and some really interesting side-by-side \"\n",
        "                \"photography tests pitting the iPhone 11 Pro against the \"\n",
        "                \"Galaxy Note 10 Plus and last year’s iPhone XS and Google Pixel 3 .\")"
      ],
      "execution_count": null,
      "outputs": []
    },
    {
      "cell_type": "code",
      "metadata": {
        "colab": {
          "base_uri": "https://localhost:8080/"
        },
        "id": "f9pPeXLvHvl7",
        "outputId": "5c3ac38d-25a8-4e29-b3fd-c80991c3f39f"
      },
      "source": [
        "for token in text_doc:\n",
        "  print(token)"
      ],
      "execution_count": null,
      "outputs": [
        {
          "output_type": "stream",
          "text": [
            "Glowing\n",
            "review\n",
            "overall\n",
            ",\n",
            "and\n",
            "some\n",
            "really\n",
            "interesting\n",
            "side\n",
            "-\n",
            "by\n",
            "-\n",
            "side\n",
            "photography\n",
            "tests\n",
            "pitting\n",
            "the\n",
            "iPhone\n",
            "11\n",
            "Pro\n",
            "against\n",
            "the\n",
            "Galaxy\n",
            "Note\n",
            "10\n",
            "Plus\n",
            "and\n",
            "last\n",
            "year\n",
            "’s\n",
            "iPhone\n",
            "XS\n",
            "and\n",
            "Google\n",
            "Pixel\n",
            "3\n",
            ".\n"
          ],
          "name": "stdout"
        }
      ]
    },
    {
      "cell_type": "code",
      "metadata": {
        "id": "rp0O_axaHEZy"
      },
      "source": [
        "matches = matcher(text_doc)  ##Match is for id 'A'"
      ],
      "execution_count": null,
      "outputs": []
    },
    {
      "cell_type": "code",
      "metadata": {
        "colab": {
          "base_uri": "https://localhost:8080/"
        },
        "id": "r0svMH-RH6fu",
        "outputId": "d390537c-9575-4a0f-bcac-4f3877e4b766"
      },
      "source": [
        "print(matches)"
      ],
      "execution_count": null,
      "outputs": [
        {
          "output_type": "stream",
          "text": [
            "[(14862748245026736845, 17, 19), (14862748245026736845, 22, 24), (14230521632333904559, 30, 32), (14230521632333904559, 33, 35)]\n"
          ],
          "name": "stdout"
        }
      ]
    },
    {
      "cell_type": "code",
      "metadata": {
        "id": "WsHLeg4eH8JJ"
      },
      "source": [
        "match_id, start, end = matches[2]"
      ],
      "execution_count": null,
      "outputs": []
    },
    {
      "cell_type": "code",
      "metadata": {
        "colab": {
          "base_uri": "https://localhost:8080/"
        },
        "id": "aMyzVI1kJWba",
        "outputId": "407363b1-1263-4a5d-ce9a-401db408bb8f"
      },
      "source": [
        "match_id"
      ],
      "execution_count": null,
      "outputs": [
        {
          "output_type": "execute_result",
          "data": {
            "text/plain": [
              "14230521632333904559"
            ]
          },
          "metadata": {
            "tags": []
          },
          "execution_count": 19
        }
      ]
    },
    {
      "cell_type": "code",
      "metadata": {
        "colab": {
          "base_uri": "https://localhost:8080/"
        },
        "id": "LYUbfLSKJX9z",
        "outputId": "fdf877c1-41fd-4005-d840-33dc9665d82f"
      },
      "source": [
        "start"
      ],
      "execution_count": null,
      "outputs": [
        {
          "output_type": "execute_result",
          "data": {
            "text/plain": [
              "30"
            ]
          },
          "metadata": {
            "tags": []
          },
          "execution_count": 20
        }
      ]
    },
    {
      "cell_type": "code",
      "metadata": {
        "colab": {
          "base_uri": "https://localhost:8080/"
        },
        "id": "VhCr-mAgJaN1",
        "outputId": "f9f3a877-4e89-4bac-8cee-b8ea9a6aa25a"
      },
      "source": [
        "end "
      ],
      "execution_count": null,
      "outputs": [
        {
          "output_type": "execute_result",
          "data": {
            "text/plain": [
              "32"
            ]
          },
          "metadata": {
            "tags": []
          },
          "execution_count": 21
        }
      ]
    },
    {
      "cell_type": "code",
      "metadata": {
        "colab": {
          "base_uri": "https://localhost:8080/"
        },
        "id": "hLyS3j-BJbTk",
        "outputId": "4e03c6ac-1e89-4fd2-8707-4e16bbb9d2a8"
      },
      "source": [
        "print(text_doc[start:end])"
      ],
      "execution_count": null,
      "outputs": [
        {
          "output_type": "stream",
          "text": [
            "iPhone XS\n"
          ],
          "name": "stdout"
        }
      ]
    },
    {
      "cell_type": "code",
      "metadata": {
        "colab": {
          "base_uri": "https://localhost:8080/"
        },
        "id": "PrR_5zLhrd3G",
        "outputId": "4f70fe18-62bc-4aa8-aadc-e79ba3129685"
      },
      "source": [
        "print(nlp.vocab.strings[match_id])"
      ],
      "execution_count": null,
      "outputs": [
        {
          "output_type": "stream",
          "text": [
            "B\n"
          ],
          "name": "stdout"
        }
      ]
    },
    {
      "cell_type": "code",
      "metadata": {
        "colab": {
          "base_uri": "https://localhost:8080/"
        },
        "id": "FSRyp3wgrxJg",
        "outputId": "29d87dce-df20-419a-9860-fc78ec5cc3a9"
      },
      "source": [
        "ls"
      ],
      "execution_count": null,
      "outputs": [
        {
          "output_type": "stream",
          "text": [
            "\u001b[0m\u001b[01;34msample_data\u001b[0m/  spam3.csv\n"
          ],
          "name": "stdout"
        }
      ]
    },
    {
      "cell_type": "markdown",
      "metadata": {
        "id": "Jd4v_o_hCzYk"
      },
      "source": [
        "## Day 3\n",
        "## Text classification"
      ]
    },
    {
      "cell_type": "code",
      "metadata": {
        "id": "g1ymUtd-zeqv"
      },
      "source": [
        "import pandas as pd"
      ],
      "execution_count": null,
      "outputs": []
    },
    {
      "cell_type": "code",
      "metadata": {
        "id": "Mh39u3N-CxUU"
      },
      "source": [
        "data = pd.read_csv('spam3.csv',encoding='cp437')"
      ],
      "execution_count": null,
      "outputs": []
    },
    {
      "cell_type": "code",
      "metadata": {
        "colab": {
          "base_uri": "https://localhost:8080/",
          "height": 362
        },
        "id": "diMFOEOVDCAA",
        "outputId": "52b64cfd-a819-478a-a7cb-66ffab341a04"
      },
      "source": [
        "data.head(10)"
      ],
      "execution_count": null,
      "outputs": [
        {
          "output_type": "execute_result",
          "data": {
            "text/html": [
              "<div>\n",
              "<style scoped>\n",
              "    .dataframe tbody tr th:only-of-type {\n",
              "        vertical-align: middle;\n",
              "    }\n",
              "\n",
              "    .dataframe tbody tr th {\n",
              "        vertical-align: top;\n",
              "    }\n",
              "\n",
              "    .dataframe thead th {\n",
              "        text-align: right;\n",
              "    }\n",
              "</style>\n",
              "<table border=\"1\" class=\"dataframe\">\n",
              "  <thead>\n",
              "    <tr style=\"text-align: right;\">\n",
              "      <th></th>\n",
              "      <th>v1</th>\n",
              "      <th>v2</th>\n",
              "      <th>Unnamed: 2</th>\n",
              "      <th>Unnamed: 3</th>\n",
              "      <th>Unnamed: 4</th>\n",
              "    </tr>\n",
              "  </thead>\n",
              "  <tbody>\n",
              "    <tr>\n",
              "      <th>0</th>\n",
              "      <td>ham</td>\n",
              "      <td>Go until jurong point, crazy.. Available only ...</td>\n",
              "      <td>NaN</td>\n",
              "      <td>NaN</td>\n",
              "      <td>NaN</td>\n",
              "    </tr>\n",
              "    <tr>\n",
              "      <th>1</th>\n",
              "      <td>ham</td>\n",
              "      <td>Ok lar... Joking wif u oni...</td>\n",
              "      <td>NaN</td>\n",
              "      <td>NaN</td>\n",
              "      <td>NaN</td>\n",
              "    </tr>\n",
              "    <tr>\n",
              "      <th>2</th>\n",
              "      <td>spam</td>\n",
              "      <td>Free entry in 2 a wkly comp to win FA Cup fina...</td>\n",
              "      <td>NaN</td>\n",
              "      <td>NaN</td>\n",
              "      <td>NaN</td>\n",
              "    </tr>\n",
              "    <tr>\n",
              "      <th>3</th>\n",
              "      <td>ham</td>\n",
              "      <td>U dun say so early hor... U c already then say...</td>\n",
              "      <td>NaN</td>\n",
              "      <td>NaN</td>\n",
              "      <td>NaN</td>\n",
              "    </tr>\n",
              "    <tr>\n",
              "      <th>4</th>\n",
              "      <td>ham</td>\n",
              "      <td>Nah I don't think he goes to usf, he lives aro...</td>\n",
              "      <td>NaN</td>\n",
              "      <td>NaN</td>\n",
              "      <td>NaN</td>\n",
              "    </tr>\n",
              "    <tr>\n",
              "      <th>5</th>\n",
              "      <td>spam</td>\n",
              "      <td>FreeMsg Hey there darling it's been 3 week's n...</td>\n",
              "      <td>NaN</td>\n",
              "      <td>NaN</td>\n",
              "      <td>NaN</td>\n",
              "    </tr>\n",
              "    <tr>\n",
              "      <th>6</th>\n",
              "      <td>ham</td>\n",
              "      <td>Even my brother is not like to speak with me. ...</td>\n",
              "      <td>NaN</td>\n",
              "      <td>NaN</td>\n",
              "      <td>NaN</td>\n",
              "    </tr>\n",
              "    <tr>\n",
              "      <th>7</th>\n",
              "      <td>ham</td>\n",
              "      <td>As per your request 'Melle Melle (Oru Minnamin...</td>\n",
              "      <td>NaN</td>\n",
              "      <td>NaN</td>\n",
              "      <td>NaN</td>\n",
              "    </tr>\n",
              "    <tr>\n",
              "      <th>8</th>\n",
              "      <td>spam</td>\n",
              "      <td>WINNER!! As a valued network customer you have...</td>\n",
              "      <td>NaN</td>\n",
              "      <td>NaN</td>\n",
              "      <td>NaN</td>\n",
              "    </tr>\n",
              "    <tr>\n",
              "      <th>9</th>\n",
              "      <td>spam</td>\n",
              "      <td>Had your mobile 11 months or more? U R entitle...</td>\n",
              "      <td>NaN</td>\n",
              "      <td>NaN</td>\n",
              "      <td>NaN</td>\n",
              "    </tr>\n",
              "  </tbody>\n",
              "</table>\n",
              "</div>"
            ],
            "text/plain": [
              "     v1  ... Unnamed: 4\n",
              "0   ham  ...        NaN\n",
              "1   ham  ...        NaN\n",
              "2  spam  ...        NaN\n",
              "3   ham  ...        NaN\n",
              "4   ham  ...        NaN\n",
              "5  spam  ...        NaN\n",
              "6   ham  ...        NaN\n",
              "7   ham  ...        NaN\n",
              "8  spam  ...        NaN\n",
              "9  spam  ...        NaN\n",
              "\n",
              "[10 rows x 5 columns]"
            ]
          },
          "metadata": {
            "tags": []
          },
          "execution_count": 11
        }
      ]
    },
    {
      "cell_type": "code",
      "metadata": {
        "id": "uat8lykdDFGk"
      },
      "source": [
        "data = data[['v1','v2']]"
      ],
      "execution_count": null,
      "outputs": []
    },
    {
      "cell_type": "code",
      "metadata": {
        "colab": {
          "base_uri": "https://localhost:8080/",
          "height": 362
        },
        "id": "URo27U1RDLzP",
        "outputId": "f298ecce-a177-4bf4-b61d-ebc5a24f00de"
      },
      "source": [
        "data.head(10)"
      ],
      "execution_count": null,
      "outputs": [
        {
          "output_type": "execute_result",
          "data": {
            "text/html": [
              "<div>\n",
              "<style scoped>\n",
              "    .dataframe tbody tr th:only-of-type {\n",
              "        vertical-align: middle;\n",
              "    }\n",
              "\n",
              "    .dataframe tbody tr th {\n",
              "        vertical-align: top;\n",
              "    }\n",
              "\n",
              "    .dataframe thead th {\n",
              "        text-align: right;\n",
              "    }\n",
              "</style>\n",
              "<table border=\"1\" class=\"dataframe\">\n",
              "  <thead>\n",
              "    <tr style=\"text-align: right;\">\n",
              "      <th></th>\n",
              "      <th>v1</th>\n",
              "      <th>v2</th>\n",
              "    </tr>\n",
              "  </thead>\n",
              "  <tbody>\n",
              "    <tr>\n",
              "      <th>0</th>\n",
              "      <td>ham</td>\n",
              "      <td>Go until jurong point, crazy.. Available only ...</td>\n",
              "    </tr>\n",
              "    <tr>\n",
              "      <th>1</th>\n",
              "      <td>ham</td>\n",
              "      <td>Ok lar... Joking wif u oni...</td>\n",
              "    </tr>\n",
              "    <tr>\n",
              "      <th>2</th>\n",
              "      <td>spam</td>\n",
              "      <td>Free entry in 2 a wkly comp to win FA Cup fina...</td>\n",
              "    </tr>\n",
              "    <tr>\n",
              "      <th>3</th>\n",
              "      <td>ham</td>\n",
              "      <td>U dun say so early hor... U c already then say...</td>\n",
              "    </tr>\n",
              "    <tr>\n",
              "      <th>4</th>\n",
              "      <td>ham</td>\n",
              "      <td>Nah I don't think he goes to usf, he lives aro...</td>\n",
              "    </tr>\n",
              "    <tr>\n",
              "      <th>5</th>\n",
              "      <td>spam</td>\n",
              "      <td>FreeMsg Hey there darling it's been 3 week's n...</td>\n",
              "    </tr>\n",
              "    <tr>\n",
              "      <th>6</th>\n",
              "      <td>ham</td>\n",
              "      <td>Even my brother is not like to speak with me. ...</td>\n",
              "    </tr>\n",
              "    <tr>\n",
              "      <th>7</th>\n",
              "      <td>ham</td>\n",
              "      <td>As per your request 'Melle Melle (Oru Minnamin...</td>\n",
              "    </tr>\n",
              "    <tr>\n",
              "      <th>8</th>\n",
              "      <td>spam</td>\n",
              "      <td>WINNER!! As a valued network customer you have...</td>\n",
              "    </tr>\n",
              "    <tr>\n",
              "      <th>9</th>\n",
              "      <td>spam</td>\n",
              "      <td>Had your mobile 11 months or more? U R entitle...</td>\n",
              "    </tr>\n",
              "  </tbody>\n",
              "</table>\n",
              "</div>"
            ],
            "text/plain": [
              "     v1                                                 v2\n",
              "0   ham  Go until jurong point, crazy.. Available only ...\n",
              "1   ham                      Ok lar... Joking wif u oni...\n",
              "2  spam  Free entry in 2 a wkly comp to win FA Cup fina...\n",
              "3   ham  U dun say so early hor... U c already then say...\n",
              "4   ham  Nah I don't think he goes to usf, he lives aro...\n",
              "5  spam  FreeMsg Hey there darling it's been 3 week's n...\n",
              "6   ham  Even my brother is not like to speak with me. ...\n",
              "7   ham  As per your request 'Melle Melle (Oru Minnamin...\n",
              "8  spam  WINNER!! As a valued network customer you have...\n",
              "9  spam  Had your mobile 11 months or more? U R entitle..."
            ]
          },
          "metadata": {
            "tags": []
          },
          "execution_count": 13
        }
      ]
    },
    {
      "cell_type": "code",
      "metadata": {
        "id": "e3OJwgiCDNcw"
      },
      "source": [
        "import spacy"
      ],
      "execution_count": null,
      "outputs": []
    },
    {
      "cell_type": "code",
      "metadata": {
        "id": "Ijm0fktnDbyu"
      },
      "source": [
        "#create an empty model\n",
        "nlp = spacy.blank(\"en\")"
      ],
      "execution_count": null,
      "outputs": []
    },
    {
      "cell_type": "code",
      "metadata": {
        "id": "YWPk1JYGDrX_"
      },
      "source": [
        "textcat = nlp.create_pipe(  \n",
        "    \"textcat\", config={\"exclusive_classes\": True,\n",
        "    \"architecture\":\"bow\"})"
      ],
      "execution_count": null,
      "outputs": []
    },
    {
      "cell_type": "code",
      "metadata": {
        "id": "CvP5GqDoMvZW"
      },
      "source": [
        "nlp.add_pipe(textcat)"
      ],
      "execution_count": null,
      "outputs": []
    },
    {
      "cell_type": "code",
      "metadata": {
        "colab": {
          "base_uri": "https://localhost:8080/"
        },
        "id": "qNQG19mRM37N",
        "outputId": "5716a475-d6b2-4ab9-9269-0736abac465f"
      },
      "source": [
        "textcat.add_label(\"ham\")\n",
        "textcat.add_label(\"spam\")"
      ],
      "execution_count": null,
      "outputs": [
        {
          "output_type": "execute_result",
          "data": {
            "text/plain": [
              "1"
            ]
          },
          "metadata": {
            "tags": []
          },
          "execution_count": 34
        }
      ]
    },
    {
      "cell_type": "code",
      "metadata": {
        "id": "4FzyoDYhNB_3"
      },
      "source": [
        "train_texts = data['v2'].values"
      ],
      "execution_count": null,
      "outputs": []
    },
    {
      "cell_type": "code",
      "metadata": {
        "id": "pHrO8g7GNQMw"
      },
      "source": [
        "train_labels = [{'cats':{'ham':label=='ham',\n",
        "                         'spam': label=='spam'}}\n",
        "                for label in data['v1']]"
      ],
      "execution_count": null,
      "outputs": []
    },
    {
      "cell_type": "code",
      "metadata": {
        "id": "CXC6LNgFNtFi"
      },
      "source": [
        "train_data = list(zip(train_texts, train_labels))"
      ],
      "execution_count": null,
      "outputs": []
    },
    {
      "cell_type": "code",
      "metadata": {
        "colab": {
          "base_uri": "https://localhost:8080/"
        },
        "id": "YpnKraZw2JBy",
        "outputId": "f2bab06d-964a-480e-e8ec-06a4365114bc"
      },
      "source": [
        "train_data"
      ],
      "execution_count": null,
      "outputs": [
        {
          "output_type": "execute_result",
          "data": {
            "text/plain": [
              "[('Go until jurong point, crazy.. Available only in bugis n great world la e buffet... Cine there got amore wat...',\n",
              "  {'cats': {'ham': True, 'spam': False}}),\n",
              " ('Ok lar... Joking wif u oni...', {'cats': {'ham': True, 'spam': False}}),\n",
              " (\"Free entry in 2 a wkly comp to win FA Cup final tkts 21st May 2005. Text FA to 87121 to receive entry question(std txt rate)T&C's apply 08452810075over18's\",\n",
              "  {'cats': {'ham': False, 'spam': True}}),\n",
              " ('U dun say so early hor... U c already then say...',\n",
              "  {'cats': {'ham': True, 'spam': False}}),\n",
              " (\"Nah I don't think he goes to usf, he lives around here though\",\n",
              "  {'cats': {'ham': True, 'spam': False}}),\n",
              " (\"FreeMsg Hey there darling it's been 3 week's now and no word back! I'd like some fun you up for it still? Tb ok! XxX std chgs to send, σú1.50 to rcv\",\n",
              "  {'cats': {'ham': False, 'spam': True}}),\n",
              " ('Even my brother is not like to speak with me. They treat me like aids patent.',\n",
              "  {'cats': {'ham': True, 'spam': False}}),\n",
              " (\"As per your request 'Melle Melle (Oru Minnaminunginte Nurungu Vettam)' has been set as your callertune for all Callers. Press *9 to copy your friends Callertune\",\n",
              "  {'cats': {'ham': True, 'spam': False}}),\n",
              " ('WINNER!! As a valued network customer you have been selected to receivea σú900 prize reward! To claim call 09061701461. Claim code KL341. Valid 12 hours only.',\n",
              "  {'cats': {'ham': False, 'spam': True}}),\n",
              " ('Had your mobile 11 months or more? U R entitled to Update to the latest colour mobiles with camera for Free! Call The Mobile Update Co FREE on 08002986030',\n",
              "  {'cats': {'ham': False, 'spam': True}}),\n",
              " (\"I'm gonna be home soon and i don't want to talk about this stuff anymore tonight, k? I've cried enough today.\",\n",
              "  {'cats': {'ham': True, 'spam': False}}),\n",
              " ('SIX chances to win CASH! From 100 to 20,000 pounds txt> CSH11 and send to 87575. Cost 150p/day, 6days, 16+ TsandCs apply Reply HL 4 info',\n",
              "  {'cats': {'ham': False, 'spam': True}}),\n",
              " ('URGENT! You have won a 1 week FREE membership in our σú100,000 Prize Jackpot! Txt the word: CLAIM to No: 81010 T&C www.dbuk.net LCCLTD POBOX 4403LDNW1A7RW18',\n",
              "  {'cats': {'ham': False, 'spam': True}}),\n",
              " (\"I've been searching for the right words to thank you for this breather. I promise i wont take your help for granted and will fulfil my promise. You have been wonderful and a blessing at all times.\",\n",
              "  {'cats': {'ham': True, 'spam': False}}),\n",
              " ('I HAVE A DATE ON SUNDAY WITH WILL!!',\n",
              "  {'cats': {'ham': True, 'spam': False}}),\n",
              " ('XXXMobileMovieClub: To use your credit, click the WAP link in the next txt message or click here>> http://wap. xxxmobilemovieclub.com?n=QJKGIGHJJGCBL',\n",
              "  {'cats': {'ham': False, 'spam': True}}),\n",
              " (\"Oh k...i'm watching here:)\", {'cats': {'ham': True, 'spam': False}}),\n",
              " ('Eh u remember how 2 spell his name... Yes i did. He v naughty make until i v wet.',\n",
              "  {'cats': {'ham': True, 'spam': False}}),\n",
              " ('Fine if thatσ╒s the way u feel. Thatσ╒s the way its gota b',\n",
              "  {'cats': {'ham': True, 'spam': False}}),\n",
              " ('England v Macedonia - dont miss the goals/team news. Txt ur national team to 87077 eg ENGLAND to 87077 Try:WALES, SCOTLAND 4txt/╠╝1.20 POBOXox36504W45WQ 16+',\n",
              "  {'cats': {'ham': False, 'spam': True}}),\n",
              " ('Is that seriously how you spell his name?',\n",
              "  {'cats': {'ham': True, 'spam': False}}),\n",
              " ('Ië█≈m going to try for 2 months ha ha only joking',\n",
              "  {'cats': {'ham': True, 'spam': False}}),\n",
              " ('So ╠_ pay first lar... Then when is da stock comin...',\n",
              "  {'cats': {'ham': True, 'spam': False}}),\n",
              " ('Aft i finish my lunch then i go str down lor. Ard 3 smth lor. U finish ur lunch already?',\n",
              "  {'cats': {'ham': True, 'spam': False}}),\n",
              " ('Ffffffffff. Alright no way I can meet up with you sooner?',\n",
              "  {'cats': {'ham': True, 'spam': False}}),\n",
              " (\"Just forced myself to eat a slice. I'm really not hungry tho. This sucks. Mark is getting worried. He knows I'm sick when I turn down pizza. Lol\",\n",
              "  {'cats': {'ham': True, 'spam': False}}),\n",
              " ('Lol your always so convincing.', {'cats': {'ham': True, 'spam': False}}),\n",
              " (\"Did you catch the bus ? Are you frying an egg ? Did you make a tea? Are you eating your mom's left over dinner ? Do you feel my Love ?\",\n",
              "  {'cats': {'ham': True, 'spam': False}}),\n",
              " (\"I'm back &amp; we're packing the car now, I'll let you know if there's room\",\n",
              "  {'cats': {'ham': True, 'spam': False}}),\n",
              " ('Ahhh. Work. I vaguely remember that! What does it feel like? Lol',\n",
              "  {'cats': {'ham': True, 'spam': False}}),\n",
              " (\"Wait that's still not all that clear, were you not sure about me being sarcastic or that that's why x doesn't want to live with us\",\n",
              "  {'cats': {'ham': True, 'spam': False}}),\n",
              " (\"Yeah he got in at 2 and was v apologetic. n had fallen out and she was actin like spoilt child and he got caught up in that. Till 2! But we won't go there! Not doing too badly cheers. You? \",\n",
              "  {'cats': {'ham': True, 'spam': False}}),\n",
              " ('K tell me anything about you.', {'cats': {'ham': True, 'spam': False}}),\n",
              " ('For fear of fainting with the of all that housework you just did? Quick have a cuppa',\n",
              "  {'cats': {'ham': True, 'spam': False}}),\n",
              " ('Thanks for your subscription to Ringtone UK your mobile will be charged σú5/month Please confirm by replying YES or NO. If you reply NO you will not be charged',\n",
              "  {'cats': {'ham': False, 'spam': True}}),\n",
              " ('Yup... Ok i go home look at the timings then i msg ╠_ again... Xuhui going to learn on 2nd may too but her lesson is at 8am',\n",
              "  {'cats': {'ham': True, 'spam': False}}),\n",
              " (\"Oops, I'll let you know when my roommate's done\",\n",
              "  {'cats': {'ham': True, 'spam': False}}),\n",
              " ('I see the letter B on my car', {'cats': {'ham': True, 'spam': False}}),\n",
              " ('Anything lor... U decide...', {'cats': {'ham': True, 'spam': False}}),\n",
              " (\"Hello! How's you and how did saturday go? I was just texting to see if you'd decided to do anything tomo. Not that i'm trying to invite myself or anything!\",\n",
              "  {'cats': {'ham': True, 'spam': False}}),\n",
              " ('Pls go ahead with watts. I just wanted to be sure. Do have a great weekend. Abiola',\n",
              "  {'cats': {'ham': True, 'spam': False}}),\n",
              " ('Did I forget to tell you ? I want you , I need you, I crave you ... But most of all ... I love you my sweet Arabian steed ... Mmmmmm ... Yummy',\n",
              "  {'cats': {'ham': True, 'spam': False}}),\n",
              " ('07732584351 - Rodger Burns - MSG = We tried to call you re your reply to our sms for a free nokia mobile + free camcorder. Please call now 08000930705 for delivery tomorrow',\n",
              "  {'cats': {'ham': False, 'spam': True}}),\n",
              " ('WHO ARE YOU SEEING?', {'cats': {'ham': True, 'spam': False}}),\n",
              " ('Great! I hope you like your man well endowed. I am  &lt;#&gt;  inches...',\n",
              "  {'cats': {'ham': True, 'spam': False}}),\n",
              " ('No calls..messages..missed calls', {'cats': {'ham': True, 'spam': False}}),\n",
              " (\"Didn't you get hep b immunisation in nigeria.\",\n",
              "  {'cats': {'ham': True, 'spam': False}}),\n",
              " ('Fair enough, anything going on?', {'cats': {'ham': True, 'spam': False}}),\n",
              " (\"Yeah hopefully, if tyler can't do it I could maybe ask around a bit\",\n",
              "  {'cats': {'ham': True, 'spam': False}}),\n",
              " (\"U don't know how stubborn I am. I didn't even want to go to the hospital. I kept telling Mark I'm not a weak sucker. Hospitals are for weak suckers.\",\n",
              "  {'cats': {'ham': True, 'spam': False}}),\n",
              " ('What you thinked about me. First time you saw me in class.',\n",
              "  {'cats': {'ham': True, 'spam': False}}),\n",
              " ('A gram usually runs like  &lt;#&gt; , a half eighth is smarter though and gets you almost a whole second gram for  &lt;#&gt;',\n",
              "  {'cats': {'ham': True, 'spam': False}}),\n",
              " (\"K fyi x has a ride early tomorrow morning but he's crashing at our place tonight\",\n",
              "  {'cats': {'ham': True, 'spam': False}}),\n",
              " ('Wow. I never realized that you were so embarassed by your accomodations. I thought you liked it, since i was doing the best i could and you always seemed so happy about \\\\the cave\\\\\". I\\'m sorry I didn\\'t and don\\'t have more to give. I\\'m sorry i offered. I\\'m sorry your room was so embarassing.\"',\n",
              "  {'cats': {'ham': True, 'spam': False}}),\n",
              " ('SMS. ac Sptv: The New Jersey Devils and the Detroit Red Wings play Ice Hockey. Correct or Incorrect? End? Reply END SPTV',\n",
              "  {'cats': {'ham': False, 'spam': True}}),\n",
              " ('Do you know what Mallika Sherawat did yesterday? Find out now @  &lt;URL&gt;',\n",
              "  {'cats': {'ham': True, 'spam': False}}),\n",
              " ('Congrats! 1 year special cinema pass for 2 is yours. call 09061209465 now! C Suprman V, Matrix3, StarWars3, etc all 4 FREE! bx420-ip4-5we. 150pm. Dont miss out! ',\n",
              "  {'cats': {'ham': False, 'spam': True}}),\n",
              " (\"Sorry, I'll call later in meeting.\",\n",
              "  {'cats': {'ham': True, 'spam': False}}),\n",
              " ('Tell where you reached', {'cats': {'ham': True, 'spam': False}}),\n",
              " ('Yes..gauti and sehwag out of odi series.',\n",
              "  {'cats': {'ham': True, 'spam': False}}),\n",
              " (\"Your gonna have to pick up a $1 burger for yourself on your way home. I can't even move. Pain is killing me.\",\n",
              "  {'cats': {'ham': True, 'spam': False}}),\n",
              " ('Ha ha ha good joke. Girls are situation seekers.',\n",
              "  {'cats': {'ham': True, 'spam': False}}),\n",
              " ('Its a part of checking IQ', {'cats': {'ham': True, 'spam': False}}),\n",
              " ('Sorry my roommates took forever, it ok if I come by now?',\n",
              "  {'cats': {'ham': True, 'spam': False}}),\n",
              " ('Ok lar i double check wif da hair dresser already he said wun cut v short. He said will cut until i look nice.',\n",
              "  {'cats': {'ham': True, 'spam': False}}),\n",
              " ('As a valued customer, I am pleased to advise you that following recent review of your Mob No. you are awarded with a σú1500 Bonus Prize, call 09066364589',\n",
              "  {'cats': {'ham': False, 'spam': True}}),\n",
              " ('Today is \\\\song dedicated day..\\\\\" Which song will u dedicate for me? Send this to all ur valuable frnds but first rply me...\"',\n",
              "  {'cats': {'ham': True, 'spam': False}}),\n",
              " ('Urgent UR awarded a complimentary trip to EuroDisinc Trav, Aco&Entry41 Or σú1000. To claim txt DIS to 87121 18+6*σú1.50(moreFrmMob. ShrAcomOrSglSuplt)10, LS1 3AJ',\n",
              "  {'cats': {'ham': False, 'spam': True}}),\n",
              " ('Did you hear about the new \\\\Divorce Barbie\\\\\"? It comes with all of Ken\\'s stuff!\"',\n",
              "  {'cats': {'ham': False, 'spam': True}}),\n",
              " ('I plane to give on this month end.',\n",
              "  {'cats': {'ham': True, 'spam': False}}),\n",
              " ('Wah lucky man... Then can save money... Hee...',\n",
              "  {'cats': {'ham': True, 'spam': False}}),\n",
              " ('Finished class where are you.', {'cats': {'ham': True, 'spam': False}}),\n",
              " ('HI BABE IM AT HOME NOW WANNA DO SOMETHING? XX',\n",
              "  {'cats': {'ham': True, 'spam': False}}),\n",
              " ('K..k:)where are you?how did you performed?',\n",
              "  {'cats': {'ham': True, 'spam': False}}),\n",
              " ('U can call me now...', {'cats': {'ham': True, 'spam': False}}),\n",
              " ('I am waiting machan. Call me once you free.',\n",
              "  {'cats': {'ham': True, 'spam': False}}),\n",
              " ('Thats cool. i am a gentleman and will treat you with dignity and respect.',\n",
              "  {'cats': {'ham': True, 'spam': False}}),\n",
              " ('I like you peoples very much:) but am very shy pa.',\n",
              "  {'cats': {'ham': True, 'spam': False}}),\n",
              " ('Does not operate after  &lt;#&gt;  or what',\n",
              "  {'cats': {'ham': True, 'spam': False}}),\n",
              " (\"Its not the same here. Still looking for a job. How much do Ta's earn there.\",\n",
              "  {'cats': {'ham': True, 'spam': False}}),\n",
              " (\"Sorry, I'll call later\", {'cats': {'ham': True, 'spam': False}}),\n",
              " ('K. Did you call me just now ah? ', {'cats': {'ham': True, 'spam': False}}),\n",
              " ('Ok i am on the way to home hi hi', {'cats': {'ham': True, 'spam': False}}),\n",
              " ('You will be in the place of that man',\n",
              "  {'cats': {'ham': True, 'spam': False}}),\n",
              " ('Yup next stop.', {'cats': {'ham': True, 'spam': False}}),\n",
              " (\"I call you later, don't have network. If urgnt, sms me.\",\n",
              "  {'cats': {'ham': True, 'spam': False}}),\n",
              " (\"For real when u getting on yo? I only need 2 more tickets and one more jacket and I'm done. I already used all my multis.\",\n",
              "  {'cats': {'ham': True, 'spam': False}}),\n",
              " (\"Yes I started to send requests to make it but pain came back so I'm back in bed. Double coins at the factory too. I gotta cash in all my nitros.\",\n",
              "  {'cats': {'ham': True, 'spam': False}}),\n",
              " (\"I'm really not up to it still tonight babe\",\n",
              "  {'cats': {'ham': True, 'spam': False}}),\n",
              " ('Ela kano.,il download, come wen ur free..',\n",
              "  {'cats': {'ham': True, 'spam': False}}),\n",
              " ('Yeah do! Donë█≈t stand to close tho- youë█≈ll catch something!',\n",
              "  {'cats': {'ham': True, 'spam': False}}),\n",
              " (\"Sorry to be a pain. Is it ok if we meet another night? I spent late afternoon in casualty and that means i haven't done any of y stuff42moro and that includes all my time sheets and that. Sorry. \",\n",
              "  {'cats': {'ham': True, 'spam': False}}),\n",
              " ('Smile in Pleasure Smile in Pain Smile when trouble pours like Rain Smile when sum1 Hurts U Smile becoz SOMEONE still Loves to see u Smiling!!',\n",
              "  {'cats': {'ham': True, 'spam': False}}),\n",
              " ('Please call our customer service representative on 0800 169 6031 between 10am-9pm as you have WON a guaranteed σú1000 cash or σú5000 prize!',\n",
              "  {'cats': {'ham': False, 'spam': True}}),\n",
              " ('Havent planning to buy later. I check already lido only got 530 show in e afternoon. U finish work already?',\n",
              "  {'cats': {'ham': True, 'spam': False}}),\n",
              " ('Your free ringtone is waiting to be collected. Simply text the password \\\\MIX\\\\\" to 85069 to verify. Get Usher and Britney. FML',\n",
              "  {'cats': {'ham': False, 'spam': True}}),\n",
              " ('Watching telugu movie..wat abt u?', {'cats': {'ham': True, 'spam': False}}),\n",
              " ('i see. When we finish we have loads of loans to pay',\n",
              "  {'cats': {'ham': True, 'spam': False}}),\n",
              " ('Hi. Wk been ok - on hols now! Yes on for a bit of a run. Forgot that i have hairdressers appointment at four so need to get home n shower beforehand. Does that cause prob for u?\\\\\"\\rham\"',\n",
              "  {'cats': {'ham': True, 'spam': False}}),\n",
              " (\"Please don't text me anymore. I have nothing else to say.\",\n",
              "  {'cats': {'ham': True, 'spam': False}}),\n",
              " ('Okay name ur price as long as its legal! Wen can I pick them up? Y u ave x ams xx',\n",
              "  {'cats': {'ham': True, 'spam': False}}),\n",
              " (\"I'm still looking for a car to buy. And have not gone 4the driving test yet.\",\n",
              "  {'cats': {'ham': True, 'spam': False}}),\n",
              " (\"As per your request 'Melle Melle (Oru Minnaminunginte Nurungu Vettam)' has been set as your callertune for all Callers. Press *9 to copy your friends Callertune\",\n",
              "  {'cats': {'ham': True, 'spam': False}}),\n",
              " (\"wow. You're right! I didn't mean to do that. I guess once i gave up on boston men and changed my search location to nyc, something changed. Cuz on my signin page it still says boston.\",\n",
              "  {'cats': {'ham': True, 'spam': False}}),\n",
              " ('Umma my life and vava umma love you lot dear',\n",
              "  {'cats': {'ham': True, 'spam': False}}),\n",
              " ('Thanks a lot for your wishes on my birthday. Thanks you for making my birthday truly memorable.',\n",
              "  {'cats': {'ham': True, 'spam': False}}),\n",
              " (\"Aight, I'll hit you up when I get some cash\",\n",
              "  {'cats': {'ham': True, 'spam': False}}),\n",
              " (\"How would my ip address test that considering my computer isn't a minecraft server\",\n",
              "  {'cats': {'ham': True, 'spam': False}}),\n",
              " ('I know! Grumpy old people. My mom was like you better not be lying. Then again I am always the one to play jokes...',\n",
              "  {'cats': {'ham': True, 'spam': False}}),\n",
              " (\"Dont worry. I guess he's busy.\", {'cats': {'ham': True, 'spam': False}}),\n",
              " ('What is the plural of the noun research?',\n",
              "  {'cats': {'ham': True, 'spam': False}}),\n",
              " ('Going for dinner.msg you after.', {'cats': {'ham': True, 'spam': False}}),\n",
              " (\"I'm ok wif it cos i like 2 try new things. But i scared u dun like mah. Cos u said not too loud.\",\n",
              "  {'cats': {'ham': True, 'spam': False}}),\n",
              " ('GENT! We are trying to contact you. Last weekends draw shows that you won a σú1000 prize GUARANTEED. Call 09064012160. Claim Code K52. Valid 12hrs only. 150ppm',\n",
              "  {'cats': {'ham': False, 'spam': True}}),\n",
              " (\"Wa, ur openin sentence very formal... Anyway, i'm fine too, juz tt i'm eatin too much n puttin on weight...Haha... So anythin special happened?\",\n",
              "  {'cats': {'ham': True, 'spam': False}}),\n",
              " (\"As I entered my cabin my PA said, '' Happy B'day Boss !!''. I felt special. She askd me 4 lunch. After lunch she invited me to her apartment. We went there.\",\n",
              "  {'cats': {'ham': True, 'spam': False}}),\n",
              " ('You are a winner U have been specially selected 2 receive σú1000 or a 4* holiday (flights inc) speak to a live operator 2 claim 0871277810910p/min (18+) ',\n",
              "  {'cats': {'ham': False, 'spam': True}}),\n",
              " ('Goodo! Yes we must speak friday - egg-potato ratio for tortilla needed! ',\n",
              "  {'cats': {'ham': True, 'spam': False}}),\n",
              " (\"Hmm...my uncle just informed me that he's paying the school directly. So pls buy food.\",\n",
              "  {'cats': {'ham': True, 'spam': False}}),\n",
              " ('PRIVATE! Your 2004 Account Statement for 07742676969 shows 786 unredeemed Bonus Points. To claim call 08719180248 Identifier Code: 45239 Expires',\n",
              "  {'cats': {'ham': False, 'spam': True}}),\n",
              " ('URGENT! Your Mobile No. was awarded σú2000 Bonus Caller Prize on 5/9/03 This is our final try to contact U! Call from Landline 09064019788 BOX42WR29C, 150PPM',\n",
              "  {'cats': {'ham': False, 'spam': True}}),\n",
              " ('here is my new address -apples&pairs&all that malarky',\n",
              "  {'cats': {'ham': True, 'spam': False}}),\n",
              " ('Todays Voda numbers ending 7548 are selected to receive a $350 award. If you have a match please call 08712300220 quoting claim code 4041 standard rates app',\n",
              "  {'cats': {'ham': False, 'spam': True}}),\n",
              " ('I am going to sao mu today. Will be done only at 12 ',\n",
              "  {'cats': {'ham': True, 'spam': False}}),\n",
              " (\"╠╧ predict wat time ╠_'ll finish buying?\",\n",
              "  {'cats': {'ham': True, 'spam': False}}),\n",
              " ('Good stuff, will do.', {'cats': {'ham': True, 'spam': False}}),\n",
              " (\"Just so that you know,yetunde hasn't sent money yet. I just sent her a text not to bother sending. So its over, you dont have to involve yourself in anything. I shouldn't have imposed anything on you in the first place so for that, i apologise.\",\n",
              "  {'cats': {'ham': True, 'spam': False}}),\n",
              " ('Are you there in room.', {'cats': {'ham': True, 'spam': False}}),\n",
              " ('HEY GIRL. HOW R U? HOPE U R WELL ME AN DEL R BAK! AGAIN LONG TIME NO C! GIVE ME A CALL SUM TIME FROM LUCYxx',\n",
              "  {'cats': {'ham': True, 'spam': False}}),\n",
              " ('K..k:)how much does it cost?', {'cats': {'ham': True, 'spam': False}}),\n",
              " (\"I'm home.\", {'cats': {'ham': True, 'spam': False}}),\n",
              " ('Dear, will call Tmorrow.pls accomodate.',\n",
              "  {'cats': {'ham': True, 'spam': False}}),\n",
              " ('First answer my question.', {'cats': {'ham': True, 'spam': False}}),\n",
              " ('Sunshine Quiz Wkly Q! Win a top Sony DVD player if u know which country the Algarve is in? Txt ansr to 82277. σú1.50 SP:Tyrone',\n",
              "  {'cats': {'ham': False, 'spam': True}}),\n",
              " (\"Want 2 get laid tonight? Want real Dogging locations sent direct 2 ur mob? Join the UK's largest Dogging Network bt Txting GRAVEL to 69888! Nt. ec2a. 31p.msg@150p\",\n",
              "  {'cats': {'ham': False, 'spam': True}}),\n",
              " (\"I only haf msn. It's yijue@hotmail.com\",\n",
              "  {'cats': {'ham': True, 'spam': False}}),\n",
              " ('He is there. You call and meet him',\n",
              "  {'cats': {'ham': True, 'spam': False}}),\n",
              " ('No no. I will check all rooms befor activities',\n",
              "  {'cats': {'ham': True, 'spam': False}}),\n",
              " (\"You'll not rcv any more msgs from the chat svc. For FREE Hardcore services text GO to: 69988 If u get nothing u must Age Verify with yr network & try again\",\n",
              "  {'cats': {'ham': False, 'spam': True}}),\n",
              " ('Got c... I lazy to type... I forgot ╠_ in lect... I saw a pouch but like not v nice...',\n",
              "  {'cats': {'ham': True, 'spam': False}}),\n",
              " (\"K, text me when you're on the way\", {'cats': {'ham': True, 'spam': False}}),\n",
              " ('Sir, Waiting for your mail.', {'cats': {'ham': True, 'spam': False}}),\n",
              " ('A swt thought: \\\\Nver get tired of doing little things 4 lovable persons..\\\\\" Coz..somtimes those little things occupy d biggest part in their Hearts.. Gud ni8\"',\n",
              "  {'cats': {'ham': True, 'spam': False}}),\n",
              " ('I know you are. Can you pls open the back?',\n",
              "  {'cats': {'ham': True, 'spam': False}}),\n",
              " ('Yes see ya not on the dot', {'cats': {'ham': True, 'spam': False}}),\n",
              " ('Whats the staff name who is taking class for us?',\n",
              "  {'cats': {'ham': True, 'spam': False}}),\n",
              " (\"FreeMsg Why haven't you replied to my text? I'm Randy, sexy, female and live local. Luv to hear from u. Netcollex Ltd 08700621170150p per msg reply Stop to end\",\n",
              "  {'cats': {'ham': False, 'spam': True}}),\n",
              " ('Ummma.will call after check in.our life will begin from qatar so pls pray very hard.',\n",
              "  {'cats': {'ham': True, 'spam': False}}),\n",
              " ('K..i deleted my contact that why?', {'cats': {'ham': True, 'spam': False}}),\n",
              " ('Sindu got job in birla soft ..', {'cats': {'ham': True, 'spam': False}}),\n",
              " (\"The wine is flowing and i'm i have nevering..\",\n",
              "  {'cats': {'ham': True, 'spam': False}}),\n",
              " ('Yup i thk cine is better cos no need 2 go down 2 plaza mah.',\n",
              "  {'cats': {'ham': True, 'spam': False}}),\n",
              " ('Ok... Ur typical reply...', {'cats': {'ham': True, 'spam': False}}),\n",
              " (\"As per your request 'Melle Melle (Oru Minnaminunginte Nurungu Vettam)' has been set as your callertune for all Callers. Press *9 to copy your friends Callertune\",\n",
              "  {'cats': {'ham': True, 'spam': False}}),\n",
              " ('You are everywhere dirt, on the floor, the windows, even on my shirt. And sometimes when i open my mouth, you are all that comes flowing out. I dream of my world without you, then half my chores are out too. A time of joy for me, lots of tv shows i.ll see. But i guess like all things you just must exist, like rain, hail and mist, and when my time here is done, you and i become one.',\n",
              "  {'cats': {'ham': True, 'spam': False}}),\n",
              " ('Aaooooright are you at work?', {'cats': {'ham': True, 'spam': False}}),\n",
              " (\"I'm leaving my house now...\", {'cats': {'ham': True, 'spam': False}}),\n",
              " ('Hello, my love. What are you doing? Did you get to that interview today? Are you you happy? Are you being a good boy? Do you think of me?Are you missing me ?',\n",
              "  {'cats': {'ham': True, 'spam': False}}),\n",
              " ('Customer service annoncement. You have a New Years delivery waiting for you. Please call 07046744435 now to arrange delivery',\n",
              "  {'cats': {'ham': False, 'spam': True}}),\n",
              " ('You are a winner U have been specially selected 2 receive σú1000 cash or a 4* holiday (flights inc) speak to a live operator 2 claim 0871277810810',\n",
              "  {'cats': {'ham': False, 'spam': True}}),\n",
              " (\"Keep yourself safe for me because I need you and I miss you already and I envy everyone that see's you in real life\",\n",
              "  {'cats': {'ham': True, 'spam': False}}),\n",
              " ('New car and house for my parents.:)i have only new job in hand:)',\n",
              "  {'cats': {'ham': True, 'spam': False}}),\n",
              " (\"I'm so in love with you. I'm excited each day i spend with you. You make me so happy.\",\n",
              "  {'cats': {'ham': True, 'spam': False}}),\n",
              " ('-PLS STOP bootydelious (32/F) is inviting you to be her friend. Reply YES-434 or NO-434 See her: www.SMS.ac/u/bootydelious STOP? Send STOP FRND to 62468',\n",
              "  {'cats': {'ham': False, 'spam': True}}),\n",
              " ('BangBabes Ur order is on the way. U SHOULD receive a Service Msg 2 download UR content. If U do not, GoTo wap. bangb. tv on UR mobile internet/service menu',\n",
              "  {'cats': {'ham': False, 'spam': True}}),\n",
              " ('I place all ur points on e cultures module already.',\n",
              "  {'cats': {'ham': True, 'spam': False}}),\n",
              " ('URGENT! We are trying to contact you. Last weekends draw shows that you have won a σú900 prize GUARANTEED. Call 09061701939. Claim code S89. Valid 12hrs only',\n",
              "  {'cats': {'ham': False, 'spam': True}}),\n",
              " (\"Hi frnd, which is best way to avoid missunderstding wit our beloved one's?\",\n",
              "  {'cats': {'ham': True, 'spam': False}}),\n",
              " ('Great escape. I fancy the bridge but needs her lager. See you tomo ',\n",
              "  {'cats': {'ham': True, 'spam': False}}),\n",
              " ('Yes :)it completely in out of form:)clark also utter waste.',\n",
              "  {'cats': {'ham': True, 'spam': False}}),\n",
              " ('Sir, I need AXIS BANK account no and bank address.',\n",
              "  {'cats': {'ham': True, 'spam': False}}),\n",
              " ('Hmmm.. Thk sure got time to hop ard... Ya, can go 4 free abt... Muz call u to discuss liao... ',\n",
              "  {'cats': {'ham': True, 'spam': False}}),\n",
              " ('What time you coming down later? ', {'cats': {'ham': True, 'spam': False}}),\n",
              " ('Bloody hell, cant believe you forgot my surname Mr . Ill give u a clue, its spanish and begins with m... ',\n",
              "  {'cats': {'ham': True, 'spam': False}}),\n",
              " (\"Well, i'm gonna finish my bath now. Have a good...fine night.\",\n",
              "  {'cats': {'ham': True, 'spam': False}}),\n",
              " (\"Let me know when you've got the money so carlos can make the call\",\n",
              "  {'cats': {'ham': True, 'spam': False}}),\n",
              " ('U still going to the mall?', {'cats': {'ham': True, 'spam': False}}),\n",
              " (\"Turns out my friends are staying for the whole show and won't be back til ~ &lt;#&gt; , so feel free to go ahead and smoke that $ &lt;#&gt;  worth\",\n",
              "  {'cats': {'ham': True, 'spam': False}}),\n",
              " ('Text her. If she doesnt reply let me know so i can have her log in',\n",
              "  {'cats': {'ham': True, 'spam': False}}),\n",
              " (\"Hi! You just spoke to MANEESHA V. We'd like to know if you were satisfied with the experience. Reply Toll Free with Yes or No.\",\n",
              "  {'cats': {'ham': True, 'spam': False}}),\n",
              " ('You lifted my hopes with the offer of money. I am in need. Especially when the end of the month approaches and it hurts my studying. Anyways have a gr8 weekend',\n",
              "  {'cats': {'ham': True, 'spam': False}}),\n",
              " ('Lol no. U can trust me.', {'cats': {'ham': True, 'spam': False}}),\n",
              " ('ok. I am a gentleman and will treat you with dignity and respect.',\n",
              "  {'cats': {'ham': True, 'spam': False}}),\n",
              " ('He will, you guys close?', {'cats': {'ham': True, 'spam': False}}),\n",
              " ('Going on nothing great.bye', {'cats': {'ham': True, 'spam': False}}),\n",
              " (\"Hello handsome ! Are you finding that job ? Not being lazy ? Working towards getting back that net for mummy ? Where's my boytoy now ? Does he miss me ?\",\n",
              "  {'cats': {'ham': True, 'spam': False}}),\n",
              " ('Haha awesome, be there in a minute',\n",
              "  {'cats': {'ham': True, 'spam': False}}),\n",
              " ('Please call our customer service representative on FREEPHONE 0808 145 4742 between 9am-11pm as you have WON a guaranteed σú1000 cash or σú5000 prize!',\n",
              "  {'cats': {'ham': False, 'spam': True}}),\n",
              " ('Have you got Xmas radio times. If not i will get it now',\n",
              "  {'cats': {'ham': True, 'spam': False}}),\n",
              " ('I jus reached home. I go bathe first. But my sis using net tell u when she finishes k...',\n",
              "  {'cats': {'ham': True, 'spam': False}}),\n",
              " ('Are you unique enough? Find out from 30th August. www.areyouunique.co.uk',\n",
              "  {'cats': {'ham': False, 'spam': True}}),\n",
              " (\"I'm sorry. I've joined the league of people that dont keep in touch. You mean a great deal to me. You have been a friend at all times even at great personal cost. Do have a great week.|\",\n",
              "  {'cats': {'ham': True, 'spam': False}}),\n",
              " ('Hi :)finally i completed the course:)',\n",
              "  {'cats': {'ham': True, 'spam': False}}),\n",
              " ('It will stop on itself. I however suggest she stays with someone that will be able to give ors for every stool.',\n",
              "  {'cats': {'ham': True, 'spam': False}}),\n",
              " (\"How are you doing? Hope you've settled in for the new school year. Just wishin you a gr8 day\",\n",
              "  {'cats': {'ham': True, 'spam': False}}),\n",
              " ('Gud mrng dear hav a nice day', {'cats': {'ham': True, 'spam': False}}),\n",
              " ('Did u got that persons story', {'cats': {'ham': True, 'spam': False}}),\n",
              " ('is your hamster dead? Hey so tmr i meet you at 1pm orchard mrt? ',\n",
              "  {'cats': {'ham': True, 'spam': False}}),\n",
              " ('Hi its Kate how is your evening? I hope i can see you tomorrow for a bit but i have to bloody babyjontet! Txt back if u can. :) xxx',\n",
              "  {'cats': {'ham': True, 'spam': False}}),\n",
              " ('Found it, ENC  &lt;#&gt; , where you at?',\n",
              "  {'cats': {'ham': True, 'spam': False}}),\n",
              " ('I sent you  &lt;#&gt;  bucks', {'cats': {'ham': True, 'spam': False}}),\n",
              " ('Hello darlin ive finished college now so txt me when u finish if u can love Kate xxx',\n",
              "  {'cats': {'ham': True, 'spam': False}}),\n",
              " ('Your account has been refilled successfully by INR  &lt;DECIMAL&gt; . Your KeralaCircle prepaid account balance is Rs  &lt;DECIMAL&gt; . Your Transaction ID is KR &lt;#&gt; .',\n",
              "  {'cats': {'ham': True, 'spam': False}}),\n",
              " ('Goodmorning sleeping ga.', {'cats': {'ham': True, 'spam': False}}),\n",
              " ('U call me alter at 11 ok.', {'cats': {'ham': True, 'spam': False}}),\n",
              " ('╠╧ say until like dat i dun buy ericsson oso cannot oredi lar...',\n",
              "  {'cats': {'ham': True, 'spam': False}}),\n",
              " (\"As I entered my cabin my PA said, '' Happy B'day Boss !!''. I felt special. She askd me 4 lunch. After lunch she invited me to her apartment. We went there.\",\n",
              "  {'cats': {'ham': True, 'spam': False}}),\n",
              " ('Aight yo, dats straight dogg', {'cats': {'ham': True, 'spam': False}}),\n",
              " ('You please give us connection today itself before  &lt;DECIMAL&gt;  or refund the bill',\n",
              "  {'cats': {'ham': True, 'spam': False}}),\n",
              " ('Both :) i shoot big loads so get ready!',\n",
              "  {'cats': {'ham': True, 'spam': False}}),\n",
              " (\"What's up bruv, hope you had a great break. Do have a rewarding semester.\",\n",
              "  {'cats': {'ham': True, 'spam': False}}),\n",
              " ('Home so we can always chat', {'cats': {'ham': True, 'spam': False}}),\n",
              " ('K:)k:)good:)study well.', {'cats': {'ham': True, 'spam': False}}),\n",
              " ('Yup... How ╠_ noe leh...', {'cats': {'ham': True, 'spam': False}}),\n",
              " ('Sounds great! Are you home now?', {'cats': {'ham': True, 'spam': False}}),\n",
              " ('Finally the match heading towards draw as your prediction.',\n",
              "  {'cats': {'ham': True, 'spam': False}}),\n",
              " (\"Tired. I haven't slept well the past few nights.\",\n",
              "  {'cats': {'ham': True, 'spam': False}}),\n",
              " ('Easy ah?sen got selected means its good..',\n",
              "  {'cats': {'ham': True, 'spam': False}}),\n",
              " ('I have to take exam with march 3', {'cats': {'ham': True, 'spam': False}}),\n",
              " (\"Yeah you should. I think you can use your gt atm now to register. Not sure but if there's anyway i can help let me know. But when you do be sure you are ready.\",\n",
              "  {'cats': {'ham': True, 'spam': False}}),\n",
              " ('Ok no prob. Take ur time.', {'cats': {'ham': True, 'spam': False}}),\n",
              " ('There is os called ubandu which will run without installing in hard disk...you can use that os to copy the important files in system and give it to repair shop..',\n",
              "  {'cats': {'ham': True, 'spam': False}}),\n",
              " (\"Sorry, I'll call later\", {'cats': {'ham': True, 'spam': False}}),\n",
              " ('U say leh... Of course nothing happen lar. Not say v romantic jus a bit only lor. I thk e nite scenery not so nice leh.',\n",
              "  {'cats': {'ham': True, 'spam': False}}),\n",
              " ('500 New Mobiles from 2004, MUST GO! Txt: NOKIA to No: 89545 & collect yours today!From ONLY σú1 www.4-tc.biz 2optout 087187262701.50gbp/mtmsg18',\n",
              "  {'cats': {'ham': False, 'spam': True}}),\n",
              " ('Would really appreciate if you call me. Just need someone to talk to.',\n",
              "  {'cats': {'ham': True, 'spam': False}}),\n",
              " ('Will u meet ur dream partner soon? Is ur career off 2 a flyng start? 2 find out free, txt HORO followed by ur star sign, e. g. HORO ARIES',\n",
              "  {'cats': {'ham': False, 'spam': True}}),\n",
              " ('Hey company elama po mudyadhu.', {'cats': {'ham': True, 'spam': False}}),\n",
              " ('Life is more strict than teacher... Bcoz Teacher teaches lesson &amp; then conducts exam, But Life first conducts Exam &amp; then teaches Lessons. Happy morning. . .',\n",
              "  {'cats': {'ham': True, 'spam': False}}),\n",
              " ('Dear good morning now only i am up',\n",
              "  {'cats': {'ham': True, 'spam': False}}),\n",
              " ('Get down in gandhipuram and walk to cross cut road. Right side &lt;#&gt; street road and turn at first right.',\n",
              "  {'cats': {'ham': True, 'spam': False}}),\n",
              " ('Dear we are going to our rubber place',\n",
              "  {'cats': {'ham': True, 'spam': False}}),\n",
              " (\"Sorry battery died, yeah I'm here\", {'cats': {'ham': True, 'spam': False}}),\n",
              " ('Yes:)here tv is always available in work place..',\n",
              "  {'cats': {'ham': True, 'spam': False}}),\n",
              " ('Text & meet someone sexy today. U can find a date or even flirt its up to U. Join 4 just 10p. REPLY with NAME & AGE eg Sam 25. 18 -msg recd@thirtyeight pence',\n",
              "  {'cats': {'ham': False, 'spam': True}}),\n",
              " ('I have printed it oh. So  &lt;#&gt;  come upstairs',\n",
              "  {'cats': {'ham': True, 'spam': False}}),\n",
              " ('Or ill be a little closer like at the bus stop on the same street',\n",
              "  {'cats': {'ham': True, 'spam': False}}),\n",
              " ('Where are you?when wil you reach here?',\n",
              "  {'cats': {'ham': True, 'spam': False}}),\n",
              " (\"New Theory: Argument wins d SITUATION, but loses the PERSON. So dont argue with ur friends just.. . . . kick them &amp; say, I'm always correct.!\",\n",
              "  {'cats': {'ham': True, 'spam': False}}),\n",
              " ('U 447801259231 have a secret admirer who is looking 2 make contact with U-find out who they R*reveal who thinks UR so special-call on 09058094597',\n",
              "  {'cats': {'ham': False, 'spam': True}}),\n",
              " ('Tomarrow final hearing on my laptop case so i cant.',\n",
              "  {'cats': {'ham': True, 'spam': False}}),\n",
              " ('PLEASSSSSSSEEEEEE TEL ME V AVENT DONE SPORTSx',\n",
              "  {'cats': {'ham': True, 'spam': False}}),\n",
              " ('Okay. No no, just shining on. That was meant to be signing, but that sounds better.',\n",
              "  {'cats': {'ham': True, 'spam': False}}),\n",
              " (\"Although i told u dat i'm into baig face watches now but i really like e watch u gave cos it's fr u. Thanx 4 everything dat u've done today, i'm touched...\",\n",
              "  {'cats': {'ham': True, 'spam': False}}),\n",
              " (\"U don't remember that old commercial?\",\n",
              "  {'cats': {'ham': True, 'spam': False}}),\n",
              " (\"Too late. I said i have the website. I didn't i have or dont have the slippers\",\n",
              "  {'cats': {'ham': True, 'spam': False}}),\n",
              " ('I asked you to call him now ok', {'cats': {'ham': True, 'spam': False}}),\n",
              " ('Kallis wont bat in 2nd innings.', {'cats': {'ham': True, 'spam': False}}),\n",
              " ('It didnt work again oh. Ok goodnight then. I.ll fix and have it ready by the time you wake up. You are very dearly missed have a good night sleep.',\n",
              "  {'cats': {'ham': True, 'spam': False}}),\n",
              " ('Congratulations ur awarded 500 of CD vouchers or 125gift guaranteed & Free entry 2 100 wkly draw txt MUSIC to 87066 TnCs www.Ldew.com1win150ppmx3age16',\n",
              "  {'cats': {'ham': False, 'spam': True}}),\n",
              " ('Ranjith cal drpd Deeraj and deepak 5min hold',\n",
              "  {'cats': {'ham': True, 'spam': False}}),\n",
              " ('Wen ur lovable bcums angry wid u, dnt take it seriously.. Coz being angry is d most childish n true way of showing deep affection, care n luv!.. kettoda manda... Have nice day da.',\n",
              "  {'cats': {'ham': True, 'spam': False}}),\n",
              " ('What you doing?how are you?', {'cats': {'ham': True, 'spam': False}}),\n",
              " ('Ups which is 3days also, and the shipping company that takes 2wks. The other way is usps which takes a week but when it gets to lag you may have to bribe nipost to get your stuff.',\n",
              "  {'cats': {'ham': True, 'spam': False}}),\n",
              " (\"I'm back, lemme know when you're ready\",\n",
              "  {'cats': {'ham': True, 'spam': False}}),\n",
              " (\"Don't necessarily expect it to be done before you get back though because I'm just now headin out\",\n",
              "  {'cats': {'ham': True, 'spam': False}}),\n",
              " ('Mmm so yummy babe ... Nice jolt to the suzy',\n",
              "  {'cats': {'ham': True, 'spam': False}}),\n",
              " ('Where are you lover ? I need you ...',\n",
              "  {'cats': {'ham': True, 'spam': False}}),\n",
              " ('We tried to contact you re your reply to our offer of a Video Handset? 750 anytime networks mins? UNLIMITED TEXT? Camcorder? Reply or call 08000930705 NOW',\n",
              "  {'cats': {'ham': False, 'spam': True}}),\n",
              " ('Ië█≈m parked next to a MINI!!!! When are you coming in today do you think?',\n",
              "  {'cats': {'ham': True, 'spam': False}}),\n",
              " ('Yup', {'cats': {'ham': True, 'spam': False}}),\n",
              " (\"Anyway i'm going shopping on my own now. Cos my sis not done yet. Dun disturb u liao.\",\n",
              "  {'cats': {'ham': True, 'spam': False}}),\n",
              " ('MY NO. IN LUTON 0125698789 RING ME IF UR AROUND! H*',\n",
              "  {'cats': {'ham': True, 'spam': False}}),\n",
              " ('Hey I am really horny want to chat or see me naked text hot to 69698 text charged at 150pm to unsubscribe text stop 69698',\n",
              "  {'cats': {'ham': False, 'spam': True}}),\n",
              " ('Why you Dint come with us.', {'cats': {'ham': True, 'spam': False}}),\n",
              " ('Same. Wana plan a trip sometme then',\n",
              "  {'cats': {'ham': True, 'spam': False}}),\n",
              " ('Not sure yet, still trying to get a hold of him',\n",
              "  {'cats': {'ham': True, 'spam': False}}),\n",
              " ('Ur ringtone service has changed! 25 Free credits! Go to club4mobiles.com to choose content now! Stop? txt CLUB STOP to 87070. 150p/wk Club4 PO Box1146 MK45 2WT',\n",
              "  {'cats': {'ham': False, 'spam': True}}),\n",
              " ('The evo. I just had to download flash. Jealous?',\n",
              "  {'cats': {'ham': True, 'spam': False}}),\n",
              " ('Ringtone Club: Get the UK singles chart on your mobile each week and choose any top quality ringtone! This message is free of charge.',\n",
              "  {'cats': {'ham': False, 'spam': True}}),\n",
              " (\"Come to mu, we're sorting out our narcotics situation\",\n",
              "  {'cats': {'ham': True, 'spam': False}}),\n",
              " ('Night has ended for another day, morning has come in a special way. May you smile like the sunny rays and leaves your worries at the blue blue bay.',\n",
              "  {'cats': {'ham': True, 'spam': False}}),\n",
              " ('HMV BONUS SPECIAL 500 pounds of genuine HMV vouchers to be won. Just answer 4 easy questions. Play Now! Send HMV to 86688 More info:www.100percent-real.com',\n",
              "  {'cats': {'ham': False, 'spam': True}}),\n",
              " ('Usf I guess, might as well take 1 car',\n",
              "  {'cats': {'ham': True, 'spam': False}}),\n",
              " ('No objection. My bf not coming.', {'cats': {'ham': True, 'spam': False}}),\n",
              " ('Thanx...', {'cats': {'ham': True, 'spam': False}}),\n",
              " ('Tell rob to mack his gf in the theater',\n",
              "  {'cats': {'ham': True, 'spam': False}}),\n",
              " (\"Awesome, I'll see you in a bit\", {'cats': {'ham': True, 'spam': False}}),\n",
              " ('Just sent it. So what type of food do you like?',\n",
              "  {'cats': {'ham': True, 'spam': False}}),\n",
              " ('All done? All handed in? Celebrations in full swing yet?',\n",
              "  {'cats': {'ham': True, 'spam': False}}),\n",
              " ('You got called a tool?', {'cats': {'ham': True, 'spam': False}}),\n",
              " ('\\\\Wen u miss someone', {'cats': {'ham': True, 'spam': False}}),\n",
              " ('Ok. I asked for money how far', {'cats': {'ham': True, 'spam': False}}),\n",
              " ('Okie...', {'cats': {'ham': True, 'spam': False}}),\n",
              " (\"Yeah I think my usual guy's still passed out from last night, if you get ahold of anybody let me know and I'll throw down\",\n",
              "  {'cats': {'ham': True, 'spam': False}}),\n",
              " ('K, I might come by tonight then if my class lets out early',\n",
              "  {'cats': {'ham': True, 'spam': False}}),\n",
              " ('Ok..', {'cats': {'ham': True, 'spam': False}}),\n",
              " ('hi baby im cruisin with my girl friend what r u up 2? give me a call in and hour at home if thats alright or fone me on this fone now love jenny xxx',\n",
              "  {'cats': {'ham': True, 'spam': False}}),\n",
              " ('My life Means a lot to me, Not because I love my life, But because I love the people in my life, The world calls them friends, I call them my World:-).. Ge:-)..',\n",
              "  {'cats': {'ham': True, 'spam': False}}),\n",
              " ('Dear,shall mail tonite.busy in the street,shall update you tonite.things are looking ok.varunnathu edukkukayee raksha ollu.but a good one in real sense.',\n",
              "  {'cats': {'ham': True, 'spam': False}}),\n",
              " ('Hey you told your name to gautham ah?',\n",
              "  {'cats': {'ham': True, 'spam': False}}),\n",
              " ('Haf u found him? I feel so stupid da v cam was working.',\n",
              "  {'cats': {'ham': True, 'spam': False}}),\n",
              " ('Oops. 4 got that bit.', {'cats': {'ham': True, 'spam': False}}),\n",
              " ('Are you this much buzy', {'cats': {'ham': True, 'spam': False}}),\n",
              " ('I accidentally deleted the message. Resend please.',\n",
              "  {'cats': {'ham': True, 'spam': False}}),\n",
              " (\"T-Mobile customer you may now claim your FREE CAMERA PHONE upgrade & a pay & go sim card for your loyalty. Call on 0845 021 3680.Offer ends 28thFeb.T&C's apply\",\n",
              "  {'cats': {'ham': False, 'spam': True}}),\n",
              " (\"Unless it's a situation where YOU GO GURL would be more appropriate\",\n",
              "  {'cats': {'ham': True, 'spam': False}}),\n",
              " ('Hurt me... Tease me... Make me cry... But in the end of my life when i die plz keep one rose on my grave and say STUPID I MISS U.. HAVE A NICE DAY BSLVYL',\n",
              "  {'cats': {'ham': True, 'spam': False}}),\n",
              " ('I cant pick the phone right now. Pls send a message',\n",
              "  {'cats': {'ham': True, 'spam': False}}),\n",
              " (\"Need a coffee run tomo?Can't believe it's that time of week already\",\n",
              "  {'cats': {'ham': True, 'spam': False}}),\n",
              " ('Awesome, I remember the last time we got somebody high for the first time with diesel :V',\n",
              "  {'cats': {'ham': True, 'spam': False}}),\n",
              " ('Shit that is really shocking and scary, cant imagine for a second. Def up for night out. Do u think there is somewhere i could crash for night, save on taxi?',\n",
              "  {'cats': {'ham': True, 'spam': False}}),\n",
              " ('Oh and by the way you do have more food in your fridge! Want to go out for a meal tonight? ',\n",
              "  {'cats': {'ham': True, 'spam': False}}),\n",
              " ('He is a womdarfull actor', {'cats': {'ham': True, 'spam': False}}),\n",
              " ('SMS. ac Blind Date 4U!: Rodds1 is 21/m from Aberdeen, United Kingdom. Check Him out http://img. sms. ac/W/icmb3cktz8r7!-4 no Blind Dates send HIDE',\n",
              "  {'cats': {'ham': False, 'spam': True}}),\n",
              " ('Yup... From what i remb... I think should be can book... ',\n",
              "  {'cats': {'ham': True, 'spam': False}}),\n",
              " ('Jos ask if u wana meet up?', {'cats': {'ham': True, 'spam': False}}),\n",
              " (\"Lol yes. Our friendship is hanging on a thread cause u won't buy stuff.\",\n",
              "  {'cats': {'ham': True, 'spam': False}}),\n",
              " ('TheMob> Check out our newest selection of content, Games, Tones, Gossip, babes and sport, Keep your mobile fit and funky text WAP to 82468',\n",
              "  {'cats': {'ham': False, 'spam': True}}),\n",
              " (\"Where are the garage keys? They aren't on the bookshelf\",\n",
              "  {'cats': {'ham': True, 'spam': False}}),\n",
              " ('Today is ACCEPT DAY..U Accept me as? Brother Sister Lover Dear1 Best1 Clos1 Lvblefrnd Jstfrnd Cutefrnd Lifpartnr Belovd Swtheart Bstfrnd No rply means enemy',\n",
              "  {'cats': {'ham': True, 'spam': False}}),\n",
              " ('Think ur smart ? Win σú200 this week in our weekly quiz, text PLAY to 85222 now!T&Cs WinnersClub PO BOX 84, M26 3UZ. 16+. GBP1.50/week',\n",
              "  {'cats': {'ham': False, 'spam': True}}),\n",
              " (\"He says he'll give me a call when his friend's got the money but that he's definitely buying before the end of the week\",\n",
              "  {'cats': {'ham': True, 'spam': False}}),\n",
              " ('Hi the way I was with u 2day, is the normal way&this is the real me. UR unique&I hope I know u 4 the rest of mylife. Hope u find wot was lost.',\n",
              "  {'cats': {'ham': True, 'spam': False}}),\n",
              " ('You made my day. Do have a great day too.',\n",
              "  {'cats': {'ham': True, 'spam': False}}),\n",
              " ('K.k:)advance happy pongal.', {'cats': {'ham': True, 'spam': False}}),\n",
              " ('Hmmm... Guess we can go 4 kb n power yoga... Haha, dunno we can tahan power yoga anot... Thk got lo oso, forgot liao...',\n",
              "  {'cats': {'ham': True, 'spam': False}}),\n",
              " (\"Not really dude, have no friends i'm afraid :(\",\n",
              "  {'cats': {'ham': True, 'spam': False}}),\n",
              " ('December only! Had your mobile 11mths+? You are entitled to update to the latest colour camera mobile for Free! Call The Mobile Update Co FREE on 08002986906',\n",
              "  {'cats': {'ham': False, 'spam': True}}),\n",
              " ('Coffee cake, i guess...', {'cats': {'ham': True, 'spam': False}}),\n",
              " ('Merry Christmas to you too babe, i love ya *kisses*',\n",
              "  {'cats': {'ham': True, 'spam': False}}),\n",
              " ('Hey... Why dont we just go watch x men and have lunch... Haha ',\n",
              "  {'cats': {'ham': True, 'spam': False}}),\n",
              " ('cud u tell ppl im gona b a bit l8 cos 2 buses hav gon past cos they were full & im still waitin 4 1. Pete x',\n",
              "  {'cats': {'ham': True, 'spam': False}}),\n",
              " (\"That would be great. We'll be at the Guild. Could meet on Bristol road or somewhere - will get in touch over weekend. Our plans take flight! Have a good week\",\n",
              "  {'cats': {'ham': True, 'spam': False}}),\n",
              " ('No problem. How are you doing?', {'cats': {'ham': True, 'spam': False}}),\n",
              " ('No calls..messages..missed calls', {'cats': {'ham': True, 'spam': False}}),\n",
              " ('Hi da:)how is the todays class?', {'cats': {'ham': True, 'spam': False}}),\n",
              " (\"I'd say that's a good sign but, well, you know my track record at reading women\",\n",
              "  {'cats': {'ham': True, 'spam': False}}),\n",
              " (\"Cool, text me when you're parked\", {'cats': {'ham': True, 'spam': False}}),\n",
              " (\"I'm reading the text i just sent you. Its meant to be a joke. So read it in that light\",\n",
              "  {'cats': {'ham': True, 'spam': False}}),\n",
              " ('K.k:)apo k.good movie.', {'cats': {'ham': True, 'spam': False}}),\n",
              " ('Maybe i could get book out tomo then return it immediately ..? Or something.',\n",
              "  {'cats': {'ham': True, 'spam': False}}),\n",
              " ('Call Germany for only 1 pence per minute! Call from a fixed line via access number 0844 861 85 85. No prepayment. Direct access!',\n",
              "  {'cats': {'ham': False, 'spam': True}}),\n",
              " (\"Any chance you might have had with me evaporated as soon as you violated my privacy by stealing my phone number from your employer's paperwork. Not cool at all. Please do not contact me again or I will report you to your supervisor.\",\n",
              "  {'cats': {'ham': True, 'spam': False}}),\n",
              " ('Valentines Day Special! Win over σú1000 in our quiz and take your partner on the trip of a lifetime! Send GO to 83600 now. 150p/msg rcvd. CustCare:08718720201.',\n",
              "  {'cats': {'ham': False, 'spam': True}}),\n",
              " ('Ta-Daaaaa! I am home babe, are you still up ?',\n",
              "  {'cats': {'ham': True, 'spam': False}}),\n",
              " ('Cool. So how come you havent been wined and dined before?',\n",
              "  {'cats': {'ham': True, 'spam': False}}),\n",
              " ('Just sleeping..and surfing', {'cats': {'ham': True, 'spam': False}}),\n",
              " (\"Sorry, I'll call later\", {'cats': {'ham': True, 'spam': False}}),\n",
              " ('U calling me right? Call my hand phone...',\n",
              "  {'cats': {'ham': True, 'spam': False}}),\n",
              " (\"Ok that's great thanx a lot.\", {'cats': {'ham': True, 'spam': False}}),\n",
              " ('I take it the post has come then! You must have 1000s of texts now! Happy reading. My one from wiv hello caroline at the end is my favourite. Bless him',\n",
              "  {'cats': {'ham': True, 'spam': False}}),\n",
              " ('Where u been hiding stranger?', {'cats': {'ham': True, 'spam': False}}),\n",
              " ('Am not interested to do like that.',\n",
              "  {'cats': {'ham': True, 'spam': False}}),\n",
              " ('My sister cleared two round in birla soft yesterday.',\n",
              "  {'cats': {'ham': True, 'spam': False}}),\n",
              " ('Gudnite....tc...practice going on', {'cats': {'ham': True, 'spam': False}}),\n",
              " ('Dis is yijue. I jus saw ur mail. In case huiming havent sent u my num. Dis is my num.',\n",
              "  {'cats': {'ham': True, 'spam': False}}),\n",
              " ('One small prestige problem now.', {'cats': {'ham': True, 'spam': False}}),\n",
              " ('Fancy a shag? I do.Interested? sextextuk.com txt XXUK SUZY to 69876. Txts cost 1.50 per msg. TnCs on website. X',\n",
              "  {'cats': {'ham': False, 'spam': True}}),\n",
              " ('Just checking in on you. Really do miss seeing Jeremiah. Do have a great month',\n",
              "  {'cats': {'ham': True, 'spam': False}}),\n",
              " (\"Nah can't help you there, I've never had an iphone\",\n",
              "  {'cats': {'ham': True, 'spam': False}}),\n",
              " (\"If you're not in my car in an hour and a half I'm going apeshit\",\n",
              "  {'cats': {'ham': True, 'spam': False}}),\n",
              " (\"TODAY is Sorry day.! If ever i was angry with you, if ever i misbehaved or hurt you? plz plz JUST SLAP URSELF Bcoz, Its ur fault, I'm basically GOOD\",\n",
              "  {'cats': {'ham': True, 'spam': False}}),\n",
              " ('Yo you guys ever figure out how much we need for alcohol? Jay and I are trying to figure out how much we can safely spend on weed',\n",
              "  {'cats': {'ham': True, 'spam': False}}),\n",
              " ('&lt;#&gt; ISH MINUTES WAS 5 MINUTES AGO. WTF.',\n",
              "  {'cats': {'ham': True, 'spam': False}}),\n",
              " ('Thank You for calling.Forgot to say Happy Onam to you Sirji.I am fine here and remembered you when i met an insurance person.Meet You in Qatar Insha Allah.Rakhesh, ex Tata AIG who joined TISSCO,Tayseer.',\n",
              "  {'cats': {'ham': True, 'spam': False}}),\n",
              " ('Congratulations ur awarded 500 of CD vouchers or 125gift guaranteed & Free entry 2 100 wkly draw txt MUSIC to 87066 TnCs www.Ldew.com1win150ppmx3age16',\n",
              "  {'cats': {'ham': False, 'spam': True}}),\n",
              " ('Ur cash-balance is currently 500 pounds - to maximize ur cash-in now send CASH to 86688 only 150p/msg. CC: 08708800282 HG/Suite342/2Lands Row/W1J6HL',\n",
              "  {'cats': {'ham': False, 'spam': True}}),\n",
              " (\"I'm an actor. When i work, i work in the evening and sleep late. Since i'm unemployed at the moment, i ALWAYS sleep late. When you're unemployed, every day is saturday.\",\n",
              "  {'cats': {'ham': True, 'spam': False}}),\n",
              " ('Hello! Just got here, st andrews-boy its a long way! Its cold. I will keep you posted',\n",
              "  {'cats': {'ham': True, 'spam': False}}),\n",
              " ('Ha ha cool cool chikku chikku:-):-DB-)',\n",
              "  {'cats': {'ham': True, 'spam': False}}),\n",
              " ('Oh ok no prob..', {'cats': {'ham': True, 'spam': False}}),\n",
              " (\"Check audrey's status right now\", {'cats': {'ham': True, 'spam': False}}),\n",
              " ('Busy here. Trying to finish for new year. I am looking forward to finally meeting you...',\n",
              "  {'cats': {'ham': True, 'spam': False}}),\n",
              " ('Good afternoon sunshine! How dawns that day ? Are we refreshed and happy to be alive? Do we breathe in the air and smile ? I think of you, my love ... As always',\n",
              "  {'cats': {'ham': True, 'spam': False}}),\n",
              " ('Well i know Z will take care of me. So no worries.',\n",
              "  {'cats': {'ham': True, 'spam': False}}),\n",
              " ('Update_Now - Xmas Offer! Latest Motorola, SonyEricsson & Nokia & FREE Bluetooth! Double Mins & 1000 Txt on Orange. Call MobileUpd8 on 08000839402 or call2optout/F4Q=',\n",
              "  {'cats': {'ham': False, 'spam': True}}),\n",
              " ('Here is your discount code RP176781. To stop further messages reply stop. www.regalportfolio.co.uk. Customer Services 08717205546',\n",
              "  {'cats': {'ham': False, 'spam': True}}),\n",
              " ('Wat uniform? In where get?', {'cats': {'ham': True, 'spam': False}}),\n",
              " (\"Cool, text me when you're ready\", {'cats': {'ham': True, 'spam': False}}),\n",
              " ('Hello my boytoy ... Geeee I miss you already and I just woke up. I wish you were here in bed with me, cuddling me. I love you ...',\n",
              "  {'cats': {'ham': True, 'spam': False}}),\n",
              " ('I will spoil you in bed as well :)',\n",
              "  {'cats': {'ham': True, 'spam': False}}),\n",
              " (\"I'm going for bath will msg you next  &lt;#&gt;  min..\",\n",
              "  {'cats': {'ham': True, 'spam': False}}),\n",
              " ('I cant keep talking to people if am not sure i can pay them if they agree to price. So pls tell me what you want to really buy and how much you are willing to pay',\n",
              "  {'cats': {'ham': True, 'spam': False}}),\n",
              " ('Thanks for your Ringtone Order, Reference T91. You will be charged GBP 4 per week. You can unsubscribe at anytime by calling customer services on 09057039994',\n",
              "  {'cats': {'ham': False, 'spam': True}}),\n",
              " ('Can you say what happen', {'cats': {'ham': True, 'spam': False}}),\n",
              " (\"You could have seen me..i did't recognise you Face.:)\",\n",
              "  {'cats': {'ham': True, 'spam': False}}),\n",
              " (\"Well there's not a lot of things happening in Lindsay on New years *sighs* Some bars in Ptbo and the blue heron has something going\",\n",
              "  {'cats': {'ham': True, 'spam': False}}),\n",
              " ('Keep my payasam there if rinu brings',\n",
              "  {'cats': {'ham': True, 'spam': False}}),\n",
              " ('I taught that Ranjith sir called me. So only i sms like that. Becaus hes verifying about project. Prabu told today so only pa dont mistake me..',\n",
              "  {'cats': {'ham': True, 'spam': False}}),\n",
              " (\"I guess that's why you re worried. You must know that there's a way the body repairs itself. And i'm quite sure you shouldn't worry. We'll take it slow. First the tests, they will guide when your ovulation is then just relax. Nothing you've said is a reason to worry but i.ll keep on followin you up.\",\n",
              "  {'cats': {'ham': True, 'spam': False}}),\n",
              " ('Yeah sure, give me a couple minutes to track down my wallet',\n",
              "  {'cats': {'ham': True, 'spam': False}}),\n",
              " ('Hey leave it. not a big deal:-) take care.',\n",
              "  {'cats': {'ham': True, 'spam': False}}),\n",
              " ('Hey i will be late ah... Meet you at 945+',\n",
              "  {'cats': {'ham': True, 'spam': False}}),\n",
              " ('Double mins and txts 4 6months FREE Bluetooth on Orange. Available on Sony, Nokia Motorola phones. Call MobileUpd8 on 08000839402 or call2optout/N9DX',\n",
              "  {'cats': {'ham': False, 'spam': True}}),\n",
              " ('It took Mr owl 3 licks', {'cats': {'ham': True, 'spam': False}}),\n",
              " ('Customer place i will call you.', {'cats': {'ham': True, 'spam': False}}),\n",
              " ('Mm that time you dont like fun', {'cats': {'ham': True, 'spam': False}}),\n",
              " ('4mths half price Orange line rental & latest camera phones 4 FREE. Had your phone 11mths ? Call MobilesDirect free on 08000938767 to update now! or2stoptxt',\n",
              "  {'cats': {'ham': False, 'spam': True}}),\n",
              " ('Yup having my lunch buffet now.. U eat already?',\n",
              "  {'cats': {'ham': True, 'spam': False}}),\n",
              " ('Huh so late... Fr dinner?', {'cats': {'ham': True, 'spam': False}}),\n",
              " ('Hey so this sat are we going for the intro pilates only? Or the kickboxing too? ',\n",
              "  {'cats': {'ham': True, 'spam': False}}),\n",
              " ('Morning only i can ok.', {'cats': {'ham': True, 'spam': False}}),\n",
              " ('Yes i think so. I am in office but my lap is in room i think thats on for the last few days. I didnt shut that down',\n",
              "  {'cats': {'ham': True, 'spam': False}}),\n",
              " ('Pick you up bout 7.30ish? What time are  and that going?',\n",
              "  {'cats': {'ham': True, 'spam': False}}),\n",
              " ('From here after The performance award is calculated every two month.not for current one month period..',\n",
              "  {'cats': {'ham': True, 'spam': False}}),\n",
              " ('Was actually sleeping and still might when u call back. So a text is gr8. You rock sis. Will send u a text wen i wake.',\n",
              "  {'cats': {'ham': True, 'spam': False}}),\n",
              " (\"You are always putting your business out there. You put pictures of your ass on facebook. You are one of the most open people i've ever met. Why would i think a picture of your room would hurt you, make you feel violated.\",\n",
              "  {'cats': {'ham': True, 'spam': False}}),\n",
              " ('Good evening Sir, Al Salam Wahleykkum.sharing a happy news.By the grace of God, i got an offer from Tayseer,TISSCO and i joined.Hope you are fine.Inshah Allah,meet you sometime.Rakhesh,visitor from India.',\n",
              "  {'cats': {'ham': True, 'spam': False}}),\n",
              " ('Hmmm...k...but i want to change the field quickly da:-)i wanna get system administrator or network administrator..',\n",
              "  {'cats': {'ham': True, 'spam': False}}),\n",
              " ('FREE RINGTONE text FIRST to 87131 for a poly or text GET to 87131 for a true tone! Help? 0845 2814032 16 after 1st free, tones are 3xσú150pw to eσúnd txt stop',\n",
              "  {'cats': {'ham': False, 'spam': True}}),\n",
              " ('Dear how is chechi. Did you talk to her',\n",
              "  {'cats': {'ham': True, 'spam': False}}),\n",
              " ('The hair cream has not been shipped.',\n",
              "  {'cats': {'ham': True, 'spam': False}}),\n",
              " (\"None of that's happening til you get here though\",\n",
              "  {'cats': {'ham': True, 'spam': False}}),\n",
              " ('Yep, the great loxahatchee xmas tree burning of  &lt;#&gt;  starts in an hour',\n",
              "  {'cats': {'ham': True, 'spam': False}}),\n",
              " ('Haha get used to driving to usf man, I know a lot of stoners',\n",
              "  {'cats': {'ham': True, 'spam': False}}),\n",
              " (\"All was well until slightly disastrous class this pm with my fav darlings! Hope day off ok. Coffee wld be good as can't stay late tomorrow. Same time + place as always?\",\n",
              "  {'cats': {'ham': True, 'spam': False}}),\n",
              " ('Hello! Good week? Fancy a drink or something later?',\n",
              "  {'cats': {'ham': True, 'spam': False}}),\n",
              " ('Headin towards busetop', {'cats': {'ham': True, 'spam': False}}),\n",
              " ('Message:some text missing* Sender:Name Missing* *Number Missing *Sent:Date missing *Missing U a lot thats y everything is missing sent via fullonsms.com',\n",
              "  {'cats': {'ham': True, 'spam': False}}),\n",
              " ('Come by our room at some point so we can iron out the plan for this weekend',\n",
              "  {'cats': {'ham': True, 'spam': False}}),\n",
              " ('Cos i want it to be your thing', {'cats': {'ham': True, 'spam': False}}),\n",
              " (\"Okies... I'll go yan jiu too... We can skip ard oso, go cine den go mrt one, blah blah blah... \",\n",
              "  {'cats': {'ham': True, 'spam': False}}),\n",
              " ('Bring home some Wendy =D', {'cats': {'ham': True, 'spam': False}}),\n",
              " ('100 dating service cal;l 09064012103 box334sk38ch',\n",
              "  {'cats': {'ham': False, 'spam': True}}),\n",
              " ('Whatsup there. Dont u want to sleep',\n",
              "  {'cats': {'ham': True, 'spam': False}}),\n",
              " ('Alright i have a new goal now', {'cats': {'ham': True, 'spam': False}}),\n",
              " ('FREE entry into our σú250 weekly competition just text the word WIN to 80086 NOW. 18 T&C www.txttowin.co.uk',\n",
              "  {'cats': {'ham': False, 'spam': True}}),\n",
              " (\"Alright, I'll head out in a few minutes, text me where to meet you\",\n",
              "  {'cats': {'ham': True, 'spam': False}}),\n",
              " ('Send a logo 2 ur lover - 2 names joined by a heart. Txt LOVE NAME1 NAME2 MOBNO eg LOVE ADAM EVE 07123456789 to 87077 Yahoo! POBox36504W45WQ TxtNO 4 no ads 150p',\n",
              "  {'cats': {'ham': False, 'spam': True}}),\n",
              " (\"Yes:)from last week itself i'm taking live call.\",\n",
              "  {'cats': {'ham': True, 'spam': False}}),\n",
              " ('Someone has contacted our dating service and entered your phone because they fancy you! To find out who it is call from a landline 09111032124 . PoBox12n146tf150p',\n",
              "  {'cats': {'ham': False, 'spam': True}}),\n",
              " ('Siva is in hostel aha:-.', {'cats': {'ham': True, 'spam': False}}),\n",
              " ('URGENT! Your Mobile number has been awarded with a σú2000 prize GUARANTEED. Call 09058094455 from land line. Claim 3030. Valid 12hrs only',\n",
              "  {'cats': {'ham': False, 'spam': True}}),\n",
              " ('Send this to ur friends and receive something about ur voice..... How is my speaking expression? 1.childish 2.naughty 3.Sentiment 4.rowdy 5.ful of attitude 6.romantic 7.shy 8.Attractive 9.funny  &lt;#&gt; .irritating  &lt;#&gt; .lovable. reply me..',\n",
              "  {'cats': {'ham': True, 'spam': False}}),\n",
              " (\"Ok. She'll be ok. I guess\", {'cats': {'ham': True, 'spam': False}}),\n",
              " ('aathi..where are you dear..', {'cats': {'ham': True, 'spam': False}}),\n",
              " ('Any pain on urination any thing else?',\n",
              "  {'cats': {'ham': True, 'spam': False}}),\n",
              " ('7 at esplanade.. Do ╠_ mind giving me a lift cos i got no car today..',\n",
              "  {'cats': {'ham': True, 'spam': False}}),\n",
              " ('I wnt to buy a BMW car urgently..its vry urgent.but hv a shortage of  &lt;#&gt; Lacs.there is no source to arng dis amt. &lt;#&gt; lacs..thats my prob',\n",
              "  {'cats': {'ham': True, 'spam': False}}),\n",
              " ('At home watching tv lor.', {'cats': {'ham': True, 'spam': False}}),\n",
              " ('Does she usually take fifteen fucking minutes to respond to a yes or no question',\n",
              "  {'cats': {'ham': True, 'spam': False}}),\n",
              " ('Congrats! Nokia 3650 video camera phone is your Call 09066382422 Calls cost 150ppm Ave call 3mins vary from mobiles 16+ Close 300603 post BCM4284 Ldn WC1N3XX',\n",
              "  {'cats': {'ham': False, 'spam': True}}),\n",
              " ('Booked ticket for pongal?', {'cats': {'ham': True, 'spam': False}}),\n",
              " (\"You available now? I'm like right around hillsborough &amp;  &lt;#&gt; th\",\n",
              "  {'cats': {'ham': True, 'spam': False}}),\n",
              " ('The message sent is askin for  &lt;#&gt; dollars. Shoul i pay  &lt;#&gt;  or  &lt;#&gt; ?',\n",
              "  {'cats': {'ham': True, 'spam': False}}),\n",
              " (\"Ask g or iouri, I've told the story like ten times already\",\n",
              "  {'cats': {'ham': True, 'spam': False}}),\n",
              " ('How long does applebees fucking take',\n",
              "  {'cats': {'ham': True, 'spam': False}}),\n",
              " ('Hi hope u get this txt~journey hasnt been gd,now about 50 mins late I think.',\n",
              "  {'cats': {'ham': True, 'spam': False}}),\n",
              " ('But i have to. I like to have love and arrange.',\n",
              "  {'cats': {'ham': True, 'spam': False}}),\n",
              " ('Yes..he is really great..bhaji told kallis best cricketer after sachin in world:).very tough to get out.',\n",
              "  {'cats': {'ham': True, 'spam': False}}),\n",
              " ('You were supposed to wake ME up &gt;:(',\n",
              "  {'cats': {'ham': True, 'spam': False}}),\n",
              " ('Oic... I saw him too but i tot he din c me... I found a group liao...',\n",
              "  {'cats': {'ham': True, 'spam': False}}),\n",
              " (\"Sorry, I'll call later\", {'cats': {'ham': True, 'spam': False}}),\n",
              " ('\\\\HEY HEY WERETHE MONKEESPEOPLE SAY WE MONKEYAROUND! HOWDY GORGEOUS',\n",
              "  {'cats': {'ham': True, 'spam': False}}),\n",
              " (\"Sorry, my battery died, I can come by but I'm only getting a gram for now, where's your place?\",\n",
              "  {'cats': {'ham': True, 'spam': False}}),\n",
              " ('Well done, blimey, exercise, yeah, i kinda remember wot that is, hmm. ',\n",
              "  {'cats': {'ham': True, 'spam': False}}),\n",
              " ('I wont get concentration dear you know you are my mind and everything :-)',\n",
              "  {'cats': {'ham': True, 'spam': False}}),\n",
              " ('LOL ... Have you made plans for new years?',\n",
              "  {'cats': {'ham': True, 'spam': False}}),\n",
              " ('10 min later k...', {'cats': {'ham': True, 'spam': False}}),\n",
              " ('hanks lotsly!', {'cats': {'ham': True, 'spam': False}}),\n",
              " ('Thanks for this hope you had a good day today',\n",
              "  {'cats': {'ham': True, 'spam': False}}),\n",
              " ('K:)k:)what are detail you want to transfer?acc no enough?',\n",
              "  {'cats': {'ham': True, 'spam': False}}),\n",
              " ('Ok i will tell her to stay out. Yeah its been tough but we are optimistic things will improve this month.',\n",
              "  {'cats': {'ham': True, 'spam': False}}),\n",
              " (\"Loan for any purpose σú500 - σú75,000. Homeowners + Tenants welcome. Have you been previously refused? We can still help. Call Free 0800 1956669 or text back 'help'\",\n",
              "  {'cats': {'ham': False, 'spam': True}}),\n",
              " ('Si si. I think ill go make those oreo truffles.',\n",
              "  {'cats': {'ham': True, 'spam': False}}),\n",
              " ('LOOK AT AMY URE A BEAUTIFUL, INTELLIGENT WOMAN AND I LIKE U A LOT. I KNOW U DONσ╒T LIKE ME LIKE THAT SO DONσ╒T WORRY.',\n",
              "  {'cats': {'ham': True, 'spam': False}}),\n",
              " (\"I hope you that's the result of being consistently intelligent and kind. Start asking him about practicum links and keep your ears open and all the best. ttyl\",\n",
              "  {'cats': {'ham': True, 'spam': False}}),\n",
              " ('1.20 that call cost. Which i guess isnt bad. Miss ya, need ya, want ya, love ya',\n",
              "  {'cats': {'ham': True, 'spam': False}}),\n",
              " ('Going thru a very different feeling.wavering decisions and coping up with the same is the same individual.time will heal everything i believe.',\n",
              "  {'cats': {'ham': True, 'spam': False}}),\n",
              " ('Where did u go? My phone is gonna die you have to stay in here',\n",
              "  {'cats': {'ham': True, 'spam': False}}),\n",
              " ('Great. Never been better. Each day gives even more reasons to thank God',\n",
              "  {'cats': {'ham': True, 'spam': False}}),\n",
              " (\"UpgrdCentre Orange customer, you may now claim your FREE CAMERA PHONE upgrade for your loyalty. Call now on 0207 153 9153. Offer ends 26th July. T&C's apply. Opt-out available\",\n",
              "  {'cats': {'ham': False, 'spam': True}}),\n",
              " (\"Sorry, I'll call later ok bye\", {'cats': {'ham': True, 'spam': False}}),\n",
              " ('Ok i am on the way to railway', {'cats': {'ham': True, 'spam': False}}),\n",
              " ('great princess! I love giving and receiving oral. Doggy style is my fave position. How about you? I enjoy making love  &lt;#&gt;  times per night :)',\n",
              "  {'cats': {'ham': True, 'spam': False}}),\n",
              " (\"They don't put that stuff on the roads to keep it from getting slippery over there?\",\n",
              "  {'cats': {'ham': True, 'spam': False}}),\n",
              " ('When are you going to ride your bike?',\n",
              "  {'cats': {'ham': True, 'spam': False}}),\n",
              " (\"Yup, no need. I'll jus wait 4 e rain 2 stop.\",\n",
              "  {'cats': {'ham': True, 'spam': False}}),\n",
              " ('There are many company. Tell me the language.',\n",
              "  {'cats': {'ham': True, 'spam': False}}),\n",
              " ('okmail: Dear Dave this is your final notice to collect your 4* Tenerife Holiday or #5000 CASH award! Call 09061743806 from landline. TCs SAE Box326 CW25WX 150ppm',\n",
              "  {'cats': {'ham': False, 'spam': True}}),\n",
              " ('How long has it been since you screamed, princess?',\n",
              "  {'cats': {'ham': True, 'spam': False}}),\n",
              " ('Nothing. I meant that once the money enters your account here, the bank will remove its flat rate. Someone transfered  &lt;#&gt;  to my account and  &lt;#&gt; dollars got removed. So the banks differ and charges also differ.be sure you trust the 9ja person you are sending account details to cos...',\n",
              "  {'cats': {'ham': True, 'spam': False}}),\n",
              " (\"Want 2 get laid tonight? Want real Dogging locations sent direct 2 ur Mob? Join the UK's largest Dogging Network by txting MOAN to 69888Nyt. ec2a. 31p.msg@150p\",\n",
              "  {'cats': {'ham': False, 'spam': True}}),\n",
              " (\"Nice line said by a broken heart- Plz don't cum 1 more times infront of me... Other wise once again I ll trust U... Good 9t:)\",\n",
              "  {'cats': {'ham': True, 'spam': False}}),\n",
              " (\"Ok I'm gonna head up to usf in like fifteen minutes\",\n",
              "  {'cats': {'ham': True, 'spam': False}}),\n",
              " ('Love you aathi..love u lot..', {'cats': {'ham': True, 'spam': False}}),\n",
              " ('Tension ah?what machi?any problem?',\n",
              "  {'cats': {'ham': True, 'spam': False}}),\n",
              " (\"K, can I pick up another 8th when you're done?\",\n",
              "  {'cats': {'ham': True, 'spam': False}}),\n",
              " (\"When're you guys getting back? G said you were thinking about not staying for mcr\",\n",
              "  {'cats': {'ham': True, 'spam': False}}),\n",
              " ('Almost there, see u in a sec', {'cats': {'ham': True, 'spam': False}}),\n",
              " ('Yo carlos, a few friends are already asking me about you, you working at all this weekend?',\n",
              "  {'cats': {'ham': True, 'spam': False}}),\n",
              " ('Watching tv lor...', {'cats': {'ham': True, 'spam': False}}),\n",
              " ('Thank you baby! I cant wait to taste the real thing...',\n",
              "  {'cats': {'ham': True, 'spam': False}}),\n",
              " ('You should change your fb to jaykwon thuglyfe falconerf',\n",
              "  {'cats': {'ham': True, 'spam': False}}),\n",
              " ('If we win its really no 1 side for long time.',\n",
              "  {'cats': {'ham': True, 'spam': False}}),\n",
              " ('FREE MESSAGE Activate your 500 FREE Text Messages by replying to this message with the word FREE For terms & conditions, visit www.07781482378.com',\n",
              "  {'cats': {'ham': False, 'spam': True}}),\n",
              " ('Dear reached railway. What happen to you',\n",
              "  {'cats': {'ham': True, 'spam': False}}),\n",
              " ('Depends on quality. If you want the type i sent boye, faded glory, then about 6. If you want ralphs maybe 2',\n",
              "  {'cats': {'ham': True, 'spam': False}}),\n",
              " (\"I think i've fixed it can you send a test message?\",\n",
              "  {'cats': {'ham': True, 'spam': False}}),\n",
              " (\"Sorry man my account's dry or I would, if you want we could trade back half or I could buy some shit with my credit card\",\n",
              "  {'cats': {'ham': True, 'spam': False}}),\n",
              " ('Congrats! 1 year special cinema pass for 2 is yours. call 09061209465 now! C Suprman V, Matrix3, StarWars3, etc all 4 FREE! bx420-ip4-5we. 150pm. Dont miss out!',\n",
              "  {'cats': {'ham': False, 'spam': True}}),\n",
              " (\"Sorry,in meeting I'll call later\", {'cats': {'ham': True, 'spam': False}}),\n",
              " ('What class of  &lt;#&gt;  reunion?',\n",
              "  {'cats': {'ham': True, 'spam': False}}),\n",
              " ('Are you free now?can i call now?', {'cats': {'ham': True, 'spam': False}}),\n",
              " ('Got meh... When?', {'cats': {'ham': True, 'spam': False}}),\n",
              " ('Nope... Think i will go for it on monday... Sorry i replied so late',\n",
              "  {'cats': {'ham': True, 'spam': False}}),\n",
              " ('Some of them told accenture is not confirm. Is it true.',\n",
              "  {'cats': {'ham': True, 'spam': False}}),\n",
              " ('Kate jackson rec center before 7ish, right?',\n",
              "  {'cats': {'ham': True, 'spam': False}}),\n",
              " ('Dear i have reache room', {'cats': {'ham': True, 'spam': False}}),\n",
              " ('Fighting with the world is easy, u either win or lose bt fightng with some1 who is close to u is dificult if u lose - u lose if u win - u still lose.',\n",
              "  {'cats': {'ham': True, 'spam': False}}),\n",
              " ('When can ╠_ come out?', {'cats': {'ham': True, 'spam': False}}),\n",
              " ('Check with nuerologist.', {'cats': {'ham': True, 'spam': False}}),\n",
              " ('Lolnice. I went from a fish to ..water.?',\n",
              "  {'cats': {'ham': True, 'spam': False}}),\n",
              " (\"+123 Congratulations - in this week's competition draw u have won the σú1450 prize to claim just call 09050002311 b4280703. T&Cs/stop SMS 08718727868. Over 18 only 150ppm\",\n",
              "  {'cats': {'ham': False, 'spam': True}}),\n",
              " (\"No it's waiting in e car dat's bored wat. Cos wait outside got nothing 2 do. At home can do my stuff or watch tv wat.\",\n",
              "  {'cats': {'ham': True, 'spam': False}}),\n",
              " ('Maybe westshore or hyde park village, the place near my house?',\n",
              "  {'cats': {'ham': True, 'spam': False}}),\n",
              " (\"You should know now. So how's anthony. Are you bringing money. I've school fees to pay and rent and stuff like that. Thats why i need your help. A friend in need....|\",\n",
              "  {'cats': {'ham': True, 'spam': False}}),\n",
              " (\"What's the significance?\", {'cats': {'ham': True, 'spam': False}}),\n",
              " ('Your opinion about me? 1. Over 2. Jada 3. Kusruthi 4. Lovable 5. Silent 6. Spl character 7. Not matured 8. Stylish 9. Simple Pls reply..',\n",
              "  {'cats': {'ham': True, 'spam': False}}),\n",
              " (\"8 at the latest, g's still there if you can scrounge up some ammo and want to give the new ak a try\",\n",
              "  {'cats': {'ham': True, 'spam': False}}),\n",
              " (\"Prabha..i'm soryda..realy..frm heart i'm sory\",\n",
              "  {'cats': {'ham': True, 'spam': False}}),\n",
              " ('Lol ok your forgiven :)', {'cats': {'ham': True, 'spam': False}}),\n",
              " ('No..jst change tat only..', {'cats': {'ham': True, 'spam': False}}),\n",
              " ('You are guaranteed the latest Nokia Phone, a 40GB iPod MP3 player or a σú500 prize! Txt word: COLLECT to No: 83355! IBHltd LdnW15H 150p/Mtmsgrcvd18+',\n",
              "  {'cats': {'ham': False, 'spam': True}}),\n",
              " ('S:)no competition for him.', {'cats': {'ham': True, 'spam': False}}),\n",
              " ('Boltblue tones for 150p Reply POLY# or MONO# eg POLY3 1. Cha Cha Slide 2. Yeah 3. Slow Jamz 6. Toxic 8. Come With Me or STOP 4 more tones txt MORE',\n",
              "  {'cats': {'ham': False, 'spam': True}}),\n",
              " ('Your credits have been topped up for http://www.bubbletext.com Your renewal Pin is tgxxrz',\n",
              "  {'cats': {'ham': False, 'spam': True}}),\n",
              " ('That way transport is less problematic than on sat night. By the way, if u want to ask  n  to join my bday, feel free. But need to know definite nos as booking on fri. ',\n",
              "  {'cats': {'ham': True, 'spam': False}}),\n",
              " (\"Usually the person is unconscious that's in children but in adults they may just behave abnormally. I.ll call you now\",\n",
              "  {'cats': {'ham': True, 'spam': False}}),\n",
              " (\"But that's on ebay it might be less elsewhere.\",\n",
              "  {'cats': {'ham': True, 'spam': False}}),\n",
              " ('Shall i come to get pickle', {'cats': {'ham': True, 'spam': False}}),\n",
              " ('Were gonna go get some tacos', {'cats': {'ham': True, 'spam': False}}),\n",
              " (\"That's very rude, you on campus?\", {'cats': {'ham': True, 'spam': False}}),\n",
              " ('URGENT!: Your Mobile No. was awarded a σú2,000 Bonus Caller Prize on 02/09/03! This is our 2nd attempt to contact YOU! Call 0871-872-9755 BOX95QU',\n",
              "  {'cats': {'ham': False, 'spam': True}}),\n",
              " (\"Hi i won't b ard 4 christmas. But do enjoy n merry x'mas.\",\n",
              "  {'cats': {'ham': True, 'spam': False}}),\n",
              " (\"Today's Offer! Claim ur σú150 worth of discount vouchers! Text YES to 85023 now! SavaMob, member offers mobile! T Cs 08717898035. σú3.00 Sub. 16 . Unsub reply X\",\n",
              "  {'cats': {'ham': False, 'spam': True}}),\n",
              " ('Yes! How is a pretty lady like you single?',\n",
              "  {'cats': {'ham': True, 'spam': False}}),\n",
              " ('You will recieve your tone within the next 24hrs. For Terms and conditions please see Channel U Teletext Pg 750',\n",
              "  {'cats': {'ham': False, 'spam': True}}),\n",
              " (\"Jay says that you're a double-faggot\",\n",
              "  {'cats': {'ham': True, 'spam': False}}),\n",
              " ('PRIVATE! Your 2003 Account Statement for 07815296484 shows 800 un-redeemed S.I.M. points. Call 08718738001 Identifier Code 41782 Expires 18/11/04 ',\n",
              "  {'cats': {'ham': False, 'spam': True}}),\n",
              " ('What Today-sunday..sunday is holiday..so no work..',\n",
              "  {'cats': {'ham': True, 'spam': False}}),\n",
              " ('Gudnite....tc...practice going on', {'cats': {'ham': True, 'spam': False}}),\n",
              " (\"I'll be late...\", {'cats': {'ham': True, 'spam': False}}),\n",
              " (\"I've not called you in a while. This is hoping it was l8r malaria and that you know that we miss you guys. I miss Bani big, so pls give her my love especially. Have a great day.\",\n",
              "  {'cats': {'ham': True, 'spam': False}}),\n",
              " ('Good afternoon, my love! How goes that day ? I hope maybe you got some leads on a job. I think of you, boytoy and send you a passionate kiss from across the sea',\n",
              "  {'cats': {'ham': True, 'spam': False}}),\n",
              " ('Probably gonna be here for a while, see you later tonight &lt;)',\n",
              "  {'cats': {'ham': True, 'spam': False}}),\n",
              " (\"Or maybe my fat fingers just press all these buttons and it doesn't know what to do.\",\n",
              "  {'cats': {'ham': True, 'spam': False}}),\n",
              " ('Ummmmmaah Many many happy returns of d day my dear sweet heart.. HAPPY BIRTHDAY dear',\n",
              "  {'cats': {'ham': True, 'spam': False}}),\n",
              " ('I am in tirupur da, once you started from office call me.',\n",
              "  {'cats': {'ham': True, 'spam': False}}),\n",
              " ('from www.Applausestore.com MonthlySubscription@50p/msg max6/month T&CsC web age16 2stop txt stop',\n",
              "  {'cats': {'ham': False, 'spam': True}}),\n",
              " (\"A famous quote : when you develop the ability to listen to 'anything' unconditionally without losing your temper or self confidence, it means you are ......... 'MARRIED'\",\n",
              "  {'cats': {'ham': True, 'spam': False}}),\n",
              " ('But am going to college pa. What to do. are else ill come there it self. Pa.',\n",
              "  {'cats': {'ham': True, 'spam': False}}),\n",
              " ('4 oclock at mine. Just to bash out a flat plan.',\n",
              "  {'cats': {'ham': True, 'spam': False}}),\n",
              " (\"This girl does not stay in bed. This girl doesn't need recovery time. Id rather pass out while having fun then be cooped up in bed\",\n",
              "  {'cats': {'ham': True, 'spam': False}}),\n",
              " ('Then any special there?', {'cats': {'ham': True, 'spam': False}}),\n",
              " (\"I know but you need to get hotel now. I just got my invitation but i had to apologise. Cali is to sweet for me to come to some english bloke's weddin\",\n",
              "  {'cats': {'ham': True, 'spam': False}}),\n",
              " ('Sorry that took so long, omw now', {'cats': {'ham': True, 'spam': False}}),\n",
              " ('Wait  &lt;#&gt;  min..', {'cats': {'ham': True, 'spam': False}}),\n",
              " (\"Ok give me 5 minutes I think I see her. BTW you're my alibi. You were cutting my hair the whole time.\",\n",
              "  {'cats': {'ham': True, 'spam': False}}),\n",
              " ('Imagine you finally get to sink into that bath after I have put you through your paces, maybe even having you eat me for a while before I left ... But also imagine the feel of that cage on your cock surrounded by the bath water, reminding you always who owns you ... Enjoy, my cuck',\n",
              "  {'cats': {'ham': True, 'spam': False}}),\n",
              " (\"Hurry up, I've been weed-deficient for like three days\",\n",
              "  {'cats': {'ham': True, 'spam': False}}),\n",
              " (\"Sure, if I get an acknowledgement from you that it's astoundingly tactless and generally faggy to demand a blood oath fo\",\n",
              "  {'cats': {'ham': True, 'spam': False}}),\n",
              " (\"Ok. Every night take a warm bath drink a cup of milk and you'll see a work of magic. You still need to loose weight. Just so that you know\",\n",
              "  {'cats': {'ham': True, 'spam': False}}),\n",
              " ('Ië█≈ll have a look at the frying pan in case itë█≈s cheap or a book perhaps. No thatë█≈s silly a frying pan isnë█≈t likely to be a book',\n",
              "  {'cats': {'ham': True, 'spam': False}}),\n",
              " ('O. Well uv causes mutations. Sunscreen is like essential thesedays',\n",
              "  {'cats': {'ham': True, 'spam': False}}),\n",
              " ('Having lunch:)you are not in online?why?',\n",
              "  {'cats': {'ham': True, 'spam': False}}),\n",
              " ('I know that my friend already told that.',\n",
              "  {'cats': {'ham': True, 'spam': False}}),\n",
              " ('Hi Princess! Thank you for the pics. You are very pretty. How are you?',\n",
              "  {'cats': {'ham': True, 'spam': False}}),\n",
              " ('Aiyo... U always c our ex one... I dunno abt mei, she haven reply... First time u reply so fast... Y so lucky not workin huh, got bao by ur sugardad ah...gee.. ',\n",
              "  {'cats': {'ham': True, 'spam': False}}),\n",
              " (\"Hi msg me:)i'm in office..\", {'cats': {'ham': True, 'spam': False}}),\n",
              " (\"Thanx 4 e brownie it's v nice...\", {'cats': {'ham': True, 'spam': False}}),\n",
              " ('Geeeee ... I love you so much I can barely stand it',\n",
              "  {'cats': {'ham': True, 'spam': False}}),\n",
              " ('GENT! We are trying to contact you. Last weekends draw shows that you won a σú1000 prize GUARANTEED. Call 09064012160. Claim Code K52. Valid 12hrs only. 150ppm ',\n",
              "  {'cats': {'ham': False, 'spam': True}}),\n",
              " (\"Fuck babe ... I miss you already, you know ? Can't you let me send you some money towards your net ? I need you ... I want you ... I crave you ...\",\n",
              "  {'cats': {'ham': True, 'spam': False}}),\n",
              " ('Ill call u 2mrw at ninish, with my address that icky American freek wont stop callin me 2 bad Jen k eh?',\n",
              "  {'cats': {'ham': True, 'spam': False}}),\n",
              " ('Oooh bed ridden ey? What are YOU thinking of?',\n",
              "  {'cats': {'ham': True, 'spam': False}}),\n",
              " ('So anyways, you can just go to your gym or whatever, my love *smiles* I hope your ok and having a good day babe ... I miss you so much already',\n",
              "  {'cats': {'ham': True, 'spam': False}}),\n",
              " ('Love it! Daddy will make you scream with pleasure! I am going to slap your ass with my dick!',\n",
              "  {'cats': {'ham': True, 'spam': False}}),\n",
              " ('WOT U WANNA DO THEN MISSY?', {'cats': {'ham': True, 'spam': False}}),\n",
              " ('Yar lor wait 4 my mum 2 finish sch then have lunch lor... I whole morning stay at home clean my room now my room quite clean... Hee...',\n",
              "  {'cats': {'ham': True, 'spam': False}}),\n",
              " ('Do you know where my lab goggles went',\n",
              "  {'cats': {'ham': True, 'spam': False}}),\n",
              " ('Can you open the door?', {'cats': {'ham': True, 'spam': False}}),\n",
              " ('Waiting for your call.', {'cats': {'ham': True, 'spam': False}}),\n",
              " ('Nope i waiting in sch 4 daddy... ', {'cats': {'ham': True, 'spam': False}}),\n",
              " ('You have won ?1,000 cash or a ?2,000 prize! To claim, call09050000327',\n",
              "  {'cats': {'ham': False, 'spam': True}}),\n",
              " (\"I'm tired of arguing with you about this week after week. Do what you want and from now on, i'll do the same.\",\n",
              "  {'cats': {'ham': True, 'spam': False}}),\n",
              " ('╠╧ wait 4 me in sch i finish ard 5..',\n",
              "  {'cats': {'ham': True, 'spam': False}}),\n",
              " ('our mobile number has won σú5000, to claim calls us back or ring the claims hot line on 09050005321.',\n",
              "  {'cats': {'ham': False, 'spam': True}}),\n",
              " ('Arngd marriage is while u r walkin unfortuntly a snake bites u. bt love marriage is dancing in frnt of d snake &amp; sayin Bite me, bite me.',\n",
              "  {'cats': {'ham': True, 'spam': False}}),\n",
              " ('Huh so early.. Then ╠_ having dinner outside izzit?',\n",
              "  {'cats': {'ham': True, 'spam': False}}),\n",
              " ('Ok anyway no need to change with what you said',\n",
              "  {'cats': {'ham': True, 'spam': False}}),\n",
              " ('We tried to contact you re your reply to our offer of 750 mins 150 textand a new video phone call 08002988890 now or reply for free delivery tomorrow',\n",
              "  {'cats': {'ham': False, 'spam': True}}),\n",
              " ('my ex-wife was not able to have kids. Do you want kids one day?',\n",
              "  {'cats': {'ham': True, 'spam': False}}),\n",
              " (\"So how's scotland. Hope you are not over showing your JJC tendencies. Take care. Live the dream\",\n",
              "  {'cats': {'ham': True, 'spam': False}}),\n",
              " ('Tell them u have a headache and just want to use 1 hour of sick time.',\n",
              "  {'cats': {'ham': True, 'spam': False}}),\n",
              " (\"I dun thk i'll quit yet... Hmmm, can go jazz ? Yogasana oso can... We can go meet em after our lessons den... \",\n",
              "  {'cats': {'ham': True, 'spam': False}}),\n",
              " ('\\\\Pete can you please ring meive hardly gotany credit\\\\\"\"',\n",
              "  {'cats': {'ham': True, 'spam': False}}),\n",
              " ('Ya srsly better than yi tho', {'cats': {'ham': True, 'spam': False}}),\n",
              " (\"I'm in a meeting, call me later at\",\n",
              "  {'cats': {'ham': True, 'spam': False}}),\n",
              " (\"For ur chance to win a σú250 wkly shopping spree TXT: SHOP to 80878. T's&C's www.txt-2-shop.com custcare 08715705022, 1x150p/wk\",\n",
              "  {'cats': {'ham': False, 'spam': True}}),\n",
              " ('You have been specially selected to receive a 2000 pound award! Call 08712402050 BEFORE the lines close. Cost 10ppm. 16+. T&Cs apply. AG Promo',\n",
              "  {'cats': {'ham': False, 'spam': True}}),\n",
              " ('PRIVATE! Your 2003 Account Statement for 07753741225 shows 800 un-redeemed S. I. M. points. Call 08715203677 Identifier Code: 42478 Expires 24/10/04',\n",
              "  {'cats': {'ham': False, 'spam': True}}),\n",
              " ('You still at grand prix?', {'cats': {'ham': True, 'spam': False}}),\n",
              " ('I met you as a stranger and choose you as my friend. As long as the world stands, our friendship never ends. Lets be Friends forever!!! Gud nitz...',\n",
              "  {'cats': {'ham': True, 'spam': False}}),\n",
              " ('I am great! How are you?', {'cats': {'ham': True, 'spam': False}}),\n",
              " ('Gud mrng dear have a nice day', {'cats': {'ham': True, 'spam': False}}),\n",
              " ('You have an important customer service announcement. Call FREEPHONE 0800 542 0825 now!',\n",
              "  {'cats': {'ham': False, 'spam': True}}),\n",
              " ('Will do. Was exhausted on train this morning. Too much wine and pie. You sleep well too',\n",
              "  {'cats': {'ham': True, 'spam': False}}),\n",
              " (\"I'm going out to buy mum's present ar.\",\n",
              "  {'cats': {'ham': True, 'spam': False}}),\n",
              " ('Mind blastin.. No more Tsunamis will occur from now on.. Rajnikant stopped swimming in Indian Ocean..:-D',\n",
              "  {'cats': {'ham': True, 'spam': False}}),\n",
              " (\"If u sending her home first it's ok lor. I'm not ready yet.\",\n",
              "  {'cats': {'ham': True, 'spam': False}}),\n",
              " ('Speaking of does he have any cash yet?',\n",
              "  {'cats': {'ham': True, 'spam': False}}),\n",
              " ('Be happy there. I will come after noon',\n",
              "  {'cats': {'ham': True, 'spam': False}}),\n",
              " ('Meet after lunch la...', {'cats': {'ham': True, 'spam': False}}),\n",
              " ('TaKe CaRE n gET WeLL sOOn', {'cats': {'ham': True, 'spam': False}}),\n",
              " ('XCLUSIVE@CLUBSAISAI 2MOROW 28/5 SOIREE SPECIALE ZOUK WITH NICHOLS FROM PARIS.FREE ROSES 2 ALL LADIES !!! info: 07946746291/07880867867 ',\n",
              "  {'cats': {'ham': False, 'spam': True}}),\n",
              " ('what I meant to say is cant wait to see u again getting bored of this bridgwater banter',\n",
              "  {'cats': {'ham': True, 'spam': False}}),\n",
              " (\"Neva mind it's ok..\", {'cats': {'ham': True, 'spam': False}}),\n",
              " (\"It's fine, imma get a drink or somethin. Want me to come find you?\",\n",
              "  {'cats': {'ham': True, 'spam': False}}),\n",
              " ('22 days to kick off! For Euro2004 U will be kept up to date with the latest news and results daily. To be removed send GET TXT STOP to 83222',\n",
              "  {'cats': {'ham': False, 'spam': True}}),\n",
              " ('Its a valentine game. . . Send dis msg to all ur friends. .. If 5 answers r d same then someone really loves u. Ques- which colour suits me the best?rply me',\n",
              "  {'cats': {'ham': True, 'spam': False}}),\n",
              " ('I have many dependents', {'cats': {'ham': True, 'spam': False}}),\n",
              " ('THANX4 TODAY CER IT WAS NICE 2 CATCH UP BUT WE AVE 2 FIND MORE TIME MORE OFTEN OH WELL TAKE CARE C U SOON.C',\n",
              "  {'cats': {'ham': True, 'spam': False}}),\n",
              " ('I called and said all to him:)then he have to choose this future.',\n",
              "  {'cats': {'ham': True, 'spam': False}}),\n",
              " ('\\\\Happy valentines day\\\\\" I know its early but i have hundreds of handsomes and beauties to wish. So i thought to finish off aunties and uncles 1st...\"',\n",
              "  {'cats': {'ham': True, 'spam': False}}),\n",
              " ('He like not v shock leh. Cos telling shuhui is like telling leona also. Like dat almost all know liao. He got ask me abt ur reaction lor.',\n",
              "  {'cats': {'ham': True, 'spam': False}}),\n",
              " ('For my family happiness..', {'cats': {'ham': True, 'spam': False}}),\n",
              " ('I come n pick ╠_ up... Come out immediately aft ur lesson...',\n",
              "  {'cats': {'ham': True, 'spam': False}}),\n",
              " ('Let there be snow. Let there be snow. This kind of weather brings ppl together so friendships can grow.',\n",
              "  {'cats': {'ham': True, 'spam': False}}),\n",
              " ('Dear we got  &lt;#&gt;  dollars hi hi',\n",
              "  {'cats': {'ham': True, 'spam': False}}),\n",
              " ('Good words.... But words may leave u in dismay many times.',\n",
              "  {'cats': {'ham': True, 'spam': False}}),\n",
              " (\"MAKE SURE ALEX KNOWS HIS BIRTHDAY IS OVER IN FIFTEEN MINUTES AS FAR AS YOU'RE CONCERNED\",\n",
              "  {'cats': {'ham': True, 'spam': False}}),\n",
              " ('sorry, no, have got few things to do. may be in pub later.',\n",
              "  {'cats': {'ham': True, 'spam': False}}),\n",
              " (\"Nah it's straight, if you can just bring bud or drinks or something that's actually a little more useful than straight cash\",\n",
              "  {'cats': {'ham': True, 'spam': False}}),\n",
              " (\"Haha good to hear, I'm officially paid and on the market for an 8th\",\n",
              "  {'cats': {'ham': True, 'spam': False}}),\n",
              " ('How many licks does it take to get to the center of a tootsie pop?',\n",
              "  {'cats': {'ham': True, 'spam': False}}),\n",
              " ('Yup i thk they r e teacher said that will make my face look longer. Darren ask me not 2 cut too short.',\n",
              "  {'cats': {'ham': True, 'spam': False}}),\n",
              " ('New TEXTBUDDY Chat 2 horny guys in ur area 4 just 25p Free 2 receive Search postcode or at gaytextbuddy.com. TXT ONE name to 89693',\n",
              "  {'cats': {'ham': False, 'spam': True}}),\n",
              " ('Todays Vodafone numbers ending with 4882 are selected to a receive a σú350 award. If your number matches call 09064019014 to receive your σú350 award.',\n",
              "  {'cats': {'ham': False, 'spam': True}}),\n",
              " ('Please dont say like that. Hi hi hi',\n",
              "  {'cats': {'ham': True, 'spam': False}}),\n",
              " ('Thank u!', {'cats': {'ham': True, 'spam': False}}),\n",
              " ('Oh that was a forwarded message. I thought you send that to me',\n",
              "  {'cats': {'ham': True, 'spam': False}}),\n",
              " ('Got it. Seventeen pounds for seven hundred ml ë█╥ hope ok.',\n",
              "  {'cats': {'ham': True, 'spam': False}}),\n",
              " ('Dear Voucher Holder, 2 claim this weeks offer, at your PC go to http://www.e-tlp.co.uk/expressoffer Ts&Cs apply.2 stop texts txt STOP to 80062.',\n",
              "  {'cats': {'ham': False, 'spam': True}}),\n",
              " ('Me n him so funny...', {'cats': {'ham': True, 'spam': False}}),\n",
              " ('Sweetheart, hope you are not having that kind of day! Have one with loads of reasons to smile. Biola',\n",
              "  {'cats': {'ham': True, 'spam': False}}),\n",
              " ('When ╠_ login dat time... Dad fetching ╠_ home now?',\n",
              "  {'cats': {'ham': True, 'spam': False}}),\n",
              " ('What will we do in the shower, baby?',\n",
              "  {'cats': {'ham': True, 'spam': False}}),\n",
              " ('I had askd u a question some hours before. Its answer',\n",
              "  {'cats': {'ham': True, 'spam': False}}),\n",
              " (\"Well imma definitely need to restock before thanksgiving, I'll let you know when I'm out\",\n",
              "  {'cats': {'ham': True, 'spam': False}}),\n",
              " (\" said kiss, kiss, i can't do the sound effects! He is a gorgeous man isn't he! Kind of person who needs a smile to brighten his day! \",\n",
              "  {'cats': {'ham': True, 'spam': False}}),\n",
              " ('Probably gonna swing by in a wee bit',\n",
              "  {'cats': {'ham': True, 'spam': False}}),\n",
              " ('Ya very nice. . .be ready on thursday',\n",
              "  {'cats': {'ham': True, 'spam': False}}),\n",
              " ('Allo! We have braved the buses and taken on the trains and triumphed. I mean weë█≈re in bë█≈ham. Have a jolly good rest of week',\n",
              "  {'cats': {'ham': True, 'spam': False}}),\n",
              " ('Watching cartoon, listening music &amp; at eve had to go temple &amp; church.. What about u?',\n",
              "  {'cats': {'ham': True, 'spam': False}}),\n",
              " ('Do you mind if I ask what happened? You dont have to say if it is uncomfortable.',\n",
              "  {'cats': {'ham': True, 'spam': False}}),\n",
              " ('PRIVATE! Your 2003 Account Statement for shows 800 un-redeemed S. I. M. points. Call 08715203694 Identifier Code: 40533 Expires 31/10/04',\n",
              "  {'cats': {'ham': False, 'spam': True}}),\n",
              " ('No prob. I will send to your email.',\n",
              "  {'cats': {'ham': True, 'spam': False}}),\n",
              " ('You have won ?1,000 cash or a ?2,000 prize! To claim, call09050000327. T&C: RSTM, SW7 3SS. 150ppm',\n",
              "  {'cats': {'ham': False, 'spam': True}}),\n",
              " ('Thats cool! Sometimes slow and gentle. Sonetimes rough and hard :)',\n",
              "  {'cats': {'ham': True, 'spam': False}}),\n",
              " (\"I'm gonna say no. Sorry. I would but as normal am starting to panic about time. Sorry again! Are you seeing on Tuesday?\",\n",
              "  {'cats': {'ham': True, 'spam': False}}),\n",
              " ('Wait, do you know if wesleys in town? I bet she does hella drugs!',\n",
              "  {'cats': {'ham': True, 'spam': False}}),\n",
              " ('Fine i miss you very much.', {'cats': {'ham': True, 'spam': False}}),\n",
              " ('Did u got that persons story', {'cats': {'ham': True, 'spam': False}}),\n",
              " (\"Tell them the drug dealer's getting impatient\",\n",
              "  {'cats': {'ham': True, 'spam': False}}),\n",
              " ('Sun cant come to earth but send luv as rays. cloud cant come to river but send luv as rain. I cant come to meet U, but can send my care as msg to U. Gud evng',\n",
              "  {'cats': {'ham': True, 'spam': False}}),\n",
              " ('You will be in the place of that man',\n",
              "  {'cats': {'ham': True, 'spam': False}}),\n",
              " ('It doesnt make sense to take it there unless its free. If you need to know more, wikipedia.com',\n",
              "  {'cats': {'ham': True, 'spam': False}}),\n",
              " ('88800 and 89034 are premium phone services call 08718711108',\n",
              "  {'cats': {'ham': False, 'spam': True}}),\n",
              " (\"Under the sea, there lays a rock. In the rock, there is an envelope. In the envelope, there is a paper. On the paper, there are 3 words... '\",\n",
              "  {'cats': {'ham': True, 'spam': False}}),\n",
              " (\"Then mum's repent how?\", {'cats': {'ham': True, 'spam': False}}),\n",
              " ('Sorry me going home first... Daddy come fetch ╠_ later...',\n",
              "  {'cats': {'ham': True, 'spam': False}}),\n",
              " ('Leave it de:-). Start Prepare for next:-)..',\n",
              "  {'cats': {'ham': True, 'spam': False}}),\n",
              " ('Yes baby! We can study all the positions of the kama sutra ;)',\n",
              "  {'cats': {'ham': True, 'spam': False}}),\n",
              " ('En chikku nange bakra msg kalstiya..then had tea/coffee?',\n",
              "  {'cats': {'ham': True, 'spam': False}}),\n",
              " (\"Carlos'll be here in a minute if you still need to buy\",\n",
              "  {'cats': {'ham': True, 'spam': False}}),\n",
              " ('This pay is  &lt;DECIMAL&gt;  lakhs:)',\n",
              "  {'cats': {'ham': True, 'spam': False}}),\n",
              " ('Have a good evening! Ttyl', {'cats': {'ham': True, 'spam': False}}),\n",
              " ('Did u receive my msg?', {'cats': {'ham': True, 'spam': False}}),\n",
              " ('Ho ho - big belly laugh! See ya tomo',\n",
              "  {'cats': {'ham': True, 'spam': False}}),\n",
              " ('SMS. ac sun0819 posts HELLO:\\\\You seem cool',\n",
              "  {'cats': {'ham': False, 'spam': True}}),\n",
              " ('Get ur 1st RINGTONE FREE NOW! Reply to this msg with TONE. Gr8 TOP 20 tones to your phone every week just σú1.50 per wk 2 opt out send STOP 08452810071 16',\n",
              "  {'cats': {'ham': False, 'spam': True}}),\n",
              " (\"Ditto. And you won't have to worry about me saying ANYTHING to you anymore. Like i said last night, you do whatever you want and i'll do the same. Peace.\",\n",
              "  {'cats': {'ham': True, 'spam': False}}),\n",
              " (\"I've got  &lt;#&gt; , any way I could pick up?\",\n",
              "  {'cats': {'ham': True, 'spam': False}}),\n",
              " ('I dont knw pa, i just drink milk..',\n",
              "  {'cats': {'ham': True, 'spam': False}}),\n",
              " ('Maybe?! Say hi to  and find out if  got his card. Great escape or wetherspoons? ',\n",
              "  {'cats': {'ham': True, 'spam': False}}),\n",
              " (\"Piggy, r u awake? I bet u're still sleeping. I'm going 4 lunch now...\",\n",
              "  {'cats': {'ham': True, 'spam': False}}),\n",
              " (\"Cause I'm not freaky lol\", {'cats': {'ham': True, 'spam': False}}),\n",
              " (\"Missed your call cause I was yelling at scrappy. Miss u. Can't wait for u to come home. I'm so lonely today.\",\n",
              "  {'cats': {'ham': True, 'spam': False}}),\n",
              " (\"What is this 'hex' place you talk of? Explain!\",\n",
              "  {'cats': {'ham': True, 'spam': False}}),\n",
              " (\"╠╧ log off 4 wat. It's sdryb8i\", {'cats': {'ham': True, 'spam': False}}),\n",
              " ('Is xy going 4 e lunch?', {'cats': {'ham': True, 'spam': False}}),\n",
              " (\"Hi I'm sue. I am 20 years old and work as a lapdancer. I love sex. Text me live - I'm i my bedroom now. text SUE to 89555. By TextOperator G2 1DA 150ppmsg 18+\",\n",
              "  {'cats': {'ham': False, 'spam': True}}),\n",
              " ('I wanted to ask ╠_ to wait 4 me to finish lect. Cos my lect finishes in an hour anyway.',\n",
              "  {'cats': {'ham': True, 'spam': False}}),\n",
              " ('Have you finished work yet? :)', {'cats': {'ham': True, 'spam': False}}),\n",
              " ('Every King Was Once A Crying Baby And Every Great Building Was Once A Map.. Not Imprtant Where U r TODAY, BUT Where U Wil Reach TOMORW. Gud ni8',\n",
              "  {'cats': {'ham': True, 'spam': False}}),\n",
              " ('Dear,Me at cherthala.in case u r coming cochin pls call bfore u start.i shall also reach accordingly.or tell me which day u r coming.tmorow i am engaged ans its holiday.',\n",
              "  {'cats': {'ham': True, 'spam': False}}),\n",
              " ('Thanks love. But am i doing torch or bold.',\n",
              "  {'cats': {'ham': True, 'spam': False}}),\n",
              " ('<Forwarded from 448712404000>Please CALL 08712404000 immediately as there is an urgent message waiting for you.',\n",
              "  {'cats': {'ham': False, 'spam': True}}),\n",
              " ('Was the farm open?', {'cats': {'ham': True, 'spam': False}}),\n",
              " ('Sorry to trouble u again. Can buy 4d for my dad again? 1405, 1680, 1843. All 2 big 1 small, sat n sun. Thanx.',\n",
              "  {'cats': {'ham': True, 'spam': False}}),\n",
              " ('My sister in law, hope you are having a great month. Just saying hey. Abiola',\n",
              "  {'cats': {'ham': True, 'spam': False}}),\n",
              " ('Will purchase d stuff today and mail to you. Do you have a po box number?',\n",
              "  {'cats': {'ham': True, 'spam': False}}),\n",
              " ('Ah poop. Looks like ill prob have to send in my laptop to get fixed cuz it has a gpu problem',\n",
              "  {'cats': {'ham': True, 'spam': False}}),\n",
              " ('Good. Good job. I like entrepreneurs',\n",
              "  {'cats': {'ham': True, 'spam': False}}),\n",
              " (\"Aight, you close by or still down around alex's place?\",\n",
              "  {'cats': {'ham': True, 'spam': False}}),\n",
              " ('meet you in corporation st outside gap ë█_ you can see how my mind is working!',\n",
              "  {'cats': {'ham': True, 'spam': False}}),\n",
              " ('Mum ask ╠_ to buy food home...', {'cats': {'ham': True, 'spam': False}}),\n",
              " ('K..u also dont msg or reply to his msg..',\n",
              "  {'cats': {'ham': True, 'spam': False}}),\n",
              " ('How much r ╠_ willing to pay?', {'cats': {'ham': True, 'spam': False}}),\n",
              " (\"Sorry, I'll call later\", {'cats': {'ham': True, 'spam': False}}),\n",
              " ('What is important is that you prevent dehydration by giving her enough fluids',\n",
              "  {'cats': {'ham': True, 'spam': False}}),\n",
              " ('Thats a bit weird, even ?- where is the do supposed to be happening? But good idea, sure they will be in pub!',\n",
              "  {'cats': {'ham': True, 'spam': False}}),\n",
              " (\"True dear..i sat to pray evening and felt so.so i sms'd you in some time...\",\n",
              "  {'cats': {'ham': True, 'spam': False}}),\n",
              " (\"I don't think I can get away for a trek that long with family in town, sorry\",\n",
              "  {'cats': {'ham': True, 'spam': False}}),\n",
              " ('So when do you wanna gym harri', {'cats': {'ham': True, 'spam': False}}),\n",
              " ('Quite late lar... Ard 12 anyway i wun b drivin...',\n",
              "  {'cats': {'ham': True, 'spam': False}}),\n",
              " ('To review and KEEP the fantastic Nokia N-Gage game deck with Club Nokia, go 2 www.cnupdates.com/newsletter. unsubscribe from alerts reply with the word OUT',\n",
              "  {'cats': {'ham': False, 'spam': True}}),\n",
              " ('4mths half price Orange line rental & latest camera phones 4 FREE. Had your phone 11mths+? Call MobilesDirect free on 08000938767 to update now! or2stoptxt T&Cs',\n",
              "  {'cats': {'ham': False, 'spam': True}}),\n",
              " ('Height of Confidence: All the Aeronautics professors wer calld &amp; they wer askd 2 sit in an aeroplane. Aftr they sat they wer told dat the plane ws made by their students. Dey all hurried out of d plane.. Bt only 1 didnt move... He said:\\\\if it is made by my students',\n",
              "  {'cats': {'ham': True, 'spam': False}}),\n",
              " ('It just seems like weird timing that the night that all you and g want is for me to come smoke is the same day as when a shitstorm is attributed to me always coming over and making everyone smoke',\n",
              "  {'cats': {'ham': True, 'spam': False}}),\n",
              " ('08714712388 between 10am-7pm Cost 10p',\n",
              "  {'cats': {'ham': False, 'spam': True}}),\n",
              " ('Save yourself the stress. If the person has a dorm account, just send your account details and the money will be sent to you.',\n",
              "  {'cats': {'ham': True, 'spam': False}}),\n",
              " ('He also knows about lunch menu only da. . I know',\n",
              "  {'cats': {'ham': True, 'spam': False}}),\n",
              " ('When i have stuff to sell i.ll tell you',\n",
              "  {'cats': {'ham': True, 'spam': False}}),\n",
              " ('+449071512431 URGENT! This is the 2nd attempt to contact U!U have WON σú1250 CALL 09071512433 b4 050703 T&CsBCM4235WC1N3XX. callcost 150ppm mobilesvary. maxσú7. 50',\n",
              "  {'cats': {'ham': False, 'spam': True}}),\n",
              " (\"Book which lesson? then you msg me... I will call up after work or sth... I'm going to get specs. My membership is PX3748\",\n",
              "  {'cats': {'ham': True, 'spam': False}}),\n",
              " ('You have WON a guaranteed σú1000 cash or a σú2000 prize. To claim yr prize call our customer service representative on 08714712394 between 10am-7pm',\n",
              "  {'cats': {'ham': False, 'spam': True}}),\n",
              " ('Macha dont feel upset.i can assume your mindset.believe me one evening with me and i have some wonderful plans for both of us.LET LIFE BEGIN AGAIN.call me anytime',\n",
              "  {'cats': {'ham': True, 'spam': False}}),\n",
              " ('Oh is it? Send me the address', {'cats': {'ham': True, 'spam': False}}),\n",
              " (\"S'fine. Anytime. All the best with it.\",\n",
              "  {'cats': {'ham': True, 'spam': False}}),\n",
              " ('That is wondar full flim.', {'cats': {'ham': True, 'spam': False}}),\n",
              " ('Ya even those cookies have jelly on them',\n",
              "  {'cats': {'ham': True, 'spam': False}}),\n",
              " ('The world is running and i am still.maybe all are feeling the same,so be it.or i have to admit,i am mad.then where is the correction?or let me call this is life.and keep running with the world,may be u r also running.lets run.',\n",
              "  {'cats': {'ham': True, 'spam': False}}),\n",
              " ('Got it! It looks scrumptious... daddy wants to eat you all night long!',\n",
              "  {'cats': {'ham': True, 'spam': False}}),\n",
              " (\"Of cos can lar i'm not so ba dao ok... 1 pm lor... Y u never ask where we go ah... I said u would ask on fri but he said u will ask today...\",\n",
              "  {'cats': {'ham': True, 'spam': False}}),\n",
              " ('Alright omw, gotta change my order to a half8th',\n",
              "  {'cats': {'ham': True, 'spam': False}}),\n",
              " ('Exactly. Anyways how far. Is jide her to study or just visiting',\n",
              "  {'cats': {'ham': True, 'spam': False}}),\n",
              " ('Dunno y u ask me.', {'cats': {'ham': True, 'spam': False}}),\n",
              " ('Email AlertFrom: Jeri StewartSize: 2KBSubject: Low-cost prescripiton drvgsTo listen to email call 123',\n",
              "  {'cats': {'ham': False, 'spam': True}}),\n",
              " (\"No he didn't. Spring is coming early yay!\",\n",
              "  {'cats': {'ham': True, 'spam': False}}),\n",
              " (\"Lol you won't feel bad when I use her money to take you out to a steak dinner =D\",\n",
              "  {'cats': {'ham': True, 'spam': False}}),\n",
              " ('Even u dont get in trouble while convincing..just tel him once or twice and just tel neglect his msgs dont c and read it..just dont reply',\n",
              "  {'cats': {'ham': True, 'spam': False}}),\n",
              " ('Leaving to qatar tonite in search of an opportunity.all went fast.pls add me in ur prayers dear.Rakhesh',\n",
              "  {'cats': {'ham': True, 'spam': False}}),\n",
              " ('Then why no one talking to me', {'cats': {'ham': True, 'spam': False}}),\n",
              " ('Thanks for looking out for me. I really appreciate.',\n",
              "  {'cats': {'ham': True, 'spam': False}}),\n",
              " ('Hi. Customer Loyalty Offer:The NEW Nokia6650 Mobile from ONLY σú10 at TXTAUCTION! Txt word: START to No: 81151 & get yours Now! 4T&Ctxt TC 150p/MTmsg',\n",
              "  {'cats': {'ham': False, 'spam': True}}),\n",
              " ('Wish i were with you now!', {'cats': {'ham': True, 'spam': False}}),\n",
              " (\"Haha mayb u're rite... U know me well. Da feeling of being liked by someone is gd lor. U faster go find one then all gals in our group attached liao.\",\n",
              "  {'cats': {'ham': True, 'spam': False}}),\n",
              " ('Yes i will be there. Glad you made it.',\n",
              "  {'cats': {'ham': True, 'spam': False}}),\n",
              " ('Do well :)all will for little time. Thing of good times ahead:',\n",
              "  {'cats': {'ham': True, 'spam': False}}),\n",
              " (\"Just got up. have to be out of the room very soon. ë█_. i hadn't put the clocks back til at 8 i shouted at everyone to get up and then realised it was 7. wahay. another hour in bed.\",\n",
              "  {'cats': {'ham': True, 'spam': False}}),\n",
              " ('Ok. There may be a free gym about.',\n",
              "  {'cats': {'ham': True, 'spam': False}}),\n",
              " ('Men like shorter ladies. Gaze up into his eyes.',\n",
              "  {'cats': {'ham': True, 'spam': False}}),\n",
              " ('Dunno he jus say go lido. Same time 930.',\n",
              "  {'cats': {'ham': True, 'spam': False}}),\n",
              " ('I promise to take good care of you, princess. I have to run now. Please send pics when you get a chance. Ttyl!',\n",
              "  {'cats': {'ham': True, 'spam': False}}),\n",
              " ('U are subscribed to the best Mobile Content Service in the UK for σú3 per 10 days until you send STOP to 82324. Helpline 08706091795',\n",
              "  {'cats': {'ham': False, 'spam': True}}),\n",
              " (\"Is there a reason we've not spoken this year? Anyways have a great week and all the best in your exam\",\n",
              "  {'cats': {'ham': True, 'spam': False}}),\n",
              " ('By monday next week. Give me the full gist',\n",
              "  {'cats': {'ham': True, 'spam': False}}),\n",
              " (\"Do you realize that in about 40 years, we'll have thousands of old ladies running around with tattoos?\",\n",
              "  {'cats': {'ham': False, 'spam': True}}),\n",
              " ('You have an important customer service announcement from PREMIER.',\n",
              "  {'cats': {'ham': False, 'spam': True}}),\n",
              " ('Dont gimme that lip caveboy', {'cats': {'ham': True, 'spam': False}}),\n",
              " ('When did you get to the library', {'cats': {'ham': True, 'spam': False}}),\n",
              " (\"Realy sorry-i don't recognise this number and am now confused :) who r u please?! \",\n",
              "  {'cats': {'ham': True, 'spam': False}}),\n",
              " ('So why didnt you holla?', {'cats': {'ham': True, 'spam': False}}),\n",
              " ('Cant think of anyone with * spare room off * top of my head',\n",
              "  {'cats': {'ham': True, 'spam': False}}),\n",
              " ('Faith makes things possible,Hope makes things work,Love makes things beautiful,May you have all three this Christmas!Merry Christmas!',\n",
              "  {'cats': {'ham': True, 'spam': False}}),\n",
              " ('U should have made an appointment', {'cats': {'ham': True, 'spam': False}}),\n",
              " (\"Call me when you/carlos is/are here, my phone's vibrate is acting up and I might not hear texts\",\n",
              "  {'cats': {'ham': True, 'spam': False}}),\n",
              " ('Romantic Paris. 2 nights, 2 flights from σú79 Book now 4 next year. Call 08704439680Ts&Cs apply.',\n",
              "  {'cats': {'ham': False, 'spam': True}}),\n",
              " ('We are at grandmas. Oh dear, u still ill? I felt Shit this morning but i think i am just hungover! Another night then. We leave on sat.',\n",
              "  {'cats': {'ham': True, 'spam': False}}),\n",
              " ('Urgent Ur σú500 guaranteed award is still unclaimed! Call 09066368327 NOW closingdate04/09/02 claimcode M39M51 σú1.50pmmorefrommobile2Bremoved-MobyPOBox734LS27YF',\n",
              "  {'cats': {'ham': False, 'spam': True}}),\n",
              " ('Nothing but we jus tot u would ask cos u ba gua... But we went mt faber yest... Yest jus went out already mah so today not going out... Jus call lor...',\n",
              "  {'cats': {'ham': True, 'spam': False}}),\n",
              " ('Wishing you and your family Merry \\\\X\\\\\" mas and HAPPY NEW Year in advance..\"',\n",
              "  {'cats': {'ham': True, 'spam': False}}),\n",
              " ('UR awarded a City Break and could WIN a σú200 Summer Shopping spree every WK. Txt STORE to 88039 . SkilGme. TsCs087147403231Winawk!Age16 σú1.50perWKsub',\n",
              "  {'cats': {'ham': False, 'spam': True}}),\n",
              " (\"I'm nt goin, got somethin on, unless they meetin 4 dinner lor... Haha, i wonder who will go tis time...\",\n",
              "  {'cats': {'ham': True, 'spam': False}}),\n",
              " (\"Sorry, I'll call later\", {'cats': {'ham': True, 'spam': False}}),\n",
              " ('I cant pick the phone right now. Pls send a message',\n",
              "  {'cats': {'ham': True, 'spam': False}}),\n",
              " (\"Lol I know! They're so dramatic. Schools already closed for tomorrow. Apparently we can't drive in the inch of snow were supposed to get.\",\n",
              "  {'cats': {'ham': True, 'spam': False}}),\n",
              " ('Not getting anywhere with this damn job hunting over here!',\n",
              "  {'cats': {'ham': True, 'spam': False}}),\n",
              " ('Lol! U drunkard! Just doing my hair at d moment. Yeah still up 4 tonight. Wats the plan? ',\n",
              "  {'cats': {'ham': True, 'spam': False}}),\n",
              " ('idc get over here, you are not weaseling your way out of this shit twice in a row',\n",
              "  {'cats': {'ham': True, 'spam': False}}),\n",
              " ('I wil be there with in  &lt;#&gt;  minutes. Got any space',\n",
              "  {'cats': {'ham': True, 'spam': False}}),\n",
              " ('Just sleeping..and surfing', {'cats': {'ham': True, 'spam': False}}),\n",
              " ('Thanks for picking up the trash.', {'cats': {'ham': True, 'spam': False}}),\n",
              " (\"Why don't you go tell your friend you're not sure you want to live with him because he smokes too much then spend hours begging him to come smoke\",\n",
              "  {'cats': {'ham': True, 'spam': False}}),\n",
              " ('\\\\Hi its Kate it was lovely to see you tonight and ill phone you tomorrow. I got to sing and a guy gave me his card! xxx\\\\\"\"',\n",
              "  {'cats': {'ham': True, 'spam': False}}),\n",
              " ('Happy New year my dear brother. I really do miss you. Just got your number and decided to send you this text wishing you only happiness. Abiola',\n",
              "  {'cats': {'ham': True, 'spam': False}}),\n",
              " ('That means get the door', {'cats': {'ham': True, 'spam': False}}),\n",
              " ('Your opinion about me? 1. Over 2. Jada 3. Kusruthi 4. Lovable 5. Silent 6. Spl character 7. Not matured 8. Stylish 9. Simple Pls reply..',\n",
              "  {'cats': {'ham': True, 'spam': False}}),\n",
              " ('Hmmm ... I thought we said 2 hours slave, not 3 ... You are late ... How should I punish you ?',\n",
              "  {'cats': {'ham': True, 'spam': False}}),\n",
              " ('Beerage?', {'cats': {'ham': True, 'spam': False}}),\n",
              " ('You have an important customer service announcement from PREMIER. Call FREEPHONE 0800 542 0578 now!',\n",
              "  {'cats': {'ham': False, 'spam': True}}),\n",
              " ('Dont think so. It turns off like randomlly within 5min of opening',\n",
              "  {'cats': {'ham': True, 'spam': False}}),\n",
              " (\"She was supposed to be but couldn't make it, she's still in town though\",\n",
              "  {'cats': {'ham': True, 'spam': False}}),\n",
              " ('It does it on its own. Most of the time it fixes my spelling. But sometimes it gets a completely diff word. Go figure',\n",
              "  {'cats': {'ham': True, 'spam': False}}),\n",
              " ('Ever thought about living a good life with a perfect partner? Just txt back NAME and AGE to join the mobile community. (100p/SMS)',\n",
              "  {'cats': {'ham': False, 'spam': True}}),\n",
              " ('5 Free Top Polyphonic Tones call 087018728737, National Rate. Get a toppoly tune sent every week, just text SUBPOLY to 81618, σú3 per pole. UnSub 08718727870.',\n",
              "  {'cats': {'ham': False, 'spam': True}}),\n",
              " ('Gud mrng dear hav a nice day', {'cats': {'ham': True, 'spam': False}}),\n",
              " (\"This is hoping you enjoyed your game yesterday. Sorry i've not been in touch but pls know that you are fondly bein thot off. Have a great week. Abiola\",\n",
              "  {'cats': {'ham': True, 'spam': False}}),\n",
              " ('All e best 4 ur driving tmr :-)', {'cats': {'ham': True, 'spam': False}}),\n",
              " ('Y?WHERE U AT DOGBREATH? ITS JUST SOUNDING LIKE JAN C THATσ╒S AL!!!!!!!!!',\n",
              "  {'cats': {'ham': True, 'spam': False}}),\n",
              " ('Omg I want to scream. I weighed myself and I lost more weight! Woohoo!',\n",
              "  {'cats': {'ham': True, 'spam': False}}),\n",
              " (\"There generally isn't one. It's an uncountable noun - u in the dictionary. pieces of research?\",\n",
              "  {'cats': {'ham': True, 'spam': False}}),\n",
              " (\"it's really getting me down just hanging around.\",\n",
              "  {'cats': {'ham': True, 'spam': False}}),\n",
              " (\"Orange customer, you may now claim your FREE CAMERA PHONE upgrade for your loyalty. Call now on 0207 153 9996. Offer ends 14thMarch. T&C's apply. Opt-out availa\",\n",
              "  {'cats': {'ham': False, 'spam': True}}),\n",
              " ('\\\\Petey boy whereare you me and all your friendsare in theKingshead come down if you canlove Nic\\\\\"\"',\n",
              "  {'cats': {'ham': True, 'spam': False}}),\n",
              " ('Ok i msg u b4 i leave my house.', {'cats': {'ham': True, 'spam': False}}),\n",
              " ('\\\\Gimme a few\\\\\" was  &lt;#&gt;  minutes ago\"',\n",
              "  {'cats': {'ham': True, 'spam': False}}),\n",
              " ('Last Chance! Claim ur σú150 worth of discount vouchers today! Text SHOP to 85023 now! SavaMob, offers mobile! T Cs SavaMob POBOX84, M263UZ. σú3.00 Sub. 16',\n",
              "  {'cats': {'ham': False, 'spam': True}}),\n",
              " (\"Appt is at &lt;TIME&gt; am. Not my fault u don't listen. I told u twice\",\n",
              "  {'cats': {'ham': True, 'spam': False}}),\n",
              " ('FREE for 1st week! No1 Nokia tone 4 ur mobile every week just txt NOKIA to 8077 Get txting and tell ur mates. www.getzed.co.uk POBox 36504 W45WQ 16+ norm150p/tone',\n",
              "  {'cats': {'ham': False, 'spam': True}}),\n",
              " ('You have won a guaranteed σú200 award or even σú1000 cashto claim UR award call free on 08000407165 (18+) 2 stop getstop on 88222 PHP. RG21 4JX',\n",
              "  {'cats': {'ham': False, 'spam': True}}),\n",
              " (\"K I'll be there before 4.\", {'cats': {'ham': True, 'spam': False}}),\n",
              " ('I dled 3d its very imp', {'cats': {'ham': True, 'spam': False}}),\n",
              " (\"sure, but make sure he knows we ain't smokin yet\",\n",
              "  {'cats': {'ham': True, 'spam': False}}),\n",
              " ('Boooo you always work. Just quit.', {'cats': {'ham': True, 'spam': False}}),\n",
              " ('I am taking half day leave bec i am not well',\n",
              "  {'cats': {'ham': True, 'spam': False}}),\n",
              " (\"Ugh I don't wanna get out of bed. It's so warm.\",\n",
              "  {'cats': {'ham': True, 'spam': False}}),\n",
              " ('S:)s.nervous  &lt;#&gt; :)', {'cats': {'ham': True, 'spam': False}}),\n",
              " (\"So there's a ring that comes with the guys costumes. It's there so they can gift their future yowifes. Hint hint\",\n",
              "  {'cats': {'ham': True, 'spam': False}}),\n",
              " ('Congratulations ur awarded either σú500 of CD gift vouchers & Free entry 2 our σú100 weekly draw txt MUSIC to 87066 TnCs www.Ldew.com1win150ppmx3age16',\n",
              "  {'cats': {'ham': False, 'spam': True}}),\n",
              " ('I borrow ur bag ok.', {'cats': {'ham': True, 'spam': False}}),\n",
              " ('U were outbid by simonwatson5120 on the Shinco DVD Plyr. 2 bid again, visit sms. ac/smsrewards 2 end bid notifications, reply END OUT',\n",
              "  {'cats': {'ham': False, 'spam': True}}),\n",
              " (\"Where's my boytoy? I miss you ... What happened?\",\n",
              "  {'cats': {'ham': True, 'spam': False}}),\n",
              " (\"He has lots of used ones babe, but the model doesn't help. Youi have to bring it over and he'll match it up\",\n",
              "  {'cats': {'ham': True, 'spam': False}}),\n",
              " ('Also are you bringing galileo or dobby',\n",
              "  {'cats': {'ham': True, 'spam': False}}),\n",
              " ('Then why you not responding', {'cats': {'ham': True, 'spam': False}}),\n",
              " ('\\\\BOO BABE! U ENJOYIN YOURJOB? U SEEMED 2 B GETTIN ON WELL HUNNY!HOPE URE OK?TAKE CARE & Iσ╒LLSPEAK 2U SOONLOTS OF LOVEME XXXX.\\\\\"\"',\n",
              "  {'cats': {'ham': True, 'spam': False}}),\n",
              " (\"Good afternoon starshine! How's my boytoy? Does he crave me yet? Ache to fuck me ? *sips cappuccino* I miss you babe *teasing kiss*\",\n",
              "  {'cats': {'ham': True, 'spam': False}}),\n",
              " ('On the road so cant txt', {'cats': {'ham': True, 'spam': False}}),\n",
              " ('SMSSERVICES. for yourinclusive text credits, pls goto www.comuk.net login= 3qxj9 unsubscribe with STOP, no extra charge. help 08702840625.COMUK. 220-CM2 9AE',\n",
              "  {'cats': {'ham': False, 'spam': True}}),\n",
              " (\"25p 4 alfie Moon's Children in need song on ur mob. Tell ur m8s. Txt Tone charity to 8007 for Nokias or Poly charity for polys: zed 08701417012 profit 2 charity.\",\n",
              "  {'cats': {'ham': False, 'spam': True}}),\n",
              " ('Have a good evening! Ttyl', {'cats': {'ham': True, 'spam': False}}),\n",
              " ('Hmm .. Bits and pieces lol ... *sighs* ...',\n",
              "  {'cats': {'ham': True, 'spam': False}}),\n",
              " ('Hahaha..use your brain dear', {'cats': {'ham': True, 'spam': False}}),\n",
              " ('Hey. You got any mail?', {'cats': {'ham': True, 'spam': False}}),\n",
              " ('Sorry light turned green, I meant another friend wanted  &lt;#&gt;  worth but he may not be around',\n",
              "  {'cats': {'ham': True, 'spam': False}}),\n",
              " ('Thanks for yesterday sir. You have been wonderful. Hope you enjoyed the burial. MojiBiola',\n",
              "  {'cats': {'ham': True, 'spam': False}}),\n",
              " ('U have a secret admirer. REVEAL who thinks U R So special. Call 09065174042. To opt out Reply REVEAL STOP. 1.50 per msg recd. Cust care 07821230901',\n",
              "  {'cats': {'ham': False, 'spam': True}}),\n",
              " ('Hi mate its RV did u hav a nice hol just a message 3 say hello coz havenσ╒t sent u 1 in ages started driving so stay off roads!RVx',\n",
              "  {'cats': {'ham': True, 'spam': False}}),\n",
              " ('Dear Voucher Holder, To claim this weeks offer, at you PC please go to http://www.e-tlp.co.uk/expressoffer Ts&Cs apply. To stop texts, txt STOP to 80062',\n",
              "  {'cats': {'ham': False, 'spam': True}}),\n",
              " (\"Thank you so much. When we skyped wit kz and sura, we didnt get the pleasure of your company. Hope you are good. We've given you ultimatum oh! We are countin down to aburo. Enjoy! This is the message i sent days ago\",\n",
              "  {'cats': {'ham': True, 'spam': False}}),\n",
              " ('Surely result will offer:)', {'cats': {'ham': True, 'spam': False}}),\n",
              " ('Good Morning my Dear........... Have a great &amp; successful day.',\n",
              "  {'cats': {'ham': True, 'spam': False}}),\n",
              " ('Do you want 750 anytime any network mins 150 text and a NEW VIDEO phone for only five pounds per week call 08002888812 or reply for delivery tomorrow',\n",
              "  {'cats': {'ham': False, 'spam': True}}),\n",
              " (\"Sir, I have been late in paying rent for the past few months and had to pay a $ &lt;#&gt;  charge. I felt it would be inconsiderate of me to nag about something you give at great cost to yourself and that's why i didnt speak up. I however am in a recession and wont be able to pay the charge this month hence my askin well ahead of month's end. Can you please help. Thanks\",\n",
              "  {'cats': {'ham': True, 'spam': False}}),\n",
              " ('We tried to contact you re our offer of New Video Phone 750 anytime any network mins HALF PRICE Rental camcorder call 08000930705 or reply for delivery Wed',\n",
              "  {'cats': {'ham': False, 'spam': True}}),\n",
              " ('Last chance 2 claim ur σú150 worth of discount vouchers-Text YES to 85023 now!SavaMob-member offers mobile T Cs 08717898035. σú3.00 Sub. 16 . Remove txt X or STOP',\n",
              "  {'cats': {'ham': False, 'spam': True}}),\n",
              " ('I luv u soo much u donσ╒t understand how special u r 2 me ring u 2morrow luv u xxx',\n",
              "  {'cats': {'ham': True, 'spam': False}}),\n",
              " (\"Pls send me a comprehensive mail about who i'm paying, when and how much.\",\n",
              "  {'cats': {'ham': True, 'spam': False}}),\n",
              " (\"Our Prashanthettan's mother passed away last night. pray for her and family.\",\n",
              "  {'cats': {'ham': True, 'spam': False}}),\n",
              " ('Urgent! call 09066350750 from your landline. Your complimentary 4* Ibiza Holiday or 10,000 cash await collection SAE T&Cs PO BOX 434 SK3 8WP 150 ppm 18+ ',\n",
              "  {'cats': {'ham': False, 'spam': True}}),\n",
              " ('K.k:)when are you going?', {'cats': {'ham': True, 'spam': False}}),\n",
              " (\"Meanwhile in the shit suite: xavier decided to give us  &lt;#&gt;  seconds of warning that samantha was coming over and is playing jay's guitar to impress her or some shit. Also I don't think doug realizes I don't live here anymore\",\n",
              "  {'cats': {'ham': True, 'spam': False}}),\n",
              " (\"My stomach has been thru so much trauma I swear I just can't eat. I better lose weight.\",\n",
              "  {'cats': {'ham': True, 'spam': False}}),\n",
              " ('I am in office:)whats the matter..msg me now.i will call you at break:).',\n",
              "  {'cats': {'ham': True, 'spam': False}}),\n",
              " (\"Yeah there's barely enough room for the two of us, x has too many fucking shoes. Sorry man, see you later\",\n",
              "  {'cats': {'ham': True, 'spam': False}}),\n",
              " (\"Today's Offer! Claim ur σú150 worth of discount vouchers! Text YES to 85023 now! SavaMob, member offers mobile! T Cs 08717898035. σú3.00 Sub. 16 . Unsub reply X\",\n",
              "  {'cats': {'ham': False, 'spam': True}}),\n",
              " ('U reach orchard already? U wan 2 go buy tickets first?',\n",
              "  {'cats': {'ham': True, 'spam': False}}),\n",
              " ('I am real, baby! I want to bring out your inner tigress...',\n",
              "  {'cats': {'ham': True, 'spam': False}}),\n",
              " ('No da if you run that it activate the full version da.',\n",
              "  {'cats': {'ham': True, 'spam': False}}),\n",
              " ('\\\\AH POOR BABY!HOPE URFEELING BETTERSN LUV! PROBTHAT OVERDOSE OF WORK HEY GO CAREFUL SPK 2 U SN LOTS OF LOVEJEN XXX.\\\\\"\"',\n",
              "  {'cats': {'ham': True, 'spam': False}}),\n",
              " (\"Stop the story. I've told him i've returned it and he's saying i should not re order it.\",\n",
              "  {'cats': {'ham': True, 'spam': False}}),\n",
              " ('Talk sexy!! Make new friends or fall in love in the worlds most discreet text dating service. Just text VIP to 83110 and see who you could meet.',\n",
              "  {'cats': {'ham': False, 'spam': True}}),\n",
              " ('Going to take your babe out ?', {'cats': {'ham': True, 'spam': False}}),\n",
              " ('Hai ana tomarrow am coming on morning.  &lt;DECIMAL&gt;  ill be there in sathy then we ll go to RTO office. Reply me after came to home.',\n",
              "  {'cats': {'ham': True, 'spam': False}}),\n",
              " ('Spoons it is then okay?', {'cats': {'ham': True, 'spam': False}}),\n",
              " ('Did he just say somebody is named tampa',\n",
              "  {'cats': {'ham': True, 'spam': False}}),\n",
              " ('In work now. Going have in few min.',\n",
              "  {'cats': {'ham': True, 'spam': False}}),\n",
              " ('Your brother is a genius', {'cats': {'ham': True, 'spam': False}}),\n",
              " (\"Sorry, I guess whenever I can get a hold of my connections, maybe an hour or two? I'll text you\",\n",
              "  {'cats': {'ham': True, 'spam': False}}),\n",
              " ('Did u find out what time the bus is at coz i need to sort some stuff out.',\n",
              "  {'cats': {'ham': True, 'spam': False}}),\n",
              " ('Dude ive been seeing a lotta corvettes lately',\n",
              "  {'cats': {'ham': True, 'spam': False}}),\n",
              " ('Congratulations ur awarded either a yrs supply of CDs from Virgin Records or a Mystery Gift GUARANTEED Call 09061104283 Ts&Cs www.smsco.net σú1.50pm approx 3mins',\n",
              "  {'cats': {'ham': False, 'spam': True}}),\n",
              " (\"Same here, but I consider walls and bunkers and shit important just because I never play on peaceful but I guess your place is high enough that it don't matter\",\n",
              "  {'cats': {'ham': True, 'spam': False}}),\n",
              " ('PRIVATE! Your 2003 Account Statement for 07808 XXXXXX shows 800 un-redeemed S. I. M. points. Call 08719899217 Identifier Code: 41685 Expires 07/11/04',\n",
              "  {'cats': {'ham': False, 'spam': True}}),\n",
              " ('Hello. We need some posh birds and chaps to user trial prods for champneys. Can i put you down? I need your address and dob asap. Ta r',\n",
              "  {'cats': {'ham': False, 'spam': True}}),\n",
              " ('What do U want for Xmas? How about 100 free text messages & a new video phone with half price line rental? Call free now on 0800 0721072 to find out more!',\n",
              "  {'cats': {'ham': False, 'spam': True}}),\n",
              " ('Well am officially in a philosophical hole, so if u wanna call am at home ready to be saved!',\n",
              "  {'cats': {'ham': True, 'spam': False}}),\n",
              " ('Its going good...no problem..but still need little experience to understand american customer voice...',\n",
              "  {'cats': {'ham': True, 'spam': False}}),\n",
              " (\"I'll text you when I drop x off\", {'cats': {'ham': True, 'spam': False}}),\n",
              " (\"Ugh its been a long day. I'm exhausted. Just want to cuddle up and take a nap\",\n",
              "  {'cats': {'ham': True, 'spam': False}}),\n",
              " ('Talk With Yourself Atleast Once In A Day...!!! Otherwise You Will Miss Your Best FRIEND In This WORLD...!!! -Shakespeare- SHESIL  &lt;#&gt;',\n",
              "  {'cats': {'ham': True, 'spam': False}}),\n",
              " ('Shop till u Drop, IS IT YOU, either 10K, 5K, σú500 Cash or σú100 Travel voucher, Call now, 09064011000. NTT PO Box CR01327BT fixedline Cost 150ppm mobile vary',\n",
              "  {'cats': {'ham': False, 'spam': True}}),\n",
              " ('Are you in castor? You need to see something',\n",
              "  {'cats': {'ham': True, 'spam': False}}),\n",
              " ('Sunshine Quiz Wkly Q! Win a top Sony DVD player if u know which country Liverpool played in mid week? Txt ansr to 82277. σú1.50 SP:Tyrone',\n",
              "  {'cats': {'ham': False, 'spam': True}}),\n",
              " ('U have a secret admirer who is looking 2 make contact with U-find out who they R*reveal who thinks UR so special-call on 09058094565',\n",
              "  {'cats': {'ham': False, 'spam': True}}),\n",
              " ('U have a Secret Admirer who is looking 2 make contact with U-find out who they R*reveal who thinks UR so special-call on 09065171142-stopsms-08',\n",
              "  {'cats': {'ham': False, 'spam': True}}),\n",
              " ('Reminder: You have not downloaded the content you have already paid for. Goto http://doit. mymoby. tv/ to collect your content.',\n",
              "  {'cats': {'ham': False, 'spam': True}}),\n",
              " (\"see, i knew giving you a break a few times woul lead to you always wanting to miss curfew. I was gonna gibe you 'til one, but a MIDNIGHT movie is not gonna get out til after 2. You need to come home. You need to getsleep and, if anything, you need to b studdying ear training.\",\n",
              "  {'cats': {'ham': True, 'spam': False}}),\n",
              " ('I love to give massages. I use lots of baby oil... What is your fave position?',\n",
              "  {'cats': {'ham': True, 'spam': False}}),\n",
              " ('Dude we should go sup again', {'cats': {'ham': True, 'spam': False}}),\n",
              " ('Yoyyooo u know how to change permissions for a drive in mac. My usb flash drive',\n",
              "  {'cats': {'ham': True, 'spam': False}}),\n",
              " ('Gibbs unsold.mike hussey', {'cats': {'ham': True, 'spam': False}}),\n",
              " ('I like to talk pa but am not able to. I dont know y.',\n",
              "  {'cats': {'ham': True, 'spam': False}}),\n",
              " (\"Y dun cut too short leh. U dun like ah? She failed. She's quite sad.\",\n",
              "  {'cats': {'ham': True, 'spam': False}}),\n",
              " ('You unbelievable faglord', {'cats': {'ham': True, 'spam': False}}),\n",
              " ('Wife.how she knew the time of murder exactly',\n",
              "  {'cats': {'ham': True, 'spam': False}}),\n",
              " ('Why do you ask princess?', {'cats': {'ham': True, 'spam': False}}),\n",
              " ('I am great princess! What are you thinking about me? :)',\n",
              "  {'cats': {'ham': True, 'spam': False}}),\n",
              " ('Nutter. Cutter. Ctter. Cttergg. Cttargg. Ctargg. Ctagg. ie you',\n",
              "  {'cats': {'ham': True, 'spam': False}}),\n",
              " (\"It's ok i noe u're busy but i'm really too bored so i msg u. I oso dunno wat colour she choose 4 me one.\",\n",
              "  {'cats': {'ham': True, 'spam': False}}),\n",
              " (\"Doesn't g have class early tomorrow and thus shouldn't be trying to smoke at  &lt;#&gt;\",\n",
              "  {'cats': {'ham': True, 'spam': False}}),\n",
              " ('Superb Thought- \\\\Be grateful that u dont have everything u want. That means u still have an opportunity to be happier tomorrow than u are today.\\\\\":-)\"',\n",
              "  {'cats': {'ham': True, 'spam': False}}),\n",
              " ('Hope you are having a good week. Just checking in',\n",
              "  {'cats': {'ham': True, 'spam': False}}),\n",
              " (\"I'm used to it. I just hope my agents don't drop me since i've only booked a few things this year. This whole me in boston, them in nyc was an experiment.\",\n",
              "  {'cats': {'ham': True, 'spam': False}}),\n",
              " (\"Thursday night? Yeah, sure thing, we'll work it out then\",\n",
              "  {'cats': {'ham': True, 'spam': False}}),\n",
              " ('Your free ringtone is waiting to be collected. Simply text the password \\\\MIX\\\\\" to 85069 to verify. Get Usher and Britney. FML',\n",
              "  {'cats': {'ham': False, 'spam': True}}),\n",
              " ('Probably money worries. Things are coming due and i have several outstanding invoices for work i did two and three months ago.',\n",
              "  {'cats': {'ham': True, 'spam': False}}),\n",
              " ('How is it possible to teach you. And where.',\n",
              "  {'cats': {'ham': True, 'spam': False}}),\n",
              " ('I wonder if your phone battery went dead ? I had to tell you, I love you babe',\n",
              "  {'cats': {'ham': True, 'spam': False}}),\n",
              " (\"Lovely smell on this bus and it ain't tobacco... \",\n",
              "  {'cats': {'ham': True, 'spam': False}}),\n",
              " (\"We're all getting worried over here, derek and taylor have already assumed the worst\",\n",
              "  {'cats': {'ham': True, 'spam': False}}),\n",
              " (\"Hey what's up charles sorry about the late reply.\",\n",
              "  {'cats': {'ham': True, 'spam': False}}),\n",
              " ('all the lastest from Stereophonics, Marley, Dizzee Racal, Libertines and The Strokes! Win Nookii games with Flirt!! Click TheMob WAP Bookmark or text WAP to 82468',\n",
              "  {'cats': {'ham': False, 'spam': True}}),\n",
              " ('I.ll give her once i have it. Plus she said grinule greet you whenever we speak',\n",
              "  {'cats': {'ham': True, 'spam': False}}),\n",
              " ('WHITE FUDGE OREOS ARE IN STORES', {'cats': {'ham': True, 'spam': False}}),\n",
              " ('January Male Sale! Hot Gay chat now cheaper, call 08709222922. National rate from 1.5p/min cheap to 7.8p/min peak! To stop texts call 08712460324 (10p/min)',\n",
              "  {'cats': {'ham': False, 'spam': True}}),\n",
              " (\"My love ! How come it took you so long to leave for Zaher's? I got your words on ym and was happy to see them but was sad you had left. I miss you\",\n",
              "  {'cats': {'ham': True, 'spam': False}}),\n",
              " ('I am sorry it hurt you.', {'cats': {'ham': True, 'spam': False}}),\n",
              " (\"Can't. I feel nauseous. I'm so pissed. I didn't eat any sweets all week cause today I was planning to pig out. I was dieting all week. And now I'm not hungry :/\",\n",
              "  {'cats': {'ham': True, 'spam': False}}),\n",
              " ('Ok lor but not too early. Me still having project meeting now.',\n",
              "  {'cats': {'ham': True, 'spam': False}}),\n",
              " ('Call me da, i am waiting for your call.',\n",
              "  {'cats': {'ham': True, 'spam': False}}),\n",
              " ('I could ask carlos if we could get more if anybody else can chip in',\n",
              "  {'cats': {'ham': True, 'spam': False}}),\n",
              " ('Was actually about to send you a reminder today. Have a wonderful weekend',\n",
              "  {'cats': {'ham': True, 'spam': False}}),\n",
              " (\"When people see my msgs, They think Iam addicted to msging... They are wrong, Bcoz They don\\\\'t know that Iam addicted to my sweet Friends..!! BSLVYL\",\n",
              "  {'cats': {'ham': True, 'spam': False}}),\n",
              " ('Hey you gave them your photo when you registered for driving ah? Tmr wanna meet at yck? ',\n",
              "  {'cats': {'ham': True, 'spam': False}}),\n",
              " ('Dont talk to him ever ok its my word.',\n",
              "  {'cats': {'ham': True, 'spam': False}}),\n",
              " ('When u wana see it then', {'cats': {'ham': True, 'spam': False}}),\n",
              " (\"On ma way to school. Can you pls send me ashley's number\",\n",
              "  {'cats': {'ham': True, 'spam': False}}),\n",
              " ('It shall be fine. I have avalarr now. Will hollalater',\n",
              "  {'cats': {'ham': True, 'spam': False}}),\n",
              " (\"She went to attend another two rounds today..but still did't reach home..\",\n",
              "  {'cats': {'ham': True, 'spam': False}}),\n",
              " ('Actually i deleted my old website..now i m blogging at magicalsongs.blogspot.com',\n",
              "  {'cats': {'ham': True, 'spam': False}}),\n",
              " ('K, wait chikku..il send aftr  &lt;#&gt; mins',\n",
              "  {'cats': {'ham': True, 'spam': False}}),\n",
              " (\"But I'm on a diet. And I ate 1 too many slices of pizza yesterday. Ugh I'm ALWAYS on a diet.\",\n",
              "  {'cats': {'ham': True, 'spam': False}}),\n",
              " ('K:)i will give my kvb acc details:)',\n",
              "  {'cats': {'ham': True, 'spam': False}}),\n",
              " ('Oh all have to come ah?', {'cats': {'ham': True, 'spam': False}}),\n",
              " ('money!!! you r a lucky winner ! 2 claim your prize text money 2 88600 over σú1million to give away ! ppt150x3+normal text rate box403 w1t1jy',\n",
              "  {'cats': {'ham': False, 'spam': True}}),\n",
              " (\"I'm really sorry i won't b able 2 do this friday.hope u can find an alternative.hope yr term's going ok:-)\",\n",
              "  {'cats': {'ham': True, 'spam': False}}),\n",
              " ('Congratulations ore mo owo re wa. Enjoy it and i wish you many happy moments to and fro wherever you go',\n",
              "  {'cats': {'ham': True, 'spam': False}}),\n",
              " ('So do you have samus shoulders yet',\n",
              "  {'cats': {'ham': True, 'spam': False}}),\n",
              " (\"What time you think you'll have it? Need to know when I should be near campus\",\n",
              "  {'cats': {'ham': True, 'spam': False}}),\n",
              " ('Dear Matthew please call 09063440451 from a landline, your complimentary 4*Lux Tenerife holiday or σú1000 CASH await collection. ppm150 SAE T&Cs Box334 SK38XH.',\n",
              "  {'cats': {'ham': False, 'spam': True}}),\n",
              " ('Then dun wear jeans lor...', {'cats': {'ham': True, 'spam': False}}),\n",
              " ('Since when, which side, any fever, any vomitin.',\n",
              "  {'cats': {'ham': True, 'spam': False}}),\n",
              " ('K:)k.are you in college?', {'cats': {'ham': True, 'spam': False}}),\n",
              " ('Urgent! call 09061749602 from Landline. Your complimentary 4* Tenerife Holiday or σú10,000 cash await collection SAE T&Cs BOX 528 HP20 1YF 150ppm 18+',\n",
              "  {'cats': {'ham': False, 'spam': True}}),\n",
              " ('Better. Made up for Friday and stuffed myself like a pig yesterday. Now I feel bleh. But at least its not writhing pain kind of bleh.',\n",
              "  {'cats': {'ham': True, 'spam': False}}),\n",
              " (\"No we sell it all so we'll have tons if coins. Then sell our coins to someone thru paypal. Voila! Money back in life pockets:)\",\n",
              "  {'cats': {'ham': True, 'spam': False}}),\n",
              " ('Theyre doing it to lots of places. Only hospitals and medical places are safe.',\n",
              "  {'cats': {'ham': True, 'spam': False}}),\n",
              " ('How about getting in touch with folks waiting for company? Just txt back your NAME and AGE to opt in! Enjoy the community (150p/SMS)',\n",
              "  {'cats': {'ham': False, 'spam': True}}),\n",
              " (\"And also I've sorta blown him off a couple times recently so id rather not text him out of the blue looking for weed\",\n",
              "  {'cats': {'ham': True, 'spam': False}}),\n",
              " ('I sent my scores to sophas and i had to do secondary application for a few schools. I think if you are thinking of applying, do a research on cost also. Contact joke ogunrinde, her school is one me the less expensive ones',\n",
              "  {'cats': {'ham': True, 'spam': False}}),\n",
              " ('I cant wait to see you! How were the photos were useful? :)',\n",
              "  {'cats': {'ham': True, 'spam': False}}),\n",
              " ('Ur cash-balance is currently 500 pounds - to maximize ur cash-in now send GO to 86688 only 150p/msg. CC: 08718720201 PO BOX 114/14 TCR/W1',\n",
              "  {'cats': {'ham': False, 'spam': True}}),\n",
              " ('Hey i booked the kb on sat already... what other lessons are we going for ah? Keep your sat night free we need to meet and confirm our lodging ',\n",
              "  {'cats': {'ham': True, 'spam': False}}),\n",
              " ('Chk in ur belovd ms dict', {'cats': {'ham': True, 'spam': False}}),\n",
              " ('Is that what time you want me to come?',\n",
              "  {'cats': {'ham': True, 'spam': False}}),\n",
              " (\"Awesome, lemme know whenever you're around\",\n",
              "  {'cats': {'ham': True, 'spam': False}}),\n",
              " ('Shb b ok lor... Thanx...', {'cats': {'ham': True, 'spam': False}}),\n",
              " ('Beautiful Truth against Gravity.. Read carefully: \\\\Our heart feels light when someone is in it.. But it feels very heavy when someone leaves it..\\\\\" GOOD NIGHT\"',\n",
              "  {'cats': {'ham': True, 'spam': False}}),\n",
              " (\"Also remember to get dobby's bowl from your car\",\n",
              "  {'cats': {'ham': True, 'spam': False}}),\n",
              " ('Filthy stories and GIRLS waiting for your',\n",
              "  {'cats': {'ham': False, 'spam': True}}),\n",
              " (\"Sorry i now then c ur msg... Yar lor so poor thing... But only 4 one night... Tmr u'll have a brand new room 2 sleep in...\",\n",
              "  {'cats': {'ham': True, 'spam': False}}),\n",
              " (\"Love isn't a decision, it's a feeling. If we could decide who to love, then, life would be much simpler, but then less magical\",\n",
              "  {'cats': {'ham': True, 'spam': False}}),\n",
              " ('Welp apparently he retired', {'cats': {'ham': True, 'spam': False}}),\n",
              " (\"My sort code is  and acc no is . The bank is natwest. Can you reply to confirm i've sent this to the right person!\",\n",
              "  {'cats': {'ham': True, 'spam': False}}),\n",
              " ('Where @', {'cats': {'ham': True, 'spam': False}}),\n",
              " (\"U sure u can't take any sick time?\",\n",
              "  {'cats': {'ham': True, 'spam': False}}),\n",
              " ('URGENT! We are trying to contact U. Todays draw shows that you have won a σú800 prize GUARANTEED. Call 09050001808 from land line. Claim M95. Valid12hrs only',\n",
              "  {'cats': {'ham': False, 'spam': True}}),\n",
              " ('Watching cartoon, listening music &amp; at eve had to go temple &amp; church.. What about u?',\n",
              "  {'cats': {'ham': True, 'spam': False}}),\n",
              " ('Yo chad which gymnastics class do you wanna take? The site says Christians class is full..',\n",
              "  {'cats': {'ham': True, 'spam': False}}),\n",
              " ('Are you this much buzy', {'cats': {'ham': True, 'spam': False}}),\n",
              " ('Or better still can you catch her and let ask her if she can sell  &lt;#&gt;  for me.',\n",
              "  {'cats': {'ham': True, 'spam': False}}),\n",
              " ('I am not sure about night menu. . . I know only about noon menu',\n",
              "  {'cats': {'ham': True, 'spam': False}}),\n",
              " ('What do u want when i come back?.a beautiful necklace as a token of my heart for you.thats what i will give but ONLY to MY WIFE OF MY LIKING.BE THAT AND SEE..NO ONE can give you that.dont call me.i will wait till i come.',\n",
              "  {'cats': {'ham': True, 'spam': False}}),\n",
              " ('Are you willing to go for aptitude class.',\n",
              "  {'cats': {'ham': True, 'spam': False}}),\n",
              " ('It wont b until 2.15 as trying 2 sort house out, is that ok?',\n",
              "  {'cats': {'ham': True, 'spam': False}}),\n",
              " ('Yar lor he wan 2 go c horse racing today mah, so eat earlier lor. I ate chicken rice. U?',\n",
              "  {'cats': {'ham': True, 'spam': False}}),\n",
              " ('Haha awesome, omw back now then', {'cats': {'ham': True, 'spam': False}}),\n",
              " ('Yup i thk so until e shop closes lor.',\n",
              "  {'cats': {'ham': True, 'spam': False}}),\n",
              " ('what is your account number?', {'cats': {'ham': True, 'spam': False}}),\n",
              " ('Eh u send wrongly lar...', {'cats': {'ham': True, 'spam': False}}),\n",
              " ('Hey no I ad a crap nite was borin without ya 2 boggy with me u boring biatch! Thanx but u wait til nxt time il ave ya ',\n",
              "  {'cats': {'ham': True, 'spam': False}}),\n",
              " ('Ok i shall talk to him', {'cats': {'ham': True, 'spam': False}}),\n",
              " ('Dont hesitate. You know this is the second time she has had weakness like that. So keep i notebook of what she eat and did the day before or if anything changed the day before so that we can be sure its nothing',\n",
              "  {'cats': {'ham': True, 'spam': False}}),\n",
              " ('Hey you can pay. With salary de. Only  &lt;#&gt; .',\n",
              "  {'cats': {'ham': True, 'spam': False}}),\n",
              " ('Another month. I need chocolate weed and alcohol.',\n",
              "  {'cats': {'ham': True, 'spam': False}}),\n",
              " ('If he started searching he will get job in few days.he have great potential and talent.',\n",
              "  {'cats': {'ham': True, 'spam': False}}),\n",
              " ('Reckon need to be in town by eightish to walk from * carpark.',\n",
              "  {'cats': {'ham': True, 'spam': False}}),\n",
              " ('Congrats! 2 mobile 3G Videophones R yours. call 09063458130 now! videochat wid your mates, play java games, Dload polyPH music, noline rentl.',\n",
              "  {'cats': {'ham': False, 'spam': True}}),\n",
              " ('LOOK AT THE FUCKIN TIME. WHAT THE FUCK YOU THINK IS UP',\n",
              "  {'cats': {'ham': True, 'spam': False}}),\n",
              " ('Yo guess what I just dropped', {'cats': {'ham': True, 'spam': False}}),\n",
              " (\"Carlos says he'll be at mu in  &lt;#&gt;  minutes\",\n",
              "  {'cats': {'ham': True, 'spam': False}}),\n",
              " (\"I'm in office now . I will call you  &lt;#&gt;  min:)\",\n",
              "  {'cats': {'ham': True, 'spam': False}}),\n",
              " (\"Geeee ... I miss you already, you know ? Your all I can think about. Fuck, I can't wait till next year when we will be together ... *loving kiss*\",\n",
              "  {'cats': {'ham': True, 'spam': False}}),\n",
              " ('Yun ah.the ubi one say if ╠_ wan call by tomorrow.call 67441233 look for irene.ere only got bus8,22,65,61,66,382. Ubi cres,ubi tech park.6ph for 1st 5wkg days.╠¼n',\n",
              "  {'cats': {'ham': True, 'spam': False}}),\n",
              " ('Ugh. Gotta drive back to sd from la. My butt is sore.',\n",
              "  {'cats': {'ham': True, 'spam': False}}),\n",
              " ('26th OF JULY', {'cats': {'ham': True, 'spam': False}}),\n",
              " ('Hi im having the most relaxing time ever! we have to get up at 7am every day! was the party good the other night? I get home tomorrow at 5ish.',\n",
              "  {'cats': {'ham': True, 'spam': False}}),\n",
              " ('Up to ╠_... ╠╧ wan come then come lor... But i din c any stripes skirt...',\n",
              "  {'cats': {'ham': True, 'spam': False}}),\n",
              " ('The Xmas story is peace.. The Xmas msg is love.. The Xmas miracle is jesus.. Hav a blessed month ahead &amp; wish U Merry Xmas...',\n",
              "  {'cats': {'ham': True, 'spam': False}}),\n",
              " (\"I can't, I don't have her number!\", {'cats': {'ham': True, 'spam': False}}),\n",
              " (\"Change again... It's e one next to escalator...\",\n",
              "  {'cats': {'ham': True, 'spam': False}}),\n",
              " (\"Yetunde i'm in class can you not run water on it to make it ok. Pls now.\",\n",
              "  {'cats': {'ham': True, 'spam': False}}),\n",
              " ('Not a lot has happened here. Feels very quiet. Beth is at her aunts and charlie is working lots. Just me and helen in at the mo. How have you been? ',\n",
              "  {'cats': {'ham': True, 'spam': False}}),\n",
              " ('Then ╠_ wait 4 me at bus stop aft ur lect lar. If i dun c ╠_ then i go get my car then come back n pick ╠_.',\n",
              "  {'cats': {'ham': True, 'spam': False}}),\n",
              " ('Aight will do, thanks again for comin out',\n",
              "  {'cats': {'ham': True, 'spam': False}}),\n",
              " ...]"
            ]
          },
          "metadata": {
            "tags": []
          },
          "execution_count": 38
        }
      ]
    },
    {
      "cell_type": "code",
      "metadata": {
        "id": "4gZUmF0f2Sbw"
      },
      "source": [
        "from spacy.util import minibatch"
      ],
      "execution_count": null,
      "outputs": []
    },
    {
      "cell_type": "code",
      "metadata": {
        "id": "x4AhBgyT2sVi"
      },
      "source": [
        "spacy.util.fix_random_seed(1)"
      ],
      "execution_count": null,
      "outputs": []
    },
    {
      "cell_type": "code",
      "metadata": {
        "id": "EFl7h8vU2vZe"
      },
      "source": [
        "optimizer = nlp.begin_training()"
      ],
      "execution_count": null,
      "outputs": []
    },
    {
      "cell_type": "code",
      "metadata": {
        "id": "1rRZLxCZ27J8"
      },
      "source": [
        "#create a batch generator with batch size 8\n",
        "batches = minibatch(train_data, size=8)"
      ],
      "execution_count": null,
      "outputs": []
    },
    {
      "cell_type": "code",
      "metadata": {
        "colab": {
          "base_uri": "https://localhost:8080/"
        },
        "id": "CHlhwErt3TX2",
        "outputId": "b211f96e-8141-40ea-d10e-cfb2930d80ee"
      },
      "source": [
        "losses1 = {}\n",
        "for batch in batches:\n",
        "  texts, labels = zip(*batch)\n",
        "  nlp.update(texts, labels, sgd=optimizer,losses=losses1)\n",
        "print(losses1)"
      ],
      "execution_count": null,
      "outputs": [
        {
          "output_type": "stream",
          "text": [
            "{'textcat': 1.3199655965818238}\n"
          ],
          "name": "stdout"
        }
      ]
    },
    {
      "cell_type": "markdown",
      "metadata": {
        "id": "tUkpT7he5jGo"
      },
      "source": [
        "For multiple loops (epochs)"
      ]
    },
    {
      "cell_type": "code",
      "metadata": {
        "id": "cbwxsCft30Vv"
      },
      "source": [
        "import random"
      ],
      "execution_count": null,
      "outputs": []
    },
    {
      "cell_type": "code",
      "metadata": {
        "id": "wIzYkYJZ5XMu"
      },
      "source": [
        "random.seed(1)\n",
        "spacy.util.fix_random_seed(1)"
      ],
      "execution_count": null,
      "outputs": []
    },
    {
      "cell_type": "code",
      "metadata": {
        "id": "hGKub_4m5ZtN"
      },
      "source": [
        "optimizer = nlp.begin_training()"
      ],
      "execution_count": null,
      "outputs": []
    },
    {
      "cell_type": "code",
      "metadata": {
        "colab": {
          "base_uri": "https://localhost:8080/"
        },
        "id": "_ClBA4Vm5iTI",
        "outputId": "1ddf4f11-811b-4789-995d-aa4ef823a7aa"
      },
      "source": [
        "losses = {}\n",
        "for epoch in range(10):\n",
        "  random.shuffle(train_data)\n",
        "  batches=minibatch(train_data,size=8)\n",
        "  for batch in batches:\n",
        "    texts,labels = zip(*batch)\n",
        "    nlp.update(texts,labels,sgd=optimizer,losses=losses)\n",
        "  print(losses)"
      ],
      "execution_count": null,
      "outputs": [
        {
          "output_type": "stream",
          "text": [
            "{'textcat': 0.43034495428997843}\n",
            "{'textcat': 0.6449593603104802}\n",
            "{'textcat': 0.7809537190790161}\n",
            "{'textcat': 0.8668792340289992}\n",
            "{'textcat': 0.922076835382523}\n",
            "{'textcat': 0.9587877583270735}\n",
            "{'textcat': 0.9865144553330739}\n",
            "{'textcat': 1.0048029720447071}\n",
            "{'textcat': 1.019113017788869}\n",
            "{'textcat': 1.0290381479702098}\n"
          ],
          "name": "stdout"
        }
      ]
    },
    {
      "cell_type": "code",
      "metadata": {
        "id": "K0c6C4Y56-9w"
      },
      "source": [
        "texts = [\"Are you ready for the tea party?\",\"URGENT Reply to this message for Guranteed money\"]"
      ],
      "execution_count": null,
      "outputs": []
    },
    {
      "cell_type": "code",
      "metadata": {
        "id": "GdpeFl8sVnbv"
      },
      "source": [
        "docs = [nlp.tokenizer(text) for text in texts]"
      ],
      "execution_count": null,
      "outputs": []
    },
    {
      "cell_type": "code",
      "metadata": {
        "id": "VErlYKxcVvU5"
      },
      "source": [
        "textcat = nlp.get_pipe('textcat')"
      ],
      "execution_count": null,
      "outputs": []
    },
    {
      "cell_type": "code",
      "metadata": {
        "id": "sxXELVH1V46R"
      },
      "source": [
        "scores, _ = textcat.predict(docs)"
      ],
      "execution_count": null,
      "outputs": []
    },
    {
      "cell_type": "code",
      "metadata": {
        "colab": {
          "base_uri": "https://localhost:8080/"
        },
        "id": "QvGYIBxTV9au",
        "outputId": "405e8b26-75c1-45b5-944e-1713c062d0cb"
      },
      "source": [
        "scores"
      ],
      "execution_count": null,
      "outputs": [
        {
          "output_type": "execute_result",
          "data": {
            "text/plain": [
              "array([[0.99467224, 0.00532773],\n",
              "       [0.24507679, 0.75492316]], dtype=float32)"
            ]
          },
          "metadata": {
            "tags": []
          },
          "execution_count": 52
        }
      ]
    },
    {
      "cell_type": "code",
      "metadata": {
        "id": "MPWnVywQWG4h"
      },
      "source": [
        "predicted_labels = scores.argmax(axis=1)"
      ],
      "execution_count": null,
      "outputs": []
    },
    {
      "cell_type": "code",
      "metadata": {
        "colab": {
          "base_uri": "https://localhost:8080/"
        },
        "id": "hnZ21asHWQMT",
        "outputId": "6d546ef0-f256-4029-fca8-24203cc1f47c"
      },
      "source": [
        "print([textcat.labels[label] for label in predicted_labels])"
      ],
      "execution_count": null,
      "outputs": [
        {
          "output_type": "stream",
          "text": [
            "['ham', 'spam']\n"
          ],
          "name": "stdout"
        }
      ]
    },
    {
      "cell_type": "markdown",
      "metadata": {
        "id": "J2hkuNuhaia-"
      },
      "source": [
        "## Day 4"
      ]
    },
    {
      "cell_type": "code",
      "metadata": {
        "colab": {
          "base_uri": "https://localhost:8080/"
        },
        "id": "w--zY3J1aygj",
        "outputId": "14470bc8-08f4-41de-fdbf-35a0dee3aaf2"
      },
      "source": [
        "!python -m spacy download en_core_web_lg"
      ],
      "execution_count": null,
      "outputs": [
        {
          "output_type": "stream",
          "text": [
            "Collecting en_core_web_lg==2.2.5\n",
            "\u001b[?25l  Downloading https://github.com/explosion/spacy-models/releases/download/en_core_web_lg-2.2.5/en_core_web_lg-2.2.5.tar.gz (827.9MB)\n",
            "\u001b[K     |████████████████████████████████| 827.9MB 1.2MB/s \n",
            "\u001b[?25hRequirement already satisfied: spacy>=2.2.2 in /usr/local/lib/python3.7/dist-packages (from en_core_web_lg==2.2.5) (2.2.4)\n",
            "Requirement already satisfied: murmurhash<1.1.0,>=0.28.0 in /usr/local/lib/python3.7/dist-packages (from spacy>=2.2.2->en_core_web_lg==2.2.5) (1.0.5)\n",
            "Requirement already satisfied: cymem<2.1.0,>=2.0.2 in /usr/local/lib/python3.7/dist-packages (from spacy>=2.2.2->en_core_web_lg==2.2.5) (2.0.5)\n",
            "Requirement already satisfied: catalogue<1.1.0,>=0.0.7 in /usr/local/lib/python3.7/dist-packages (from spacy>=2.2.2->en_core_web_lg==2.2.5) (1.0.0)\n",
            "Requirement already satisfied: srsly<1.1.0,>=1.0.2 in /usr/local/lib/python3.7/dist-packages (from spacy>=2.2.2->en_core_web_lg==2.2.5) (1.0.5)\n",
            "Requirement already satisfied: setuptools in /usr/local/lib/python3.7/dist-packages (from spacy>=2.2.2->en_core_web_lg==2.2.5) (57.0.0)\n",
            "Requirement already satisfied: numpy>=1.15.0 in /usr/local/lib/python3.7/dist-packages (from spacy>=2.2.2->en_core_web_lg==2.2.5) (1.19.5)\n",
            "Requirement already satisfied: thinc==7.4.0 in /usr/local/lib/python3.7/dist-packages (from spacy>=2.2.2->en_core_web_lg==2.2.5) (7.4.0)\n",
            "Requirement already satisfied: requests<3.0.0,>=2.13.0 in /usr/local/lib/python3.7/dist-packages (from spacy>=2.2.2->en_core_web_lg==2.2.5) (2.23.0)\n",
            "Requirement already satisfied: blis<0.5.0,>=0.4.0 in /usr/local/lib/python3.7/dist-packages (from spacy>=2.2.2->en_core_web_lg==2.2.5) (0.4.1)\n",
            "Requirement already satisfied: preshed<3.1.0,>=3.0.2 in /usr/local/lib/python3.7/dist-packages (from spacy>=2.2.2->en_core_web_lg==2.2.5) (3.0.5)\n",
            "Requirement already satisfied: wasabi<1.1.0,>=0.4.0 in /usr/local/lib/python3.7/dist-packages (from spacy>=2.2.2->en_core_web_lg==2.2.5) (0.8.2)\n",
            "Requirement already satisfied: plac<1.2.0,>=0.9.6 in /usr/local/lib/python3.7/dist-packages (from spacy>=2.2.2->en_core_web_lg==2.2.5) (1.1.3)\n",
            "Requirement already satisfied: tqdm<5.0.0,>=4.38.0 in /usr/local/lib/python3.7/dist-packages (from spacy>=2.2.2->en_core_web_lg==2.2.5) (4.41.1)\n",
            "Requirement already satisfied: importlib-metadata>=0.20; python_version < \"3.8\" in /usr/local/lib/python3.7/dist-packages (from catalogue<1.1.0,>=0.0.7->spacy>=2.2.2->en_core_web_lg==2.2.5) (4.5.0)\n",
            "Requirement already satisfied: certifi>=2017.4.17 in /usr/local/lib/python3.7/dist-packages (from requests<3.0.0,>=2.13.0->spacy>=2.2.2->en_core_web_lg==2.2.5) (2021.5.30)\n",
            "Requirement already satisfied: urllib3!=1.25.0,!=1.25.1,<1.26,>=1.21.1 in /usr/local/lib/python3.7/dist-packages (from requests<3.0.0,>=2.13.0->spacy>=2.2.2->en_core_web_lg==2.2.5) (1.24.3)\n",
            "Requirement already satisfied: chardet<4,>=3.0.2 in /usr/local/lib/python3.7/dist-packages (from requests<3.0.0,>=2.13.0->spacy>=2.2.2->en_core_web_lg==2.2.5) (3.0.4)\n",
            "Requirement already satisfied: idna<3,>=2.5 in /usr/local/lib/python3.7/dist-packages (from requests<3.0.0,>=2.13.0->spacy>=2.2.2->en_core_web_lg==2.2.5) (2.10)\n",
            "Requirement already satisfied: typing-extensions>=3.6.4; python_version < \"3.8\" in /usr/local/lib/python3.7/dist-packages (from importlib-metadata>=0.20; python_version < \"3.8\"->catalogue<1.1.0,>=0.0.7->spacy>=2.2.2->en_core_web_lg==2.2.5) (3.7.4.3)\n",
            "Requirement already satisfied: zipp>=0.5 in /usr/local/lib/python3.7/dist-packages (from importlib-metadata>=0.20; python_version < \"3.8\"->catalogue<1.1.0,>=0.0.7->spacy>=2.2.2->en_core_web_lg==2.2.5) (3.4.1)\n",
            "Building wheels for collected packages: en-core-web-lg\n",
            "  Building wheel for en-core-web-lg (setup.py) ... \u001b[?25l\u001b[?25hdone\n",
            "  Created wheel for en-core-web-lg: filename=en_core_web_lg-2.2.5-cp37-none-any.whl size=829180945 sha256=dda786b50006a52571f9e66ba6ef6ddbc552ca7f91017577e614cbde0baad975\n",
            "  Stored in directory: /tmp/pip-ephem-wheel-cache-dgqjwi_m/wheels/2a/c1/a6/fc7a877b1efca9bc6a089d6f506f16d3868408f9ff89f8dbfc\n",
            "Successfully built en-core-web-lg\n",
            "Installing collected packages: en-core-web-lg\n",
            "Successfully installed en-core-web-lg-2.2.5\n",
            "\u001b[38;5;2m✔ Download and installation successful\u001b[0m\n",
            "You can now load the model via spacy.load('en_core_web_lg')\n"
          ],
          "name": "stdout"
        }
      ]
    },
    {
      "cell_type": "code",
      "metadata": {
        "id": "FHMFqoM9WcEX"
      },
      "source": [
        "import numpy as np\n",
        "import spacy"
      ],
      "execution_count": null,
      "outputs": []
    },
    {
      "cell_type": "code",
      "metadata": {
        "id": "WQMvmJ9laozC"
      },
      "source": [
        "nlp = spacy.load('en_core_web_lg')"
      ],
      "execution_count": null,
      "outputs": []
    },
    {
      "cell_type": "code",
      "metadata": {
        "id": "A1BLsLiFbDa0"
      },
      "source": [
        "text = \"These vectors can be used as features for machine learning models.\""
      ],
      "execution_count": null,
      "outputs": []
    },
    {
      "cell_type": "code",
      "metadata": {
        "id": "jwYy6fCYcYEY"
      },
      "source": [
        "vectors = np.array([token.vector for token in nlp(text)])"
      ],
      "execution_count": null,
      "outputs": []
    },
    {
      "cell_type": "code",
      "metadata": {
        "colab": {
          "base_uri": "https://localhost:8080/"
        },
        "id": "nuxmWaM4cfUw",
        "outputId": "e221487d-3920-4813-88a7-73b07e165679"
      },
      "source": [
        "vectors.shape"
      ],
      "execution_count": null,
      "outputs": [
        {
          "output_type": "execute_result",
          "data": {
            "text/plain": [
              "(12, 300)"
            ]
          },
          "metadata": {
            "tags": []
          },
          "execution_count": 5
        }
      ]
    },
    {
      "cell_type": "code",
      "metadata": {
        "id": "7X395e8JchPJ",
        "colab": {
          "base_uri": "https://localhost:8080/"
        },
        "outputId": "ca106cb2-2947-40fb-ab0b-d03dbfa7814b"
      },
      "source": [
        "print(vectors)"
      ],
      "execution_count": null,
      "outputs": [
        {
          "output_type": "stream",
          "text": [
            "[[-0.1965    -0.13995   -0.52495   ... -0.097467   0.34578   -0.14233  ]\n",
            " [-0.25205   -0.16047   -0.6089    ...  0.19218   -0.40028    0.51894  ]\n",
            " [-0.23857    0.35457   -0.30219   ... -0.35283    0.41888    0.13168  ]\n",
            " ...\n",
            " [ 0.047511   0.1404    -0.11736   ...  0.03169   -0.14208    0.42548  ]\n",
            " [ 0.0065037  0.2064     0.0089077 ...  0.033444  -0.030121  -0.12998  ]\n",
            " [ 0.012001   0.20751   -0.12578   ...  0.13871   -0.36049   -0.035    ]]\n"
          ],
          "name": "stdout"
        }
      ]
    },
    {
      "cell_type": "code",
      "metadata": {
        "colab": {
          "base_uri": "https://localhost:8080/"
        },
        "id": "O6b9SaOrksZ_",
        "outputId": "c78113fe-331a-494c-e4d4-5c29d1cb07a9"
      },
      "source": [
        "print(vectors[0])"
      ],
      "execution_count": null,
      "outputs": [
        {
          "output_type": "stream",
          "text": [
            "[-1.9650e-01 -1.3995e-01 -5.2495e-01 -2.4756e-01 -1.9766e-01  1.1652e-01\n",
            " -3.5867e-01  2.2617e-01  1.9777e-01  2.4174e+00 -1.4429e-01 -2.2122e-01\n",
            "  3.6110e-01 -1.9718e-01  8.2148e-02 -8.2776e-02 -8.8343e-02  1.4324e+00\n",
            " -2.5540e-01 -1.5997e-01  2.6879e-02 -2.1031e-01 -6.6274e-02 -1.2712e-01\n",
            " -3.4628e-01  1.7385e-01 -1.1765e-01 -1.1228e-01  7.3088e-02  1.0363e-01\n",
            "  4.4076e-02  4.9083e-01  1.4805e-02 -1.3679e-01  9.2625e-02 -9.1950e-02\n",
            "  5.9530e-02  8.7379e-02 -7.0591e-02  2.2661e-01 -4.9048e-01 -9.7290e-02\n",
            "  6.9595e-02  3.2322e-04  1.0677e-01 -6.9300e-02  5.2730e-02  3.2494e-01\n",
            "  8.4942e-02 -5.4211e-02 -4.3229e-01  1.9370e-01 -3.4058e-01 -9.9482e-02\n",
            "  1.4862e-02  9.6617e-02 -1.3798e-01  9.1556e-02 -1.3270e-01  2.2825e-01\n",
            "  3.6487e-01 -3.3364e-01 -2.4517e-01  4.2809e-01  1.0876e-01  1.6533e-01\n",
            "  2.0959e-01  3.9454e-01  1.8574e-01 -1.8073e-01  5.1004e-01 -2.0578e-01\n",
            "  7.0082e-01  1.0200e-01  2.0585e-01 -4.6654e-02 -7.0956e-02  1.2990e-01\n",
            " -4.5945e-02  5.6986e-02  2.9182e-02 -2.0468e-02 -4.8570e-01 -2.1872e-01\n",
            " -1.0166e-01 -3.0258e-01 -5.1022e-01  3.6398e-02  2.0408e-03  2.5121e-02\n",
            " -3.9369e-02  1.2883e-01 -1.8202e-01  1.2179e-01  2.6762e-01  4.9322e-01\n",
            " -1.4152e-01 -9.3389e-02 -2.5596e-01 -3.3079e-01  1.1491e-02  2.0298e-01\n",
            " -1.7165e-01 -3.0878e-02  3.2595e-01 -1.5338e+00 -8.9915e-02 -4.5601e-02\n",
            " -1.8006e-01  2.5239e-01  6.5659e-02 -2.4607e-01  1.5399e-01 -1.0336e-01\n",
            " -4.6997e-02 -2.9375e-01 -1.6188e-01  2.0747e-01 -1.2818e-01  1.1067e-01\n",
            "  3.0103e-01 -2.4288e-03 -1.6197e-01  8.5280e-02  4.5825e-01  2.5887e-02\n",
            "  1.7673e-01 -1.1910e-02  3.0842e-01  7.1846e-02  6.7900e-02 -1.5398e-01\n",
            " -5.6123e-02 -3.1822e-01  3.0789e-02  4.7469e-01 -1.1914e-01  3.2311e-02\n",
            "  1.8973e-01  4.3486e-01 -1.3891e+00  4.7408e-02  1.7269e-01  6.8165e-03\n",
            "  2.5263e-03 -1.1106e-01 -6.9738e-02  4.7608e-02 -1.3308e-01  1.4589e-01\n",
            "  2.5296e-01 -5.7734e-02  4.9689e-02 -2.0268e-01 -1.5618e-01  2.2789e-03\n",
            " -4.6302e-01  5.1495e-03 -3.2487e-01 -2.8045e-01 -8.5836e-02  2.7458e-01\n",
            "  1.3738e-02  1.0497e-01 -1.0612e-01 -1.9633e-01  4.2981e-01 -1.2470e-01\n",
            " -6.2792e-02 -2.0703e-01 -1.4406e-01  4.8241e-01  4.2939e-01  2.3520e-01\n",
            " -6.3317e-02  1.5558e-01 -1.5010e-01  3.0754e-02  6.3224e-01  2.9571e-01\n",
            "  1.5528e-01  3.6879e-01  1.0869e-01  1.2260e-02 -1.0577e-01 -1.2584e-01\n",
            " -8.9060e-02 -5.1340e-01  5.0101e-01  3.8974e-01  2.5903e-01 -2.9328e-01\n",
            " -8.4741e-03 -1.4526e-02 -3.3936e-01  1.7682e-01 -9.8399e-02  1.2650e-01\n",
            " -2.0630e-01  1.4324e-01 -3.3099e-01 -4.0015e-01  3.2856e-02  1.7101e-02\n",
            "  2.6217e-01  4.0981e-02 -9.0689e-02  1.0663e-01  1.2828e-01 -8.9036e-02\n",
            "  3.2830e-01  2.5759e-01 -2.4043e-01 -3.3598e-01 -3.2271e-01  7.0116e-03\n",
            "  4.2817e-03  4.4862e-02 -3.6770e-01 -2.7578e-01  1.9212e-01  6.5066e-02\n",
            " -9.5128e-02  1.9819e-01  2.7582e-01  3.0654e-02 -4.0440e-01  8.0770e-03\n",
            " -1.3327e-01 -1.6835e-01 -1.9826e-01  9.1629e-02 -3.5051e-02  5.2311e-01\n",
            "  4.3041e-01 -2.0507e-01  1.2603e-01 -1.4006e-01 -9.9597e-02  1.2549e-01\n",
            "  4.8768e-02  1.4516e-01 -4.4699e-01  2.9449e-01  3.7240e-01  1.9918e-01\n",
            " -2.6925e-02 -1.7532e-01 -2.2549e-01  6.0379e-01 -2.4361e-02 -3.1570e-03\n",
            " -1.4268e-01 -7.6195e-02 -6.0556e-03  5.5012e-01  1.7698e-01  3.1779e-01\n",
            "  6.7267e-02  3.5549e-01  1.9768e-01  2.5353e-01 -2.3077e-01  7.5604e-02\n",
            " -2.7559e-01  3.7428e-01  3.3449e-01  4.0164e-01  1.0311e+00  1.4673e-01\n",
            " -2.1979e-01  1.0214e-01 -6.7363e-02 -3.6657e-01  1.2454e-01 -6.6230e-02\n",
            "  2.6419e-01  5.7257e-01 -1.2658e-01  1.3935e-01  1.2710e-01  3.4752e-01\n",
            " -8.4093e-02 -6.0127e-02  3.0035e-01  2.0155e-01  5.4858e-01 -1.7943e-02\n",
            "  9.6287e-02  8.3617e-03 -7.0502e-01 -2.5058e-02  1.0919e-01 -1.0879e-01\n",
            " -4.8697e-02 -1.8491e-01  4.0330e-02 -9.7467e-02  3.4578e-01 -1.4233e-01]\n"
          ],
          "name": "stdout"
        }
      ]
    },
    {
      "cell_type": "code",
      "metadata": {
        "id": "tMIKVQ_rkxtG"
      },
      "source": [
        "import pandas as pd"
      ],
      "execution_count": null,
      "outputs": []
    },
    {
      "cell_type": "code",
      "metadata": {
        "id": "m9fEVIj8lX_F"
      },
      "source": [
        "doc_vectors = np.array([nlp(text).vector for text in data.v2])"
      ],
      "execution_count": null,
      "outputs": []
    },
    {
      "cell_type": "code",
      "metadata": {
        "colab": {
          "base_uri": "https://localhost:8080/"
        },
        "id": "m-7WpUyZl4TF",
        "outputId": "3276c33a-d989-4e6c-f123-246d1b3f5776"
      },
      "source": [
        "doc_vectors.shape"
      ],
      "execution_count": null,
      "outputs": [
        {
          "output_type": "execute_result",
          "data": {
            "text/plain": [
              "(5572, 300)"
            ]
          },
          "metadata": {
            "tags": []
          },
          "execution_count": 15
        }
      ]
    },
    {
      "cell_type": "code",
      "metadata": {
        "id": "mcQL8tN2mGtV"
      },
      "source": [
        "from sklearn.model_selection import train_test_split"
      ],
      "execution_count": null,
      "outputs": []
    },
    {
      "cell_type": "code",
      "metadata": {
        "id": "QRMx-wrTmMOV"
      },
      "source": [
        "X_train, X_test, y_train, y_test = train_test_split(doc_vectors, data.v1, test_size=0.1, random_state=1)"
      ],
      "execution_count": null,
      "outputs": []
    },
    {
      "cell_type": "code",
      "metadata": {
        "id": "iyvweHDCmeb1"
      },
      "source": [
        "from sklearn.svm import LinearSVC"
      ],
      "execution_count": null,
      "outputs": []
    },
    {
      "cell_type": "code",
      "metadata": {
        "id": "fzox8ExFmx6L"
      },
      "source": [
        "svc = LinearSVC(random_state=1, dual=False, max_iter=10000)"
      ],
      "execution_count": null,
      "outputs": []
    },
    {
      "cell_type": "code",
      "metadata": {
        "colab": {
          "base_uri": "https://localhost:8080/"
        },
        "id": "Hs1yoPtEm9q5",
        "outputId": "f55b6c27-8901-4c90-c8f7-336a9a326142"
      },
      "source": [
        "svc.fit(X_train, y_train)"
      ],
      "execution_count": null,
      "outputs": [
        {
          "output_type": "execute_result",
          "data": {
            "text/plain": [
              "LinearSVC(C=1.0, class_weight=None, dual=False, fit_intercept=True,\n",
              "          intercept_scaling=1, loss='squared_hinge', max_iter=10000,\n",
              "          multi_class='ovr', penalty='l2', random_state=1, tol=0.0001,\n",
              "          verbose=0)"
            ]
          },
          "metadata": {
            "tags": []
          },
          "execution_count": 21
        }
      ]
    },
    {
      "cell_type": "code",
      "metadata": {
        "colab": {
          "base_uri": "https://localhost:8080/"
        },
        "id": "e4qbOr6FnFV0",
        "outputId": "b8451a53-8b0d-4bad-f336-c3cec550f140"
      },
      "source": [
        "svc.score(X_test, y_test)"
      ],
      "execution_count": null,
      "outputs": [
        {
          "output_type": "execute_result",
          "data": {
            "text/plain": [
              "0.974910394265233"
            ]
          },
          "metadata": {
            "tags": []
          },
          "execution_count": 22
        }
      ]
    },
    {
      "cell_type": "markdown",
      "metadata": {
        "id": "PuetNkLmFEKF"
      },
      "source": [
        "# Day 5\n",
        "# Cosine Similarity"
      ]
    },
    {
      "cell_type": "code",
      "metadata": {
        "colab": {
          "base_uri": "https://localhost:8080/"
        },
        "id": "kO__EOnBFDXP",
        "outputId": "eef9961a-330f-4cdb-b56e-99e35a08018b"
      },
      "source": [
        "!python -m spacy download en_core_web_lg"
      ],
      "execution_count": null,
      "outputs": [
        {
          "output_type": "stream",
          "text": [
            "Requirement already satisfied: en_core_web_lg==2.2.5 from https://github.com/explosion/spacy-models/releases/download/en_core_web_lg-2.2.5/en_core_web_lg-2.2.5.tar.gz#egg=en_core_web_lg==2.2.5 in /usr/local/lib/python3.7/dist-packages (2.2.5)\n",
            "Requirement already satisfied: spacy>=2.2.2 in /usr/local/lib/python3.7/dist-packages (from en_core_web_lg==2.2.5) (2.2.4)\n",
            "Requirement already satisfied: tqdm<5.0.0,>=4.38.0 in /usr/local/lib/python3.7/dist-packages (from spacy>=2.2.2->en_core_web_lg==2.2.5) (4.41.1)\n",
            "Requirement already satisfied: blis<0.5.0,>=0.4.0 in /usr/local/lib/python3.7/dist-packages (from spacy>=2.2.2->en_core_web_lg==2.2.5) (0.4.1)\n",
            "Requirement already satisfied: cymem<2.1.0,>=2.0.2 in /usr/local/lib/python3.7/dist-packages (from spacy>=2.2.2->en_core_web_lg==2.2.5) (2.0.5)\n",
            "Requirement already satisfied: catalogue<1.1.0,>=0.0.7 in /usr/local/lib/python3.7/dist-packages (from spacy>=2.2.2->en_core_web_lg==2.2.5) (1.0.0)\n",
            "Requirement already satisfied: preshed<3.1.0,>=3.0.2 in /usr/local/lib/python3.7/dist-packages (from spacy>=2.2.2->en_core_web_lg==2.2.5) (3.0.5)\n",
            "Requirement already satisfied: murmurhash<1.1.0,>=0.28.0 in /usr/local/lib/python3.7/dist-packages (from spacy>=2.2.2->en_core_web_lg==2.2.5) (1.0.5)\n",
            "Requirement already satisfied: srsly<1.1.0,>=1.0.2 in /usr/local/lib/python3.7/dist-packages (from spacy>=2.2.2->en_core_web_lg==2.2.5) (1.0.5)\n",
            "Requirement already satisfied: requests<3.0.0,>=2.13.0 in /usr/local/lib/python3.7/dist-packages (from spacy>=2.2.2->en_core_web_lg==2.2.5) (2.23.0)\n",
            "Requirement already satisfied: setuptools in /usr/local/lib/python3.7/dist-packages (from spacy>=2.2.2->en_core_web_lg==2.2.5) (57.0.0)\n",
            "Requirement already satisfied: wasabi<1.1.0,>=0.4.0 in /usr/local/lib/python3.7/dist-packages (from spacy>=2.2.2->en_core_web_lg==2.2.5) (0.8.2)\n",
            "Requirement already satisfied: numpy>=1.15.0 in /usr/local/lib/python3.7/dist-packages (from spacy>=2.2.2->en_core_web_lg==2.2.5) (1.19.5)\n",
            "Requirement already satisfied: thinc==7.4.0 in /usr/local/lib/python3.7/dist-packages (from spacy>=2.2.2->en_core_web_lg==2.2.5) (7.4.0)\n",
            "Requirement already satisfied: plac<1.2.0,>=0.9.6 in /usr/local/lib/python3.7/dist-packages (from spacy>=2.2.2->en_core_web_lg==2.2.5) (1.1.3)\n",
            "Requirement already satisfied: importlib-metadata>=0.20; python_version < \"3.8\" in /usr/local/lib/python3.7/dist-packages (from catalogue<1.1.0,>=0.0.7->spacy>=2.2.2->en_core_web_lg==2.2.5) (4.5.0)\n",
            "Requirement already satisfied: chardet<4,>=3.0.2 in /usr/local/lib/python3.7/dist-packages (from requests<3.0.0,>=2.13.0->spacy>=2.2.2->en_core_web_lg==2.2.5) (3.0.4)\n",
            "Requirement already satisfied: certifi>=2017.4.17 in /usr/local/lib/python3.7/dist-packages (from requests<3.0.0,>=2.13.0->spacy>=2.2.2->en_core_web_lg==2.2.5) (2021.5.30)\n",
            "Requirement already satisfied: idna<3,>=2.5 in /usr/local/lib/python3.7/dist-packages (from requests<3.0.0,>=2.13.0->spacy>=2.2.2->en_core_web_lg==2.2.5) (2.10)\n",
            "Requirement already satisfied: urllib3!=1.25.0,!=1.25.1,<1.26,>=1.21.1 in /usr/local/lib/python3.7/dist-packages (from requests<3.0.0,>=2.13.0->spacy>=2.2.2->en_core_web_lg==2.2.5) (1.24.3)\n",
            "Requirement already satisfied: zipp>=0.5 in /usr/local/lib/python3.7/dist-packages (from importlib-metadata>=0.20; python_version < \"3.8\"->catalogue<1.1.0,>=0.0.7->spacy>=2.2.2->en_core_web_lg==2.2.5) (3.4.1)\n",
            "Requirement already satisfied: typing-extensions>=3.6.4; python_version < \"3.8\" in /usr/local/lib/python3.7/dist-packages (from importlib-metadata>=0.20; python_version < \"3.8\"->catalogue<1.1.0,>=0.0.7->spacy>=2.2.2->en_core_web_lg==2.2.5) (3.7.4.3)\n",
            "\u001b[38;5;2m✔ Download and installation successful\u001b[0m\n",
            "You can now load the model via spacy.load('en_core_web_lg')\n"
          ],
          "name": "stdout"
        }
      ]
    },
    {
      "cell_type": "code",
      "metadata": {
        "id": "FrB-7lIlnMA5"
      },
      "source": [
        "import numpy as np\n",
        "import spacy"
      ],
      "execution_count": null,
      "outputs": []
    },
    {
      "cell_type": "code",
      "metadata": {
        "id": "11sAiIl-GoLG"
      },
      "source": [
        "nlp = spacy.load('en_core_web_lg')"
      ],
      "execution_count": null,
      "outputs": []
    },
    {
      "cell_type": "code",
      "metadata": {
        "id": "ppLaOwaVFaRg"
      },
      "source": [
        "def cosine_similarity(a,b):\n",
        "  return a.dot(b)/np.sqrt(a.dot(a) * b.dot(b))"
      ],
      "execution_count": null,
      "outputs": []
    },
    {
      "cell_type": "code",
      "metadata": {
        "id": "YSlt_sDnG5QB"
      },
      "source": [
        "a = nlp(\"A boy\").vector"
      ],
      "execution_count": null,
      "outputs": []
    },
    {
      "cell_type": "code",
      "metadata": {
        "id": "SMmYQOrFHCt8"
      },
      "source": [
        "b = nlp(\"A girl\").vector"
      ],
      "execution_count": null,
      "outputs": []
    },
    {
      "cell_type": "code",
      "metadata": {
        "colab": {
          "base_uri": "https://localhost:8080/"
        },
        "id": "5E38MrAFHIBw",
        "outputId": "e9ac89a0-887b-4e8e-c4d2-8f39794e74f8"
      },
      "source": [
        "cosine_similarity(a,b)"
      ],
      "execution_count": null,
      "outputs": [
        {
          "output_type": "execute_result",
          "data": {
            "text/plain": [
              "0.9178547"
            ]
          },
          "metadata": {
            "tags": []
          },
          "execution_count": 45
        }
      ]
    }
  ]
}